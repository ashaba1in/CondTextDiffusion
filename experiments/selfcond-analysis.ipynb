{
 "cells": [
  {
   "cell_type": "code",
   "execution_count": 1,
   "id": "96811e4e-6ff2-4a68-8ee0-cf1923ee75ec",
   "metadata": {
    "tags": []
   },
   "outputs": [],
   "source": [
    "%load_ext autoreload\n",
    "%autoreload 2"
   ]
  },
  {
   "cell_type": "code",
   "execution_count": 2,
   "id": "4dcfec2c-b5d5-44fe-84fa-237594df13ee",
   "metadata": {
    "tags": []
   },
   "outputs": [],
   "source": [
    "import sys\n",
    "\n",
    "sys.path.append(\"/home/vmeshchaninov/DiffusionTextGeneration-cond-ca/\")"
   ]
  },
  {
   "cell_type": "code",
   "execution_count": 3,
   "id": "6c39afc2-8e73-4c29-a2d2-ccf6a2be1589",
   "metadata": {
    "tags": []
   },
   "outputs": [],
   "source": [
    "import torch\n",
    "import numpy as np\n",
    "import ml_collections\n",
    "import matplotlib.pyplot as plt\n",
    "import seaborn as sns\n",
    "\n",
    "from tqdm import tqdm\n",
    "from torch.utils.data import DataLoader\n",
    "from diffusion_holder import DiffusionRunner\n",
    "from transformers import BertConfig, BertTokenizerFast\n",
    "\n",
    "from diffusion_holder import DiffusionRunner\n",
    "from utils.util import set_seed, dict_to_cuda, mse_loss\n",
    "from estimation_utils.util import estimate_model, reduce_metrics, gather_texts\n",
    "import diffusion_utils.schedulers as schedulers"
   ]
  },
  {
   "cell_type": "code",
   "execution_count": 4,
   "id": "236bcd37-162f-4552-95a4-b9a1a9b2fdaf",
   "metadata": {
    "tags": []
   },
   "outputs": [],
   "source": [
    "sns.set_theme()"
   ]
  },
  {
   "cell_type": "markdown",
   "id": "8ce9f1fb-f2eb-4895-a25e-b6737509f5dc",
   "metadata": {
    "tags": []
   },
   "source": [
    "# Self-condition"
   ]
  },
  {
   "cell_type": "code",
   "execution_count": 5,
   "id": "35dfbf46-d1cf-4206-9e3f-283f9ebe7676",
   "metadata": {
    "tags": []
   },
   "outputs": [],
   "source": [
    "def create_config():\n",
    "    config = ml_collections.ConfigDict()\n",
    "\n",
    "    training = config.training = ml_collections.ConfigDict()\n",
    "    training.training_iters = 500_000\n",
    "    training.training_iters = training.training_iters\n",
    "    training.checkpoint_freq = 50_000\n",
    "    training.eval_freq = 5_000\n",
    "    training.batch_size = 512  # * 8\n",
    "\n",
    "    training.ode_sampling = False\n",
    "    training.checkpoints_folder = '../checkpoints/'\n",
    "    config.checkpoints_prefix = ''\n",
    "\n",
    "    loss = config.loss = ml_collections.ConfigDict()\n",
    "    loss.ce_coef = 0.\n",
    "\n",
    "    refresh = config.refresh = ml_collections.ConfigDict()\n",
    "    refresh.true = False\n",
    "    refresh.prefix = \"./checkpoints/wikipedia--t5-bert-self_cond_500000_.pth\"\n",
    "    refresh.wand_id = \"g5fb4af3\"\n",
    "\n",
    "    validation = config.validation = ml_collections.ConfigDict()\n",
    "    validation.batch_size = 256\n",
    "    validation.validation_iters = int(10_000 / validation.batch_size)\n",
    "    validation.num_gen_texts = 8192\n",
    "    validation.p_uncond = 0.\n",
    "\n",
    "    dynamic = config.dynamic = ml_collections.ConfigDict()\n",
    "    dynamic.solver = 'euler'\n",
    "    dynamic.scheduler = \"sd\"\n",
    "    dynamic.N = 100\n",
    "    dynamic.beta_min = 0.1\n",
    "    dynamic.beta_max = 20\n",
    "    dynamic.ode_sampling = False\n",
    "    dynamic.coef_d = 10\n",
    "\n",
    "    model = config.model = ml_collections.ConfigDict()\n",
    "    model.ema_rate = 0.9999\n",
    "    model.enc_type = \"base\"\n",
    "    model.embeddings_type = \"embeddings\"\n",
    "    model.dif_enc_type = \"base\"\n",
    "    model.downstream_task = \"\"  # \"qqp\"\n",
    "    model.dataset = \"wikipedia\"  # \"glue\"\n",
    "    model.prediction = \"x_0\"\n",
    "    model.loss = \"L_x_0\"\n",
    "    model.decoder_path = \"decoder-wikipedia-128.pth\"\n",
    "\n",
    "    data = config.data = ml_collections.ConfigDict()\n",
    "    data.max_sequence_len = 64\n",
    "    data.pos_begin = 0.0\n",
    "    data.pos_end = 0.67\n",
    "    data.enc_bert_mean = \"/home/vmeshchaninov/DiffusionTextGeneration-cond-ca/data/encodings-bert_base-wiki-mean.pt\"\n",
    "    data.enc_bert_std = \"/home/vmeshchaninov/DiffusionTextGeneration-cond-ca/data/encodings-bert_base-wiki-std.pt\"\n",
    "\n",
    "    data.enc_t5_mean = \"/home/vmeshchaninov/DiffusionTextGeneration-cond-ca/data/encodings-t5-wiki-mean.pth\"\n",
    "    data.enc_t5_std = \"/home/vmeshchaninov/DiffusionTextGeneration-cond-ca/data/encodings-t5-wiki-std.pth\"\n",
    "\n",
    "    config.finetuning = False\n",
    "    config.seed = 0\n",
    "    config.ddp = False\n",
    "    config.bert_config = BertConfig.from_pretrained(\"bert-base-uncased\")\n",
    "    config.use_self_cond = True\n",
    "    config.project_name = \"test\" #\"dtg-exps-1.0\"\n",
    "    config.timesteps = \"linear\"\n",
    "\n",
    "    return config"
   ]
  },
  {
   "cell_type": "code",
   "execution_count": 6,
   "id": "9aa774d0-7fb8-4c4e-805f-715505001301",
   "metadata": {
    "tags": []
   },
   "outputs": [
    {
     "name": "stderr",
     "output_type": "stream",
     "text": [
      "/home/vmeshchaninov/.conda/envs/fap2_env/lib/python3.9/site-packages/transformers/models/t5/tokenization_t5_fast.py:155: FutureWarning: This tokenizer was incorrectly instantiated with a model max length of 512 which will be corrected in Transformers v5.\n",
      "For now, this behavior is kept to avoid breaking backwards compatibility when padding/encoding with `truncation is True`.\n",
      "- Be aware that you SHOULD NOT rely on t5-base automatically truncating your input to 512 when padding/encoding.\n",
      "- If you want to encode/pad to sequences longer than 512 you can either instantiate this tokenizer with `model_max_length` or pass `max_length` when encoding/padding.\n",
      "- To avoid this warning, please instantiate this tokenizer with `model_max_length` set to your preferred value.\n",
      "  warnings.warn(\n",
      "Some weights of the model checkpoint at t5-base were not used when initializing T5EncoderModel: ['decoder.block.6.layer.0.SelfAttention.q.weight', 'decoder.block.11.layer.0.SelfAttention.o.weight', 'decoder.block.10.layer.1.EncDecAttention.v.weight', 'decoder.block.11.layer.1.EncDecAttention.q.weight', 'decoder.block.7.layer.1.EncDecAttention.k.weight', 'decoder.block.11.layer.1.layer_norm.weight', 'decoder.block.0.layer.0.SelfAttention.relative_attention_bias.weight', 'decoder.block.8.layer.0.SelfAttention.v.weight', 'decoder.block.7.layer.1.EncDecAttention.o.weight', 'decoder.block.8.layer.1.EncDecAttention.k.weight', 'decoder.block.0.layer.0.SelfAttention.q.weight', 'decoder.block.7.layer.0.SelfAttention.v.weight', 'decoder.block.8.layer.1.layer_norm.weight', 'decoder.block.2.layer.2.layer_norm.weight', 'decoder.block.1.layer.0.SelfAttention.v.weight', 'decoder.block.9.layer.2.layer_norm.weight', 'decoder.block.1.layer.2.DenseReluDense.wi.weight', 'decoder.block.0.layer.1.layer_norm.weight', 'decoder.block.0.layer.0.SelfAttention.k.weight', 'decoder.block.1.layer.1.EncDecAttention.v.weight', 'decoder.block.10.layer.0.SelfAttention.v.weight', 'decoder.block.3.layer.2.DenseReluDense.wo.weight', 'decoder.block.8.layer.1.EncDecAttention.q.weight', 'decoder.block.0.layer.2.layer_norm.weight', 'decoder.block.2.layer.0.SelfAttention.o.weight', 'decoder.block.8.layer.0.layer_norm.weight', 'decoder.block.10.layer.1.EncDecAttention.k.weight', 'decoder.block.5.layer.1.layer_norm.weight', 'decoder.block.7.layer.1.EncDecAttention.q.weight', 'decoder.block.11.layer.2.layer_norm.weight', 'decoder.block.2.layer.1.EncDecAttention.q.weight', 'decoder.block.9.layer.1.EncDecAttention.q.weight', 'decoder.block.9.layer.1.EncDecAttention.o.weight', 'decoder.block.10.layer.1.layer_norm.weight', 'decoder.block.2.layer.1.EncDecAttention.k.weight', 'decoder.block.7.layer.2.layer_norm.weight', 'decoder.block.6.layer.1.layer_norm.weight', 'decoder.block.9.layer.0.SelfAttention.v.weight', 'decoder.block.5.layer.1.EncDecAttention.k.weight', 'decoder.block.11.layer.0.SelfAttention.v.weight', 'decoder.block.8.layer.1.EncDecAttention.v.weight', 'decoder.block.5.layer.0.SelfAttention.k.weight', 'decoder.block.3.layer.2.DenseReluDense.wi.weight', 'decoder.block.9.layer.1.EncDecAttention.k.weight', 'decoder.block.2.layer.1.layer_norm.weight', 'decoder.block.11.layer.0.SelfAttention.k.weight', 'decoder.block.4.layer.0.SelfAttention.o.weight', 'decoder.block.8.layer.2.layer_norm.weight', 'decoder.block.10.layer.1.EncDecAttention.q.weight', 'decoder.block.1.layer.1.EncDecAttention.o.weight', 'decoder.block.4.layer.1.EncDecAttention.q.weight', 'decoder.block.9.layer.1.EncDecAttention.v.weight', 'decoder.block.4.layer.2.layer_norm.weight', 'decoder.block.3.layer.0.layer_norm.weight', 'decoder.block.7.layer.0.SelfAttention.k.weight', 'decoder.block.6.layer.2.layer_norm.weight', 'decoder.block.5.layer.2.layer_norm.weight', 'decoder.block.10.layer.0.SelfAttention.k.weight', 'decoder.block.5.layer.1.EncDecAttention.q.weight', 'decoder.block.5.layer.0.SelfAttention.v.weight', 'decoder.block.6.layer.1.EncDecAttention.o.weight', 'decoder.block.8.layer.0.SelfAttention.q.weight', 'decoder.final_layer_norm.weight', 'decoder.block.3.layer.1.EncDecAttention.v.weight', 'decoder.block.4.layer.0.SelfAttention.k.weight', 'decoder.block.4.layer.1.layer_norm.weight', 'decoder.block.7.layer.1.layer_norm.weight', 'decoder.block.10.layer.1.EncDecAttention.o.weight', 'decoder.block.4.layer.2.DenseReluDense.wo.weight', 'decoder.block.2.layer.0.SelfAttention.q.weight', 'decoder.block.1.layer.1.EncDecAttention.k.weight', 'decoder.block.7.layer.2.DenseReluDense.wo.weight', 'decoder.block.2.layer.2.DenseReluDense.wo.weight', 'decoder.block.6.layer.1.EncDecAttention.q.weight', 'decoder.block.6.layer.0.SelfAttention.k.weight', 'decoder.block.4.layer.1.EncDecAttention.k.weight', 'decoder.block.9.layer.2.DenseReluDense.wo.weight', 'decoder.block.0.layer.0.SelfAttention.o.weight', 'decoder.block.1.layer.2.layer_norm.weight', 'decoder.block.1.layer.1.layer_norm.weight', 'decoder.block.5.layer.0.SelfAttention.o.weight', 'decoder.block.0.layer.0.SelfAttention.v.weight', 'decoder.block.1.layer.0.SelfAttention.k.weight', 'decoder.block.11.layer.0.layer_norm.weight', 'decoder.block.11.layer.1.EncDecAttention.o.weight', 'decoder.block.0.layer.1.EncDecAttention.q.weight', 'decoder.block.6.layer.0.layer_norm.weight', 'decoder.block.9.layer.0.layer_norm.weight', 'decoder.block.4.layer.0.SelfAttention.q.weight', 'decoder.block.4.layer.1.EncDecAttention.v.weight', 'decoder.block.8.layer.2.DenseReluDense.wi.weight', 'decoder.block.5.layer.1.EncDecAttention.v.weight', 'decoder.block.3.layer.1.layer_norm.weight', 'decoder.block.6.layer.2.DenseReluDense.wi.weight', 'decoder.block.9.layer.2.DenseReluDense.wi.weight', 'decoder.block.8.layer.0.SelfAttention.k.weight', 'decoder.block.0.layer.1.EncDecAttention.o.weight', 'decoder.block.5.layer.0.layer_norm.weight', 'decoder.block.11.layer.1.EncDecAttention.k.weight', 'decoder.block.9.layer.0.SelfAttention.k.weight', 'decoder.block.0.layer.2.DenseReluDense.wo.weight', 'decoder.block.4.layer.2.DenseReluDense.wi.weight', 'decoder.block.4.layer.0.SelfAttention.v.weight', 'decoder.block.8.layer.1.EncDecAttention.o.weight', 'decoder.block.6.layer.1.EncDecAttention.k.weight', 'decoder.block.10.layer.2.DenseReluDense.wo.weight', 'decoder.block.3.layer.0.SelfAttention.v.weight', 'decoder.block.0.layer.1.EncDecAttention.v.weight', 'decoder.block.0.layer.0.layer_norm.weight', 'decoder.block.8.layer.2.DenseReluDense.wo.weight', 'decoder.block.11.layer.0.SelfAttention.q.weight', 'decoder.block.2.layer.2.DenseReluDense.wi.weight', 'decoder.block.1.layer.1.EncDecAttention.q.weight', 'decoder.block.1.layer.2.DenseReluDense.wo.weight', 'decoder.block.7.layer.1.EncDecAttention.v.weight', 'decoder.block.7.layer.0.SelfAttention.o.weight', 'decoder.block.4.layer.1.EncDecAttention.o.weight', 'decoder.block.10.layer.0.SelfAttention.o.weight', 'decoder.block.11.layer.2.DenseReluDense.wi.weight', 'decoder.block.3.layer.0.SelfAttention.q.weight', 'decoder.block.8.layer.0.SelfAttention.o.weight', 'decoder.block.7.layer.0.layer_norm.weight', 'decoder.block.7.layer.2.DenseReluDense.wi.weight', 'decoder.block.10.layer.2.DenseReluDense.wi.weight', 'decoder.block.5.layer.0.SelfAttention.q.weight', 'decoder.block.3.layer.0.SelfAttention.o.weight', 'decoder.block.6.layer.0.SelfAttention.v.weight', 'decoder.block.2.layer.0.SelfAttention.k.weight', 'decoder.block.1.layer.0.layer_norm.weight', 'decoder.block.3.layer.2.layer_norm.weight', 'decoder.block.5.layer.1.EncDecAttention.o.weight', 'decoder.block.2.layer.0.layer_norm.weight', 'decoder.block.1.layer.0.SelfAttention.o.weight', 'decoder.block.10.layer.2.layer_norm.weight', 'decoder.block.2.layer.1.EncDecAttention.v.weight', 'decoder.block.11.layer.2.DenseReluDense.wo.weight', 'decoder.block.9.layer.0.SelfAttention.q.weight', 'decoder.block.11.layer.1.EncDecAttention.v.weight', 'decoder.block.10.layer.0.layer_norm.weight', 'decoder.block.0.layer.2.DenseReluDense.wi.weight', 'decoder.block.6.layer.1.EncDecAttention.v.weight', 'decoder.block.9.layer.0.SelfAttention.o.weight', 'decoder.block.9.layer.1.layer_norm.weight', 'decoder.block.2.layer.1.EncDecAttention.o.weight', 'decoder.block.5.layer.2.DenseReluDense.wi.weight', 'decoder.block.3.layer.1.EncDecAttention.q.weight', 'decoder.block.2.layer.0.SelfAttention.v.weight', 'decoder.block.0.layer.1.EncDecAttention.k.weight', 'decoder.block.5.layer.2.DenseReluDense.wo.weight', 'decoder.block.1.layer.0.SelfAttention.q.weight', 'decoder.block.3.layer.0.SelfAttention.k.weight', 'decoder.block.4.layer.0.layer_norm.weight', 'decoder.block.6.layer.2.DenseReluDense.wo.weight', 'decoder.block.3.layer.1.EncDecAttention.o.weight', 'decoder.block.0.layer.1.EncDecAttention.relative_attention_bias.weight', 'decoder.block.3.layer.1.EncDecAttention.k.weight', 'decoder.block.10.layer.0.SelfAttention.q.weight', 'decoder.block.6.layer.0.SelfAttention.o.weight', 'decoder.block.7.layer.0.SelfAttention.q.weight']\n",
      "- This IS expected if you are initializing T5EncoderModel from the checkpoint of a model trained on another task or with another architecture (e.g. initializing a BertForSequenceClassification model from a BertForPreTraining model).\n",
      "- This IS NOT expected if you are initializing T5EncoderModel from the checkpoint of a model that you expect to be exactly identical (initializing a BertForSequenceClassification model from a BertForSequenceClassification model).\n",
      "Some weights of T5EncoderModel were not initialized from the model checkpoint at t5-base and are newly initialized: ['enc_normalizer.enc_mean', 'enc_normalizer.enc_std']\n",
      "You should probably TRAIN this model on a down-stream task to be able to use it for predictions and inference.\n",
      "If you want to use `BertLMHeadModel` as a standalone, add `is_decoder=True.`\n",
      "Some weights of the model checkpoint at bert-base-uncased were not used when initializing BertEncoderModel: ['cls.seq_relationship.bias', 'cls.seq_relationship.weight']\n",
      "- This IS expected if you are initializing BertEncoderModel from the checkpoint of a model trained on another task or with another architecture (e.g. initializing a BertForSequenceClassification model from a BertForPreTraining model).\n",
      "- This IS NOT expected if you are initializing BertEncoderModel from the checkpoint of a model that you expect to be exactly identical (initializing a BertForSequenceClassification model from a BertForSequenceClassification model).\n",
      "Some weights of BertEncoderModel were not initialized from the model checkpoint at bert-base-uncased and are newly initialized: ['enc_normalizer.enc_mean', 'enc_normalizer.enc_std']\n",
      "You should probably TRAIN this model on a down-stream task to be able to use it for predictions and inference.\n"
     ]
    },
    {
     "data": {
      "application/vnd.jupyter.widget-view+json": {
       "model_id": "ded8534a22854fe0a978c63893f7c16e",
       "version_major": 2,
       "version_minor": 0
      },
      "text/plain": [
       "Dataset tokenization (num_proc=30):   0%|          | 0/38661 [00:00<?, ? examples/s]"
      ]
     },
     "metadata": {},
     "output_type": "display_data"
    }
   ],
   "source": [
    "config = create_config()\n",
    "config.checkpoints_prefix = \"wikipedia--self_cond_time_shift_200000_\"\n",
    "\n",
    "diffusion = DiffusionRunner(config, latent_mode=config.model.embeddings_type, eval=True)"
   ]
  },
  {
   "cell_type": "code",
   "execution_count": 7,
   "id": "f1f2295d-66d7-4279-b7c2-1f9613821b38",
   "metadata": {
    "tags": []
   },
   "outputs": [
    {
     "name": "stderr",
     "output_type": "stream",
     "text": [
      "/home/vmeshchaninov/.conda/envs/fap2_env/lib/python3.9/site-packages/torch/utils/data/dataloader.py:561: UserWarning: This DataLoader will create 10 worker processes in total. Our suggested max number of worker in current system is 1, which is smaller than what this DataLoader is going to create. Please be aware that excessive worker creation might get DataLoader running slow or even freeze, lower the worker number to avoid potential slowness/freeze if necessary.\n",
      "  warnings.warn(_create_warning_msg(\n"
     ]
    }
   ],
   "source": [
    "diffusion.set_valid_data_generator()"
   ]
  },
  {
   "cell_type": "code",
   "execution_count": 20,
   "id": "7b8ba56b-1e13-480c-b3c3-ba1fc51e2072",
   "metadata": {
    "tags": []
   },
   "outputs": [],
   "source": [
    "loader = iter(diffusion.valid_loader)"
   ]
  },
  {
   "cell_type": "code",
   "execution_count": 21,
   "id": "2420204b-220f-4b2a-8834-2e0c50f0bf2b",
   "metadata": {
    "tags": []
   },
   "outputs": [],
   "source": [
    "X = next(loader)\n",
    "X = dict_to_cuda(X)\n",
    "\n",
    "with torch.no_grad():\n",
    "    clean_X = diffusion.encoder_gen(**{\"input_ids\": X[\"input_ids\"], \"attention_mask\": X[\"input_mask\"]})\n",
    "    cond_X = diffusion.encoder_cond(**{\"input_ids\": X[\"cond_ids\"], \"attention_mask\": X[\"cond_mask\"]})\n",
    "    \n",
    "cond_mask = X[\"cond_mask\"]\n",
    "attention_mask = None"
   ]
  },
  {
   "cell_type": "code",
   "execution_count": 22,
   "id": "82bdc794-3a15-4219-a6ed-277d72c23012",
   "metadata": {
    "tags": []
   },
   "outputs": [],
   "source": [
    "eps_t = 1. / diffusion.dynamic.N\n",
    "timesteps = torch.linspace(diffusion.dynamic.T, eps_t, diffusion.dynamic.N, device=diffusion.device)"
   ]
  },
  {
   "cell_type": "code",
   "execution_count": null,
   "id": "ed78ff85-dcee-4a59-a0c0-27986e89abbd",
   "metadata": {
    "tags": []
   },
   "outputs": [],
   "source": [
    "# No time shift\n",
    "\n",
    "set_seed(0)\n",
    "mask = None\n",
    "batch_size = clean_X.shape[0]\n",
    "\n",
    "with torch.no_grad():    \n",
    "    losses_x_0_w_selfcond = []\n",
    "    losses_x_0_wo_selfcond = []\n",
    "    \n",
    "    for t in tqdm(range(0, diffusion.dynamic.N)):\n",
    "        vec_t = t * 1. / diffusion.dynamic.N * torch.ones(batch_size, device=\"cuda:0\")\n",
    "        set_seed(0)\n",
    "        marg_forward = diffusion.dynamic.marginal(clean_X, vec_t)\n",
    "        \n",
    "        x_0_self_cond = torch.zeros_like(clean_X, dtype=clean_X.dtype)\n",
    "        x_t = marg_forward['x_t']\n",
    "        x_0 = diffusion.calc_score(\n",
    "            model=diffusion.score_estimator, x_t=x_t, t=vec_t, cond=cond_X, attention_mask=None, cond_mask=X[\"cond_mask\"],\n",
    "            x_0_self_cond=x_0_self_cond\n",
    "        )[\"x_0\"]\n",
    "        \n",
    "        loss = mse_loss(x_0, clean_X, mask)\n",
    "        losses_x_0_wo_selfcond.append(loss.item())\n",
    "        \n",
    "        x_0_self_cond = x_0\n",
    "        x_0 = diffusion.calc_score(\n",
    "            model=diffusion.score_estimator, x_t=x_t, t=vec_t, cond=cond_X, attention_mask=None, cond_mask=X[\"cond_mask\"],\n",
    "            x_0_self_cond=x_0_self_cond\n",
    "        )[\"x_0\"]\n",
    "        loss = mse_loss(x_0, clean_X, mask)\n",
    "        losses_x_0_w_selfcond.append(loss.item())"
   ]
  },
  {
   "cell_type": "code",
   "execution_count": 27,
   "id": "7aacc862-38c0-46cf-8eeb-5a0a3996384a",
   "metadata": {
    "tags": []
   },
   "outputs": [
    {
     "name": "stderr",
     "output_type": "stream",
     "text": [
      "100%|██████████| 100/100 [01:44<00:00,  1.04s/it]\n"
     ]
    }
   ],
   "source": [
    "# time shift\n",
    "\n",
    "set_seed(0)\n",
    "mask = None\n",
    "batch_size = clean_X.shape[0]\n",
    "\n",
    "with torch.no_grad():    \n",
    "    losses_x_0_w_selfcond = []\n",
    "    losses_x_0_wo_selfcond = []\n",
    "    \n",
    "    for t in tqdm(range(0, diffusion.dynamic.N)):\n",
    "        vec_t = t * 1. / diffusion.dynamic.N * torch.ones(batch_size, device=\"cuda:0\")\n",
    "        \n",
    "        # wo_selfcond\n",
    "        set_seed(0)\n",
    "        x_0_self_cond = torch.zeros_like(clean_X, dtype=clean_X.dtype)\n",
    "        marg_forward = diffusion.dynamic.marginal(clean_X, vec_t)\n",
    "        x_t = marg_forward['x_t']\n",
    "        x_0 = diffusion.calc_score(\n",
    "            model=diffusion.score_estimator, x_t=x_t, t=vec_t, cond=cond_X, attention_mask=None, cond_mask=X[\"cond_mask\"],\n",
    "            x_0_self_cond=x_0_self_cond\n",
    "        )[\"x_0\"]\n",
    "        \n",
    "        loss = mse_loss(x_0, clean_X, mask)\n",
    "        losses_x_0_wo_selfcond.append(loss.item())\n",
    "        \n",
    "        # w_selfcond\n",
    "        set_seed(0)\n",
    "        x_0_self_cond = torch.zeros_like(clean_X, dtype=clean_X.dtype)\n",
    "        vec_t_next = torch.clip(vec_t + 1 / 200, max=diffusion.dynamic.T)\n",
    "        marg_forward = diffusion.dynamic.marginal(clean_X, vec_t_next)\n",
    "        x_t = marg_forward['x_t']\n",
    "        x_0_self_cond = diffusion.calc_score(\n",
    "            model=diffusion.score_estimator, x_t=x_t, t=vec_t_next, cond=cond_X, attention_mask=None, cond_mask=X[\"cond_mask\"],\n",
    "            x_0_self_cond=x_0_self_cond\n",
    "        )[\"x_0\"].detach()\n",
    "        \n",
    "        x_0 = diffusion.calc_score(\n",
    "            model=diffusion.score_estimator, x_t=x_t, t=vec_t, cond=cond_X, attention_mask=None, cond_mask=X[\"cond_mask\"],\n",
    "            x_0_self_cond=x_0_self_cond\n",
    "        )[\"x_0\"]\n",
    "        loss = mse_loss(x_0, clean_X, mask)\n",
    "        losses_x_0_w_selfcond.append(loss.item())"
   ]
  },
  {
   "cell_type": "code",
   "execution_count": 24,
   "id": "3289d7e9-b222-4418-8a5a-1bdcb84e1a80",
   "metadata": {
    "tags": []
   },
   "outputs": [],
   "source": [
    "with open('tmp/trainsc-shifttime-w_selfcond.npy', 'wb') as f:\n",
    "    np.save(f, np.array(losses_x_0_w_selfcond))"
   ]
  },
  {
   "cell_type": "code",
   "execution_count": 25,
   "id": "b0fdd0e1-d7b5-401c-bd38-b1f7d65dd549",
   "metadata": {
    "tags": []
   },
   "outputs": [],
   "source": [
    "with open('tmp/trainsc-shifttime-wo_selfcond.npy', 'wb') as f:\n",
    "    np.save(f, np.array(losses_x_0_wo_selfcond))"
   ]
  },
  {
   "cell_type": "code",
   "execution_count": 28,
   "id": "ffcdca37-ac16-4ea0-a213-80db7b398c04",
   "metadata": {
    "tags": []
   },
   "outputs": [
    {
     "data": {
      "image/png": "[encoded data removed]",
      "text/plain": [
       "<Figure size 1500x800 with 1 Axes>"
      ]
     },
     "metadata": {},
     "output_type": "display_data"
    }
   ],
   "source": [
    "plt.figure(figsize=(15, 8))\n",
    "plt.xlabel('time', fontsize=24)\n",
    "plt.ylabel('loss', fontsize=24)\n",
    "plt.title(\"loss_x_0\", fontsize=24)\n",
    "plt.yticks(np.arange(0, 1.01, 0.05))\n",
    "timesteps = torch.linspace(0, 1, diffusion.dynamic.N)\n",
    "plt.plot(timesteps, losses_x_0_w_selfcond, label=\"trainsc-w_selfcond\")\n",
    "plt.plot(timesteps, losses_x_0_wo_selfcond, label=\"trainsc-wo_selfcond\")\n",
    "\n",
    "plt.legend(fontsize=24)\n",
    "plt.show()"
   ]
  },
  {
   "cell_type": "markdown",
   "id": "7fb6cfd5-888d-4245-bba3-ec27c9f96836",
   "metadata": {
    "tags": []
   },
   "source": [
    "### Test all dataloader"
   ]
  },
  {
   "cell_type": "code",
   "execution_count": 12,
   "id": "dd380a95-e2b6-470f-b724-988e62249a92",
   "metadata": {
    "tags": []
   },
   "outputs": [
    {
     "name": "stderr",
     "output_type": "stream",
     "text": [
      "0.505:   9%|▊         | 13/152 [00:13<01:36,  1.43it/s]Exception ignored in: <function tqdm.__del__ at 0x2b3acd277040>\n",
      "Traceback (most recent call last):\n",
      "  File \"/home/vmeshchaninov/.conda/envs/fap2_env/lib/python3.9/site-packages/tqdm/std.py\", line 1144, in __del__\n",
      "    def __del__(self):\n",
      "KeyboardInterrupt: \n",
      "0.505:   9%|▊         | 13/152 [00:14<02:32,  1.09s/it]\n"
     ]
    },
    {
     "ename": "KeyboardInterrupt",
     "evalue": "",
     "output_type": "error",
     "traceback": [
      "\u001b[0;31m---------------------------------------------------------------------------\u001b[0m",
      "\u001b[0;31mKeyboardInterrupt\u001b[0m                         Traceback (most recent call last)",
      "Cell \u001b[0;32mIn[12], line 37\u001b[0m\n\u001b[1;32m     35\u001b[0m \u001b[38;5;66;03m# model prediction\u001b[39;00m\n\u001b[1;32m     36\u001b[0m \u001b[38;5;28;01mwith\u001b[39;00m torch\u001b[38;5;241m.\u001b[39mautocast(device_type\u001b[38;5;241m=\u001b[39m\u001b[38;5;124m'\u001b[39m\u001b[38;5;124mcuda\u001b[39m\u001b[38;5;124m'\u001b[39m):\n\u001b[0;32m---> 37\u001b[0m     scores \u001b[38;5;241m=\u001b[39m \u001b[43mdiffusion\u001b[49m\u001b[38;5;241;43m.\u001b[39;49m\u001b[43mcalc_score\u001b[49m\u001b[43m(\u001b[49m\n\u001b[1;32m     38\u001b[0m \u001b[43m        \u001b[49m\u001b[43mmodel\u001b[49m\u001b[38;5;241;43m=\u001b[39;49m\u001b[43mdiffusion\u001b[49m\u001b[38;5;241;43m.\u001b[39;49m\u001b[43mddp_score_estimator\u001b[49m\u001b[43m,\u001b[49m\n\u001b[1;32m     39\u001b[0m \u001b[43m        \u001b[49m\u001b[43mx_t\u001b[49m\u001b[38;5;241;43m=\u001b[39;49m\u001b[43mx_t\u001b[49m\u001b[43m,\u001b[49m\n\u001b[1;32m     40\u001b[0m \u001b[43m        \u001b[49m\u001b[43mt\u001b[49m\u001b[38;5;241;43m=\u001b[39;49m\u001b[43mt\u001b[49m\u001b[43m,\u001b[49m\n\u001b[1;32m     41\u001b[0m \u001b[43m        \u001b[49m\u001b[43mcond\u001b[49m\u001b[38;5;241;43m=\u001b[39;49m\u001b[43mcond\u001b[49m\u001b[43m,\u001b[49m\n\u001b[1;32m     42\u001b[0m \u001b[43m        \u001b[49m\u001b[43mcond_mask\u001b[49m\u001b[38;5;241;43m=\u001b[39;49m\u001b[43mX\u001b[49m\u001b[43m[\u001b[49m\u001b[38;5;124;43m\"\u001b[39;49m\u001b[38;5;124;43mcond_mask\u001b[39;49m\u001b[38;5;124;43m\"\u001b[39;49m\u001b[43m]\u001b[49m\u001b[43m,\u001b[49m\n\u001b[1;32m     43\u001b[0m \u001b[43m        \u001b[49m\u001b[43mattention_mask\u001b[49m\u001b[38;5;241;43m=\u001b[39;49m\u001b[38;5;28;43;01mNone\u001b[39;49;00m\u001b[43m,\u001b[49m\n\u001b[1;32m     44\u001b[0m \u001b[43m        \u001b[49m\u001b[43mx_0_self_cond\u001b[49m\u001b[38;5;241;43m=\u001b[39;49m\u001b[43mx_0_self_cond\u001b[49m\u001b[43m,\u001b[49m\n\u001b[1;32m     45\u001b[0m \u001b[43m    \u001b[49m\u001b[43m)\u001b[49m\n\u001b[1;32m     47\u001b[0m \u001b[38;5;66;03m# MSE losses\u001b[39;00m\n\u001b[1;32m     48\u001b[0m x_0, eps_theta, score \u001b[38;5;241m=\u001b[39m scores[\u001b[38;5;124m\"\u001b[39m\u001b[38;5;124mx_0\u001b[39m\u001b[38;5;124m\"\u001b[39m], scores[\u001b[38;5;124m'\u001b[39m\u001b[38;5;124meps_theta\u001b[39m\u001b[38;5;124m'\u001b[39m], scores[\u001b[38;5;124m\"\u001b[39m\u001b[38;5;124mscore\u001b[39m\u001b[38;5;124m\"\u001b[39m]\n",
      "File \u001b[0;32m~/DiffusionTextGeneration-cond-ca/diffusion_holder.py:303\u001b[0m, in \u001b[0;36mDiffusionRunner.calc_score\u001b[0;34m(self, model, x_t, t, cond, attention_mask, cond_mask, x_0_self_cond)\u001b[0m\n\u001b[1;32m    297\u001b[0m \u001b[38;5;250m\u001b[39m\u001b[38;5;124;03m\"\"\"\u001b[39;00m\n\u001b[1;32m    298\u001b[0m \u001b[38;5;124;03mx_0 - prediction x_0(x_t, t)\u001b[39;00m\n\u001b[1;32m    299\u001b[0m \u001b[38;5;124;03meps = (x_t - sqrt(alpha_t) * x_0) / std\u001b[39;00m\n\u001b[1;32m    300\u001b[0m \u001b[38;5;124;03mscore = (-x_t + sqrt(alpha_t) * x_0) / std**2\u001b[39;00m\n\u001b[1;32m    301\u001b[0m \u001b[38;5;124;03m\"\"\"\u001b[39;00m\n\u001b[1;32m    302\u001b[0m params \u001b[38;5;241m=\u001b[39m \u001b[38;5;28mself\u001b[39m\u001b[38;5;241m.\u001b[39mdynamic\u001b[38;5;241m.\u001b[39mmarginal_params(t)\n\u001b[0;32m--> 303\u001b[0m x_0 \u001b[38;5;241m=\u001b[39m \u001b[43mmodel\u001b[49m\u001b[43m(\u001b[49m\n\u001b[1;32m    304\u001b[0m \u001b[43m    \u001b[49m\u001b[43mx_t\u001b[49m\u001b[38;5;241;43m=\u001b[39;49m\u001b[43mx_t\u001b[49m\u001b[43m,\u001b[49m\u001b[43m \u001b[49m\u001b[43mtime_t\u001b[49m\u001b[38;5;241;43m=\u001b[39;49m\u001b[43mt\u001b[49m\u001b[43m,\u001b[49m\u001b[43m \u001b[49m\u001b[43mcond\u001b[49m\u001b[38;5;241;43m=\u001b[39;49m\u001b[43mcond\u001b[49m\u001b[43m,\u001b[49m\n\u001b[1;32m    305\u001b[0m \u001b[43m    \u001b[49m\u001b[43mattention_mask\u001b[49m\u001b[38;5;241;43m=\u001b[39;49m\u001b[43mattention_mask\u001b[49m\u001b[43m,\u001b[49m\u001b[43m \u001b[49m\u001b[43mcond_mask\u001b[49m\u001b[38;5;241;43m=\u001b[39;49m\u001b[43mcond_mask\u001b[49m\u001b[43m,\u001b[49m\n\u001b[1;32m    306\u001b[0m \u001b[43m    \u001b[49m\u001b[43mx_0_self_cond\u001b[49m\u001b[38;5;241;43m=\u001b[39;49m\u001b[43mx_0_self_cond\u001b[49m\n\u001b[1;32m    307\u001b[0m \u001b[43m\u001b[49m\u001b[43m)\u001b[49m\n\u001b[1;32m    308\u001b[0m eps_theta \u001b[38;5;241m=\u001b[39m (x_t \u001b[38;5;241m-\u001b[39m params[\u001b[38;5;124m\"\u001b[39m\u001b[38;5;124mmu\u001b[39m\u001b[38;5;124m\"\u001b[39m] \u001b[38;5;241m*\u001b[39m x_0) \u001b[38;5;241m/\u001b[39m params[\u001b[38;5;124m\"\u001b[39m\u001b[38;5;124mstd\u001b[39m\u001b[38;5;124m\"\u001b[39m]\n\u001b[1;32m    309\u001b[0m score \u001b[38;5;241m=\u001b[39m \u001b[38;5;241m-\u001b[39meps_theta \u001b[38;5;241m/\u001b[39m params[\u001b[38;5;124m\"\u001b[39m\u001b[38;5;124mstd\u001b[39m\u001b[38;5;124m\"\u001b[39m]\n",
      "File \u001b[0;32m~/.conda/envs/fap2_env/lib/python3.9/site-packages/torch/nn/modules/module.py:1501\u001b[0m, in \u001b[0;36mModule._call_impl\u001b[0;34m(self, *args, **kwargs)\u001b[0m\n\u001b[1;32m   1496\u001b[0m \u001b[38;5;66;03m# If we don't have any hooks, we want to skip the rest of the logic in\u001b[39;00m\n\u001b[1;32m   1497\u001b[0m \u001b[38;5;66;03m# this function, and just call forward.\u001b[39;00m\n\u001b[1;32m   1498\u001b[0m \u001b[38;5;28;01mif\u001b[39;00m \u001b[38;5;129;01mnot\u001b[39;00m (\u001b[38;5;28mself\u001b[39m\u001b[38;5;241m.\u001b[39m_backward_hooks \u001b[38;5;129;01mor\u001b[39;00m \u001b[38;5;28mself\u001b[39m\u001b[38;5;241m.\u001b[39m_backward_pre_hooks \u001b[38;5;129;01mor\u001b[39;00m \u001b[38;5;28mself\u001b[39m\u001b[38;5;241m.\u001b[39m_forward_hooks \u001b[38;5;129;01mor\u001b[39;00m \u001b[38;5;28mself\u001b[39m\u001b[38;5;241m.\u001b[39m_forward_pre_hooks\n\u001b[1;32m   1499\u001b[0m         \u001b[38;5;129;01mor\u001b[39;00m _global_backward_pre_hooks \u001b[38;5;129;01mor\u001b[39;00m _global_backward_hooks\n\u001b[1;32m   1500\u001b[0m         \u001b[38;5;129;01mor\u001b[39;00m _global_forward_hooks \u001b[38;5;129;01mor\u001b[39;00m _global_forward_pre_hooks):\n\u001b[0;32m-> 1501\u001b[0m     \u001b[38;5;28;01mreturn\u001b[39;00m \u001b[43mforward_call\u001b[49m\u001b[43m(\u001b[49m\u001b[38;5;241;43m*\u001b[39;49m\u001b[43margs\u001b[49m\u001b[43m,\u001b[49m\u001b[43m \u001b[49m\u001b[38;5;241;43m*\u001b[39;49m\u001b[38;5;241;43m*\u001b[39;49m\u001b[43mkwargs\u001b[49m\u001b[43m)\u001b[49m\n\u001b[1;32m   1502\u001b[0m \u001b[38;5;66;03m# Do not call functions when jit is used\u001b[39;00m\n\u001b[1;32m   1503\u001b[0m full_backward_hooks, non_full_backward_hooks \u001b[38;5;241m=\u001b[39m [], []\n",
      "File \u001b[0;32m~/DiffusionTextGeneration-cond-ca/model/score_estimator_cond.py:198\u001b[0m, in \u001b[0;36mScoreEstimatorEMB.forward\u001b[0;34m(self, x_t, time_t, cond, attention_mask, cond_mask, x_0_self_cond)\u001b[0m\n\u001b[1;32m    187\u001b[0m \u001b[38;5;28;01mdef\u001b[39;00m \u001b[38;5;21mforward\u001b[39m(\n\u001b[1;32m    188\u001b[0m         \u001b[38;5;28mself\u001b[39m,\n\u001b[1;32m    189\u001b[0m         x_t: torch\u001b[38;5;241m.\u001b[39mTensor,\n\u001b[0;32m   (...)\u001b[0m\n\u001b[1;32m    194\u001b[0m         x_0_self_cond\u001b[38;5;241m=\u001b[39m\u001b[38;5;28;01mNone\u001b[39;00m,\n\u001b[1;32m    195\u001b[0m ):\n\u001b[1;32m    196\u001b[0m     \u001b[38;5;28;01massert\u001b[39;00m time_t \u001b[38;5;129;01mis\u001b[39;00m \u001b[38;5;129;01mnot\u001b[39;00m \u001b[38;5;28;01mNone\u001b[39;00m\n\u001b[0;32m--> 198\u001b[0m     emb_t \u001b[38;5;241m=\u001b[39m \u001b[43mtimestep_embedding\u001b[49m\u001b[43m(\u001b[49m\u001b[43mtime_t\u001b[49m\u001b[43m,\u001b[49m\u001b[43m \u001b[49m\u001b[38;5;28;43mself\u001b[39;49m\u001b[38;5;241;43m.\u001b[39;49m\u001b[43m_hidden_layer_dim\u001b[49m\u001b[43m)\u001b[49m\n\u001b[1;32m    199\u001b[0m     hidden_t \u001b[38;5;241m=\u001b[39m \u001b[38;5;28mself\u001b[39m\u001b[38;5;241m.\u001b[39mtime_emb(emb_t)\n\u001b[1;32m    200\u001b[0m     hidden_t \u001b[38;5;241m=\u001b[39m hidden_t[:, \u001b[38;5;28;01mNone\u001b[39;00m, :]\n",
      "File \u001b[0;32m~/DiffusionTextGeneration-cond-ca/model/score_estimator_cond.py:151\u001b[0m, in \u001b[0;36mtimestep_embedding\u001b[0;34m(timesteps, dim, max_period)\u001b[0m\n\u001b[1;32m    142\u001b[0m \u001b[38;5;250m\u001b[39m\u001b[38;5;124;03m\"\"\"\u001b[39;00m\n\u001b[1;32m    143\u001b[0m \u001b[38;5;124;03mCreate sinusoidal timestep embeddings.\u001b[39;00m\n\u001b[1;32m    144\u001b[0m \u001b[38;5;124;03m:param timesteps: a 1-D Tensor of N indices, one per batch element.\u001b[39;00m\n\u001b[0;32m   (...)\u001b[0m\n\u001b[1;32m    148\u001b[0m \u001b[38;5;124;03m:return: an [N x dim] Tensor of positional embeddings.\u001b[39;00m\n\u001b[1;32m    149\u001b[0m \u001b[38;5;124;03m\"\"\"\u001b[39;00m\n\u001b[1;32m    150\u001b[0m half \u001b[38;5;241m=\u001b[39m dim \u001b[38;5;241m/\u001b[39m\u001b[38;5;241m/\u001b[39m \u001b[38;5;241m2\u001b[39m\n\u001b[0;32m--> 151\u001b[0m freqs \u001b[38;5;241m=\u001b[39m \u001b[43mtorch\u001b[49m\u001b[38;5;241;43m.\u001b[39;49m\u001b[43mexp\u001b[49m\u001b[43m(\u001b[49m\n\u001b[1;32m    152\u001b[0m \u001b[43m    \u001b[49m\u001b[38;5;241;43m-\u001b[39;49m\u001b[43mmath\u001b[49m\u001b[38;5;241;43m.\u001b[39;49m\u001b[43mlog\u001b[49m\u001b[43m(\u001b[49m\u001b[43mmax_period\u001b[49m\u001b[43m)\u001b[49m\u001b[43m \u001b[49m\u001b[38;5;241;43m*\u001b[39;49m\u001b[43m \u001b[49m\u001b[43mtorch\u001b[49m\u001b[38;5;241;43m.\u001b[39;49m\u001b[43marange\u001b[49m\u001b[43m(\u001b[49m\u001b[43mstart\u001b[49m\u001b[38;5;241;43m=\u001b[39;49m\u001b[38;5;241;43m0\u001b[39;49m\u001b[43m,\u001b[49m\u001b[43m \u001b[49m\u001b[43mend\u001b[49m\u001b[38;5;241;43m=\u001b[39;49m\u001b[43mhalf\u001b[49m\u001b[43m,\u001b[49m\u001b[43m \u001b[49m\u001b[43mdtype\u001b[49m\u001b[38;5;241;43m=\u001b[39;49m\u001b[43mtorch\u001b[49m\u001b[38;5;241;43m.\u001b[39;49m\u001b[43mfloat32\u001b[49m\u001b[43m)\u001b[49m\u001b[43m \u001b[49m\u001b[38;5;241;43m/\u001b[39;49m\u001b[43m \u001b[49m\u001b[43mhalf\u001b[49m\n\u001b[1;32m    153\u001b[0m \u001b[43m\u001b[49m\u001b[43m)\u001b[49m\u001b[38;5;241;43m.\u001b[39;49m\u001b[43mto\u001b[49m\u001b[43m(\u001b[49m\u001b[43mdevice\u001b[49m\u001b[38;5;241;43m=\u001b[39;49m\u001b[43mtimesteps\u001b[49m\u001b[38;5;241;43m.\u001b[39;49m\u001b[43mdevice\u001b[49m\u001b[43m)\u001b[49m\n\u001b[1;32m    154\u001b[0m args \u001b[38;5;241m=\u001b[39m timesteps[:, \u001b[38;5;28;01mNone\u001b[39;00m]\u001b[38;5;241m.\u001b[39mfloat() \u001b[38;5;241m*\u001b[39m freqs[\u001b[38;5;28;01mNone\u001b[39;00m]\n\u001b[1;32m    155\u001b[0m embedding \u001b[38;5;241m=\u001b[39m torch\u001b[38;5;241m.\u001b[39mcat([torch\u001b[38;5;241m.\u001b[39mcos(args), torch\u001b[38;5;241m.\u001b[39msin(args)], dim\u001b[38;5;241m=\u001b[39m\u001b[38;5;241m-\u001b[39m\u001b[38;5;241m1\u001b[39m)\n",
      "\u001b[0;31mKeyboardInterrupt\u001b[0m: "
     ]
    }
   ],
   "source": [
    "losses = []\n",
    "eps = 1e-5\n",
    "\n",
    "import random\n",
    "\n",
    "with torch.no_grad():\n",
    "    T = tqdm(diffusion.valid_loader)\n",
    "    for X in T:\n",
    "        X = dict_to_cuda(X)\n",
    "\n",
    "        clean_x = diffusion.encoder_gen(**{\"input_ids\": X[\"input_ids\"], \"attention_mask\": X[\"input_mask\"]})\n",
    "        cond = diffusion.encoder_cond(**{\"input_ids\": X[\"cond_ids\"], \"attention_mask\": X[\"cond_mask\"]})\n",
    "\n",
    "        cond_mask = X[\"cond_mask\"]\n",
    "        batch_size = clean_x.shape[0]\n",
    "        t = diffusion.sample_time(batch_size, eps=eps)\n",
    "\n",
    "        # self-cond estimate\n",
    "        x_0_self_cond = torch.zeros_like(clean_x, dtype=clean_x.dtype)\n",
    "        if diffusion.use_self_cond and random.random() > 0.5:\n",
    "            with torch.autocast(device_type='cuda'):\n",
    "                t_next = torch.clip(t + 1 / 200, max=diffusion.dynamic.T)\n",
    "                marg_forward = diffusion.dynamic.marginal(clean_x, t_next)\n",
    "                x_t = marg_forward['x_t']\n",
    "                with torch.no_grad():\n",
    "                    x_0_self_cond = diffusion.ddp_score_estimator(\n",
    "                        x_t=x_t, time_t=t_next, cond=cond,\n",
    "                        attention_mask=None, cond_mask=X[\"cond_mask\"],\n",
    "                        x_0_self_cond=x_0_self_cond\n",
    "                    ).detach()\n",
    "\n",
    "        marg_forward = diffusion.dynamic.marginal(clean_x, t)\n",
    "        x_t, noise, score_clean = marg_forward['x_t'], marg_forward['noise'], marg_forward['score']\n",
    "\n",
    "        # model prediction\n",
    "        with torch.autocast(device_type='cuda'):\n",
    "            scores = diffusion.calc_score(\n",
    "                model=diffusion.ddp_score_estimator,\n",
    "                x_t=x_t,\n",
    "                t=t,\n",
    "                cond=cond,\n",
    "                cond_mask=X[\"cond_mask\"],\n",
    "                attention_mask=None,\n",
    "                x_0_self_cond=x_0_self_cond,\n",
    "            )\n",
    "\n",
    "        # MSE losses\n",
    "        x_0, eps_theta, score = scores[\"x_0\"], scores['eps_theta'], scores[\"score\"]\n",
    "\n",
    "        loss_x_0 = mse_loss(clean_x, x_0, None)\n",
    "        losses.append(loss_x_0.item())\n",
    "        T.set_description(f\"{np.mean(losses):0.3f}\")"
   ]
  },
  {
   "cell_type": "code",
   "execution_count": null,
   "id": "e6b58064-d762-4112-9947-f02e46b100af",
   "metadata": {},
   "outputs": [],
   "source": []
  },
  {
   "cell_type": "code",
   "execution_count": null,
   "id": "0eae695f-1280-445d-bdbc-4dfbb037f261",
   "metadata": {},
   "outputs": [],
   "source": []
  },
  {
   "cell_type": "markdown",
   "id": "33e722ae-4b70-47f2-844c-8d15c25b23be",
   "metadata": {},
   "source": [
    "# WO Self-condition"
   ]
  },
  {
   "cell_type": "code",
   "execution_count": 41,
   "id": "f463ff06-30ea-4ec2-ae77-b533f3feb77d",
   "metadata": {
    "tags": []
   },
   "outputs": [],
   "source": [
    "def create_config():\n",
    "    config = ml_collections.ConfigDict()\n",
    "\n",
    "    training = config.training = ml_collections.ConfigDict()\n",
    "    training.training_iters = 500_000\n",
    "    training.training_iters = training.training_iters\n",
    "    training.checkpoint_freq = 50_000\n",
    "    training.eval_freq = 5_000\n",
    "    training.batch_size = 512  # * 8\n",
    "\n",
    "    training.ode_sampling = False\n",
    "    training.checkpoints_folder = '../checkpoints/'\n",
    "    config.checkpoints_prefix = ''\n",
    "\n",
    "    loss = config.loss = ml_collections.ConfigDict()\n",
    "    loss.ce_coef = 0.\n",
    "\n",
    "    refresh = config.refresh = ml_collections.ConfigDict()\n",
    "    refresh.true = False\n",
    "    refresh.prefix = \"./checkpoints/wikipedia--t5-bert-self_cond_500000_.pth\"\n",
    "    refresh.wand_id = \"g5fb4af3\"\n",
    "\n",
    "    validation = config.validation = ml_collections.ConfigDict()\n",
    "    validation.batch_size = 256\n",
    "    validation.validation_iters = int(10_000 / validation.batch_size)\n",
    "    validation.num_gen_texts = 8192\n",
    "    validation.p_uncond = 0.\n",
    "\n",
    "    dynamic = config.dynamic = ml_collections.ConfigDict()\n",
    "    dynamic.solver = 'euler'\n",
    "    dynamic.scheduler = \"sd\"\n",
    "    dynamic.N = 200\n",
    "    dynamic.beta_min = 0.1\n",
    "    dynamic.beta_max = 20\n",
    "    dynamic.ode_sampling = False\n",
    "    dynamic.coef_d = 10\n",
    "\n",
    "    model = config.model = ml_collections.ConfigDict()\n",
    "    model.ema_rate = 0.9999\n",
    "    model.enc_type = \"base\"\n",
    "    model.embeddings_type = \"embeddings\"\n",
    "    model.dif_enc_type = \"base\"\n",
    "    model.downstream_task = \"\"  # \"qqp\"\n",
    "    model.dataset = \"wikipedia\"  # \"glue\"\n",
    "    model.prediction = \"x_0\"\n",
    "    model.loss = \"L_x_0\"\n",
    "    model.decoder_path = \"decoder-wikipedia-128.pth\"\n",
    "\n",
    "    data = config.data = ml_collections.ConfigDict()\n",
    "    data.max_sequence_len = 64\n",
    "    data.pos_begin = 0.0\n",
    "    data.pos_end = 0.67\n",
    "    data.enc_bert_mean = \"/home/vmeshchaninov/DiffusionTextGeneration-cond-ca/data/encodings-bert_base-wiki-mean.pt\"\n",
    "    data.enc_bert_std = \"/home/vmeshchaninov/DiffusionTextGeneration-cond-ca/data/encodings-bert_base-wiki-std.pt\"\n",
    "\n",
    "    data.enc_t5_mean = \"/home/vmeshchaninov/DiffusionTextGeneration-cond-ca/data/encodings-t5-wiki-mean.pth\"\n",
    "    data.enc_t5_std = \"/home/vmeshchaninov/DiffusionTextGeneration-cond-ca/data/encodings-t5-wiki-std.pth\"\n",
    "\n",
    "    config.finetuning = False\n",
    "    config.seed = 0\n",
    "    config.ddp = False\n",
    "    config.bert_config = BertConfig.from_pretrained(\"bert-base-uncased\")\n",
    "    config.use_self_cond = False\n",
    "    config.project_name = \"test\" #\"dtg-exps-1.0\"\n",
    "    config.timesteps = \"linear\"\n",
    "\n",
    "    return config"
   ]
  },
  {
   "cell_type": "code",
   "execution_count": 42,
   "id": "0f6a73ff-aebd-4d2c-ab34-447700869c8f",
   "metadata": {
    "tags": []
   },
   "outputs": [],
   "source": [
    "config = create_config()\n",
    "config.checkpoints_prefix = \"wikipedia--t5-bert-initial_200000_\"\n",
    "\n",
    "diffusion = DiffusionRunner(config, latent_mode=config.model.embeddings_type, eval=True)"
   ]
  },
  {
   "cell_type": "code",
   "execution_count": 43,
   "id": "8cfc5017-9f18-40cf-80b6-9116db7e3116",
   "metadata": {
    "tags": []
   },
   "outputs": [],
   "source": [
    "diffusion.set_valid_data_generator()"
   ]
  },
  {
   "cell_type": "code",
   "execution_count": 44,
   "id": "690b6266-1ff1-48bc-960c-83353b6d3702",
   "metadata": {
    "tags": []
   },
   "outputs": [],
   "source": [
    "loader = iter(diffusion.valid_loader)"
   ]
  },
  {
   "cell_type": "code",
   "execution_count": null,
   "id": "eaad49d1-7d8e-445b-a04f-2c4dde5baf3a",
   "metadata": {
    "tags": []
   },
   "outputs": [],
   "source": [
    "X = next(loader)\n",
    "X = dict_to_cuda(X)\n",
    "\n",
    "with torch.no_grad():\n",
    "    clean_X = diffusion.encoder_gen(**{\"input_ids\": X[\"input_ids\"], \"attention_mask\": X[\"input_mask\"]})\n",
    "    cond_X = diffusion.encoder_cond(**{\"input_ids\": X[\"cond_ids\"], \"attention_mask\": X[\"cond_mask\"]})\n",
    "    \n",
    "cond_mask = X[\"cond_mask\"]\n",
    "attention_mask = None"
   ]
  },
  {
   "cell_type": "code",
   "execution_count": null,
   "id": "a45e99e3-f491-4d78-a5e3-c9b3210aafe0",
   "metadata": {
    "tags": []
   },
   "outputs": [],
   "source": [
    "eps_t = 1. / diffusion.dynamic.N\n",
    "timesteps = torch.linspace(diffusion.dynamic.T, eps_t, diffusion.dynamic.N, device=diffusion.device)"
   ]
  },
  {
   "cell_type": "code",
   "execution_count": null,
   "id": "db65b420-6ef1-4aa8-a4db-1e69a03407b2",
   "metadata": {
    "tags": []
   },
   "outputs": [],
   "source": [
    "mask = None\n",
    "batch_size = clean_X.shape[0]\n",
    "\n",
    "with torch.no_grad():    \n",
    "    losses_x_0 = []\n",
    "    \n",
    "    for t in tqdm(range(0, diffusion.dynamic.N)):\n",
    "        vec_t = t * 1. / diffusion.dynamic.N * torch.ones(batch_size, device=\"cuda:0\")\n",
    "        set_seed(0)\n",
    "        marg_forward = diffusion.dynamic.marginal(clean_X, vec_t)\n",
    "        \n",
    "        x_t = marg_forward['x_t']\n",
    "        x_0 = diffusion.calc_score(\n",
    "            model=diffusion.score_estimator, x_t=x_t, t=vec_t, cond=cond_X, attention_mask=None, cond_mask=X[\"cond_mask\"]\n",
    "        )[\"x_0\"]\n",
    "        \n",
    "        loss = mse_loss(x_0, clean_X, mask)\n",
    "        losses_x_0.append(loss.item())"
   ]
  },
  {
   "cell_type": "code",
   "execution_count": 34,
   "id": "890d1735-b23d-4645-a356-fd747fd94c74",
   "metadata": {
    "tags": []
   },
   "outputs": [],
   "source": [
    "with open('tmp/train.npy', 'wb') as f:\n",
    "    np.save(f, np.array(losses_x_0))"
   ]
  },
  {
   "cell_type": "code",
   "execution_count": null,
   "id": "860be981-b214-429b-9577-7f5532800367",
   "metadata": {
    "tags": []
   },
   "outputs": [],
   "source": [
    "plt.figure(figsize=(20, 8))\n",
    "plt.xlabel('time', fontsize=24)\n",
    "plt.ylabel('loss', fontsize=24)\n",
    "plt.title(\"loss_x_0\", fontsize=24)\n",
    "plt.yticks(np.arange(0, 1.01, 0.05))\n",
    "timesteps = torch.linspace(0, 1, diffusion.dynamic.N)\n",
    "plt.plot(timesteps, np.load(\"tmp/train.npy\"), label=\"default_train\")\n",
    "# plt.plot(timesteps, np.load(\"tmp/trainsc-wo_selfcond.npy\"), label=\"sc_train, zero_self_cond\")\n",
    "# plt.plot(timesteps, np.load(\"tmp/trainsc-w_selfcond.npy\"), label=\"sc_train, self_cond\")\n",
    "\n",
    "plt.plot(np.load('tmp/trainsc-shifttime-wo_selfcond.npy'), label=\"sc_train, zero_self_cond, shifttime\")\n",
    "plt.plot(np.load('tmp/trainsc-shifttime-w_selfcond.npy'), label=\"sc_train, self_cond, shifttime\")\n",
    "\n",
    "plt.legend(fontsize=24)\n",
    "plt.show()"
   ]
  },
  {
   "cell_type": "markdown",
   "id": "12f0ba86-9bfe-4eba-8946-20c3c0412ba9",
   "metadata": {
    "tags": []
   },
   "source": [
    "### Test all dataloader"
   ]
  },
  {
   "cell_type": "code",
   "execution_count": 47,
   "id": "953dde03-6faf-44fa-9126-4e87e597aeb7",
   "metadata": {
    "tags": []
   },
   "outputs": [
    {
     "name": "stderr",
     "output_type": "stream",
     "text": [
      "0.534:  19%|█▉        | 29/152 [00:29<02:04,  1.01s/it]\n"
     ]
    },
    {
     "ename": "KeyboardInterrupt",
     "evalue": "",
     "output_type": "error",
     "traceback": [
      "\u001b[0;31m---------------------------------------------------------------------------\u001b[0m",
      "\u001b[0;31mKeyboardInterrupt\u001b[0m                         Traceback (most recent call last)",
      "Cell \u001b[0;32mIn[47], line 20\u001b[0m\n\u001b[1;32m     16\u001b[0m x_0 \u001b[38;5;241m=\u001b[39m diffusion\u001b[38;5;241m.\u001b[39mcalc_score(\n\u001b[1;32m     17\u001b[0m     model\u001b[38;5;241m=\u001b[39mdiffusion\u001b[38;5;241m.\u001b[39mscore_estimator, x_t\u001b[38;5;241m=\u001b[39mx_t, t\u001b[38;5;241m=\u001b[39mtime, cond\u001b[38;5;241m=\u001b[39mcond_X, attention_mask\u001b[38;5;241m=\u001b[39m\u001b[38;5;28;01mNone\u001b[39;00m, cond_mask\u001b[38;5;241m=\u001b[39mX[\u001b[38;5;124m\"\u001b[39m\u001b[38;5;124mcond_mask\u001b[39m\u001b[38;5;124m\"\u001b[39m]\n\u001b[1;32m     18\u001b[0m )[\u001b[38;5;124m\"\u001b[39m\u001b[38;5;124mx_0\u001b[39m\u001b[38;5;124m\"\u001b[39m]\n\u001b[1;32m     19\u001b[0m loss \u001b[38;5;241m=\u001b[39m mse_loss(x_0, clean_X, \u001b[38;5;28;01mNone\u001b[39;00m)\n\u001b[0;32m---> 20\u001b[0m losses\u001b[38;5;241m.\u001b[39mappend(\u001b[43mloss\u001b[49m\u001b[38;5;241;43m.\u001b[39;49m\u001b[43mitem\u001b[49m\u001b[43m(\u001b[49m\u001b[43m)\u001b[49m)\n\u001b[1;32m     21\u001b[0m T\u001b[38;5;241m.\u001b[39mset_description(\u001b[38;5;124mf\u001b[39m\u001b[38;5;124m\"\u001b[39m\u001b[38;5;132;01m{\u001b[39;00mnp\u001b[38;5;241m.\u001b[39mmean(losses)\u001b[38;5;132;01m:\u001b[39;00m\u001b[38;5;124m0.3f\u001b[39m\u001b[38;5;132;01m}\u001b[39;00m\u001b[38;5;124m\"\u001b[39m)\n",
      "\u001b[0;31mKeyboardInterrupt\u001b[0m: "
     ]
    }
   ],
   "source": [
    "losses = []\n",
    "\n",
    "with torch.no_grad():\n",
    "    T = tqdm(diffusion.valid_loader)\n",
    "    for X in T:\n",
    "        X = dict_to_cuda(X)\n",
    "\n",
    "        clean_X = diffusion.encoder_gen(**{\"input_ids\": X[\"input_ids\"], \"attention_mask\": X[\"input_mask\"]})\n",
    "        cond_X = diffusion.encoder_cond(**{\"input_ids\": X[\"cond_ids\"], \"attention_mask\": X[\"cond_mask\"]})\n",
    "\n",
    "        cond_mask = X[\"cond_mask\"]\n",
    "        batch_size = clean_X.shape[0]\n",
    "        time = diffusion.sample_time(batch_size)\n",
    "        marg_forward = diffusion.dynamic.marginal(clean_X, time)\n",
    "        x_t = marg_forward['x_t']\n",
    "        x_0 = diffusion.calc_score(\n",
    "            model=diffusion.score_estimator, x_t=x_t, t=time, cond=cond_X, attention_mask=None, cond_mask=X[\"cond_mask\"]\n",
    "        )[\"x_0\"]\n",
    "        loss = mse_loss(x_0, clean_X, None)\n",
    "        losses.append(loss.item())\n",
    "        T.set_description(f\"{np.mean(losses):0.3f}\")"
   ]
  },
  {
   "cell_type": "markdown",
   "id": "c9366e99-15f9-47b8-9f16-b41dd846b745",
   "metadata": {},
   "source": [
    "# Next chapter"
   ]
  },
  {
   "cell_type": "code",
   "execution_count": null,
   "id": "50a500d8-75ad-4748-845f-a9b114411cd2",
   "metadata": {},
   "outputs": [],
   "source": []
  }
 ],
 "metadata": {
  "kernelspec": {
   "display_name": "Python [.conda-fap2_env]",
   "language": "python",
   "name": "conda-env-.conda-fap2_env-py"
  },
  "language_info": {
   "codemirror_mode": {
    "name": "ipython",
    "version": 3
   },
   "file_extension": ".py",
   "mimetype": "text/x-python",
   "name": "python",
   "nbconvert_exporter": "python",
   "pygments_lexer": "ipython3",
   "version": "3.9.16"
  }
 },
 "nbformat": 4,
 "nbformat_minor": 5
}
