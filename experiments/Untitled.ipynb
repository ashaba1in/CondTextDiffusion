{
 "cells": [
  {
   "cell_type": "code",
   "execution_count": 2,
   "id": "09baff73-7388-4cf3-be75-1448d515e7ad",
   "metadata": {
    "tags": []
   },
   "outputs": [],
   "source": [
    "import torch\n",
    "import torch.nn as nn\n",
    "import torch.nn.functional as F"
   ]
  },
  {
   "cell_type": "code",
   "execution_count": 6,
   "id": "d130a75b-6f55-48ed-821e-afa12cd52215",
   "metadata": {
    "tags": []
   },
   "outputs": [],
   "source": [
    "import random"
   ]
  },
  {
   "cell_type": "code",
   "execution_count": 5,
   "id": "f108e8ea-04b0-4487-aad0-5b87b0fdd1a3",
   "metadata": {
    "tags": []
   },
   "outputs": [],
   "source": [
    "class NN(nn.Module):\n",
    "    def __init__(self,):\n",
    "        super().__init__()\n",
    "        \n",
    "        self.layer = nn.Linear(1, 1)\n",
    "        \n",
    "    def forward(self, x1, x2):\n",
    "        return self.layer(x1 + x2)"
   ]
  },
  {
   "cell_type": "code",
   "execution_count": 7,
   "id": "6867a7c2-acbb-4d08-b1a6-a895f7923b77",
   "metadata": {
    "tags": []
   },
   "outputs": [],
   "source": [
    "model = NN()"
   ]
  },
  {
   "cell_type": "code",
   "execution_count": 13,
   "id": "d7605931-56b0-4787-a695-8363e414a67b",
   "metadata": {
    "tags": []
   },
   "outputs": [],
   "source": [
    "x0 = torch.randn(1)\n",
    "\n",
    "with torch.no_grad():\n",
    "    x1 = model(x0, x0)\n",
    "    x1 = x1.detach()\n",
    "    \n",
    "x2 = model(x1, x0)"
   ]
  },
  {
   "cell_type": "code",
   "execution_count": 14,
   "id": "c0e3fcbb-af64-44c3-881b-d4f067831a77",
   "metadata": {
    "tags": []
   },
   "outputs": [],
   "source": [
    "loss = torch.square(x2 - x0)"
   ]
  },
  {
   "cell_type": "code",
   "execution_count": 15,
   "id": "b3e76450-4e16-42a7-b17a-b3f49f203ad1",
   "metadata": {
    "tags": []
   },
   "outputs": [],
   "source": [
    "loss.backward()"
   ]
  },
  {
   "cell_type": "code",
   "execution_count": 16,
   "id": "c6fc0ee1-b075-4bd7-b0e9-6e77f779be6b",
   "metadata": {
    "tags": []
   },
   "outputs": [
    {
     "name": "stdout",
     "output_type": "stream",
     "text": [
      "layer.weight False\n",
      "layer.bias False\n"
     ]
    }
   ],
   "source": [
    "for name, param in model.named_parameters():\n",
    "            print(name, param.grad is None)"
   ]
  },
  {
   "cell_type": "code",
   "execution_count": null,
   "id": "e85f2b7d-b3b3-4dd6-91f8-59be96250866",
   "metadata": {},
   "outputs": [],
   "source": []
  }
 ],
 "metadata": {
  "kernelspec": {
   "display_name": "Python [.conda-fap2_env]",
   "language": "python",
   "name": "conda-env-.conda-fap2_env-py"
  },
  "language_info": {
   "codemirror_mode": {
    "name": "ipython",
    "version": 3
   },
   "file_extension": ".py",
   "mimetype": "text/x-python",
   "name": "python",
   "nbconvert_exporter": "python",
   "pygments_lexer": "ipython3",
   "version": "3.9.16"
  }
 },
 "nbformat": 4,
 "nbformat_minor": 5
}
