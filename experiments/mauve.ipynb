{
 "cells": [
  {
   "cell_type": "code",
   "execution_count": 1,
   "id": "d012874d-d8c5-440c-93b8-3f31fd2ec0ee",
   "metadata": {
    "tags": []
   },
   "outputs": [],
   "source": [
    "%load_ext autoreload\n",
    "%autoreload 2"
   ]
  },
  {
   "cell_type": "code",
   "execution_count": 2,
   "id": "c0cea5f3-ace3-4810-b06a-621e7d8a5282",
   "metadata": {
    "tags": []
   },
   "outputs": [],
   "source": [
    "import sys\n",
    "\n",
    "sys.path.append(\"/home/vmeshchaninov/DiffusionTextGeneration-cond-ca/\")"
   ]
  },
  {
   "cell_type": "code",
   "execution_count": 5,
   "id": "ab0f34bd-2fd1-4123-b061-d476a14a918d",
   "metadata": {
    "tags": []
   },
   "outputs": [],
   "source": [
    "from evaluate import load\n",
    "import json"
   ]
  },
  {
   "cell_type": "code",
   "execution_count": 10,
   "id": "6ef355be-a458-49d9-81e8-16b9269fa530",
   "metadata": {
    "tags": []
   },
   "outputs": [],
   "source": [
    "mauve = load('mauve')"
   ]
  },
  {
   "cell_type": "code",
   "execution_count": 3,
   "id": "ed66d501-e5ed-41b0-8ca7-9ec61e5a6b24",
   "metadata": {
    "tags": []
   },
   "outputs": [],
   "source": [
    "filename = \"/home/vmeshchaninov/DiffusionTextGeneration-cond-ca/generated_texts/\" \\\n",
    "            \"wikipedia--t5-bert-self_cond_last_-num_texts=8196-scale=0.0.json\""
   ]
  },
  {
   "cell_type": "code",
   "execution_count": 7,
   "id": "b88a0045-20f7-4336-8df2-74d0f6aba983",
   "metadata": {
    "tags": []
   },
   "outputs": [],
   "source": [
    "data = json.load(open(filename, \"r\"))"
   ]
  },
  {
   "cell_type": "code",
   "execution_count": 8,
   "id": "3de10582-586f-4a73-83f5-f64aa24daca6",
   "metadata": {
    "tags": []
   },
   "outputs": [],
   "source": [
    "predictions = [d[\"GEN\"] for d in data]"
   ]
  },
  {
   "cell_type": "code",
   "execution_count": 11,
   "id": "78439701-d19d-4ac4-8887-2e6d5fe82382",
   "metadata": {
    "tags": []
   },
   "outputs": [],
   "source": [
    "references = [d[\"GT\"] for d in data]"
   ]
  },
  {
   "cell_type": "code",
   "execution_count": null,
   "id": "c8a79cb0-24af-40e3-afab-1678de26cc80",
   "metadata": {
    "tags": []
   },
   "outputs": [
    {
     "name": "stdout",
     "output_type": "stream",
     "text": [
      "Loading tokenizer\n",
      "Tokenizing text...\n",
      "Loading tokenizer\n",
      "Loading model\n",
      "Featurizing tokens\n"
     ]
    },
    {
     "data": {
      "application/vnd.jupyter.widget-view+json": {
       "model_id": "22f7a2ae16bd418fb01e7772933068a8",
       "version_major": 2,
       "version_minor": 0
      },
      "text/plain": [
       "Featurizing p:   0%|          | 0/8196 [00:00<?, ?it/s]"
      ]
     },
     "metadata": {},
     "output_type": "display_data"
    }
   ],
   "source": [
    "mauve_results = mauve.compute(predictions=predictions, references=references)"
   ]
  },
  {
   "cell_type": "code",
   "execution_count": null,
   "id": "6ff459ff-f25c-41b3-9fd6-7ab498d7bbf7",
   "metadata": {
    "tags": []
   },
   "outputs": [],
   "source": [
    "mauve_results"
   ]
  },
  {
   "cell_type": "code",
   "execution_count": null,
   "id": "0bdc21aa-1d2f-4d2f-ab1f-a926717d396d",
   "metadata": {},
   "outputs": [],
   "source": []
  }
 ],
 "metadata": {
  "kernelspec": {
   "display_name": "Python [.conda-fap2_env]",
   "language": "python",
   "name": "conda-env-.conda-fap2_env-py"
  },
  "language_info": {
   "codemirror_mode": {
    "name": "ipython",
    "version": 3
   },
   "file_extension": ".py",
   "mimetype": "text/x-python",
   "name": "python",
   "nbconvert_exporter": "python",
   "pygments_lexer": "ipython3",
   "version": "3.9.16"
  }
 },
 "nbformat": 4,
 "nbformat_minor": 5
}
