{
 "cells": [
  {
   "cell_type": "code",
   "execution_count": 1,
   "id": "e08bc2b8-e050-4cd7-b536-d3199948fe8d",
   "metadata": {
    "tags": []
   },
   "outputs": [],
   "source": [
    "%load_ext autoreload\n",
    "%autoreload 2\n",
    "\n",
    "import sys\n",
    "\n",
    "sys.path.append(\"/home/vmeshchaninov/DiffusionTextGeneration-cond-ca/\")"
   ]
  },
  {
   "cell_type": "code",
   "execution_count": 2,
   "id": "69ff3d33-9db9-449b-9351-512ff3a9f792",
   "metadata": {
    "tags": []
   },
   "outputs": [],
   "source": [
    "import torch\n",
    "from transformers import BertLMHeadModel, BertTokenizerFast\n",
    "from torch.utils.data import DataLoader\n",
    "from torch.nn.functional import cross_entropy\n",
    "from tqdm import tqdm\n",
    "import random"
   ]
  },
  {
   "cell_type": "code",
   "execution_count": 3,
   "id": "17bdfa62-47e8-45f4-899f-e79fcbcc9afe",
   "metadata": {
    "tags": []
   },
   "outputs": [],
   "source": [
    "from data.dataset import WikipediaDataset\n",
    "from estimation_utils.metrics import BloomMetricConditional, BloomMetric\n",
    "from utils.util import dict_to_cuda, set_seed\n",
    "from estimation_utils.util import compute_metric"
   ]
  },
  {
   "cell_type": "code",
   "execution_count": 4,
   "id": "18b1345a-3a37-45f8-b24b-d663e1ea9a21",
   "metadata": {
    "tags": []
   },
   "outputs": [],
   "source": [
    "tokenizer = BertTokenizerFast.from_pretrained(\"bert-base-uncased\")"
   ]
  },
  {
   "cell_type": "code",
   "execution_count": 5,
   "id": "73503df2-48d8-4516-ba6b-2e68ba1d8455",
   "metadata": {
    "tags": []
   },
   "outputs": [],
   "source": [
    "set_seed(0)"
   ]
  },
  {
   "cell_type": "code",
   "execution_count": 6,
   "id": "2b79befa-81a8-4eae-821b-e38cf3a2b26c",
   "metadata": {
    "tags": []
   },
   "outputs": [],
   "source": [
    "dataset = next(WikipediaDataset(\n",
    "    split=\"test\",\n",
    "    tokenizer_bert=tokenizer,\n",
    "    tokenizer_cond=tokenizer,\n",
    "    tokenizer_gen=tokenizer,\n",
    "    max_sequence_len=128,\n",
    "    pos_begin=0.5,\n",
    "    pos_end=0.5,\n",
    ").get_data())"
   ]
  },
  {
   "cell_type": "code",
   "execution_count": 7,
   "id": "8a8b69da-a931-4f63-a1a5-82a5d65d62ec",
   "metadata": {
    "tags": []
   },
   "outputs": [],
   "source": [
    "batch_size = 16\n",
    "loader = DataLoader(\n",
    "            dataset,\n",
    "            batch_size=batch_size,\n",
    "            num_workers=1,\n",
    "            shuffle=False,\n",
    "        )\n",
    "loader = iter(loader)"
   ]
  },
  {
   "cell_type": "markdown",
   "id": "9c1211d8-185c-4dac-a9af-73f98e9ec18a",
   "metadata": {
    "tags": []
   },
   "source": [
    "# Условная генерация с помощью GPT-2"
   ]
  },
  {
   "cell_type": "code",
   "execution_count": 8,
   "id": "f1a6b5a4-dc8a-480f-82a4-44b5befc8383",
   "metadata": {
    "tags": []
   },
   "outputs": [],
   "source": [
    "X = next(loader)\n",
    "\n",
    "text_cond = tokenizer.batch_decode(\n",
    "    X[\"cond_ids\"], \n",
    "    skip_special_tokens=True,\n",
    ")\n",
    "\n",
    "text_gen = tokenizer.batch_decode(\n",
    "    X[\"input_ids\"], \n",
    "    skip_special_tokens=True,\n",
    ")"
   ]
  },
  {
   "cell_type": "code",
   "execution_count": 8,
   "id": "96682ac4-12ce-42d9-ba0e-0fa8a1d1aaf4",
   "metadata": {
    "tags": []
   },
   "outputs": [
    {
     "data": {
      "text/plain": [
       "tensor(52.2969)"
      ]
     },
     "execution_count": 8,
     "metadata": {},
     "output_type": "execute_result"
    }
   ],
   "source": [
    "torch.mean(torch.sum(X[\"cond_mask\"], dim=1) * 1.)"
   ]
  },
  {
   "cell_type": "code",
   "execution_count": 9,
   "id": "d5231af0-8e24-4262-a94e-d089c5801918",
   "metadata": {
    "tags": []
   },
   "outputs": [
    {
     "data": {
      "text/plain": [
       "tensor(106.6016)"
      ]
     },
     "execution_count": 9,
     "metadata": {},
     "output_type": "execute_result"
    }
   ],
   "source": [
    "torch.mean((torch.sum(X[\"cond_mask\"], dim=1) + torch.sum(X[\"input_mask\"], dim=1)) * 1.)"
   ]
  },
  {
   "cell_type": "code",
   "execution_count": 9,
   "id": "8a0eac0f-8d30-4277-b1a0-1e293b9cfdc4",
   "metadata": {
    "tags": []
   },
   "outputs": [],
   "source": [
    "from transformers import pipeline"
   ]
  },
  {
   "cell_type": "code",
   "execution_count": 10,
   "id": "b0f27da9-9c3d-45c2-b4d8-1f2b91fcb304",
   "metadata": {
    "tags": []
   },
   "outputs": [
    {
     "name": "stderr",
     "output_type": "stream",
     "text": [
      "Xformers is not installed correctly. If you want to use memorry_efficient_attention to accelerate training use the following command to install Xformers\n",
      "pip install xformers.\n"
     ]
    }
   ],
   "source": [
    "# gpt2 == gpt2-small\n",
    "generator_gpt2 = pipeline('text-generation', model='gpt2', device=0)"
   ]
  },
  {
   "cell_type": "markdown",
   "id": "f96a8c24-ce6f-4a14-887f-315eda9b4999",
   "metadata": {},
   "source": [
    "## Условная метрика текста: BloomMetricConditional"
   ]
  },
  {
   "cell_type": "code",
   "execution_count": 42,
   "id": "6ce7631a-3e7b-400b-8aa6-3159154f44f1",
   "metadata": {
    "tags": []
   },
   "outputs": [
    {
     "data": {
      "application/vnd.jupyter.widget-view+json": {
       "model_id": "a4258c4d4e31471d914a08169395e510",
       "version_major": 2,
       "version_minor": 0
      },
      "text/plain": [
       "Loading checkpoint shards:   0%|          | 0/2 [00:00<?, ?it/s]"
      ]
     },
     "metadata": {},
     "output_type": "display_data"
    }
   ],
   "source": [
    "metric_bloom_fn = BloomMetricConditional(device=\"cuda:0\")"
   ]
  },
  {
   "cell_type": "code",
   "execution_count": 11,
   "id": "216e78c0-0ecb-4e3e-a4f1-2bd2680e0c98",
   "metadata": {
    "tags": []
   },
   "outputs": [
    {
     "name": "stdout",
     "output_type": "stream",
     "text": [
      "CPU times: user 8.53 s, sys: 483 ms, total: 9.01 s\n",
      "Wall time: 10.4 s\n"
     ]
    }
   ],
   "source": [
    "%%time\n",
    "\n",
    "texts_gpt = generator_gpt2(text_cond, max_new_tokens=64, num_return_sequences=1, return_full_text=False, pad_token_id=50256)"
   ]
  },
  {
   "cell_type": "code",
   "execution_count": 12,
   "id": "bbed57bd-5393-4bf1-8e7b-5355b34c0a07",
   "metadata": {
    "tags": []
   },
   "outputs": [
    {
     "data": {
      "text/plain": [
       "['the vibe was also made in tandem with a toyota model, the toyota matrix, at the nummi plant. the prizm along with its geo siblings suffered severe sales loss when the brand denomination changed from geo to chevrolet in 1998. the geo models outsold the rebadged chevrolets three to one.',\n",
       " \"0 may also refer to : one of king's greatest influences was the musician tom taylor, who gave king guitar lessons when king was 12.\",\n",
       " 'cornelius bolton ( – 16 september 1779 ) was an irish landowner and politician. biography. he was made a freeman of the city of waterford in 1737 and was mayor of waterford from 1743 to 1744 and in 1761. he represented the city in parliament',\n",
       " \"in an effort to create a more competitive field in organizers announced a series of changes to the championship. the most significant was that from the teams have had to run on pirelli control or'spec'tyres. the standard of dunlop and michelin that most of the teams had been using. dunlop looked to take\",\n",
       " 'the ships that attempted to evade it but also to discourage others. the blockade runners may have been numerous, but they were built for speed rather than the ability to carry cargo. the more conventional cargo vessels, and their spacious holds, went elsewhere. as a result, southern exports of cotton fell by 95 % from pre',\n",
       " 'early life. in 1946 leading english psychologist charles samuel',\n",
       " \"in both the manga and novel mayumi's corpse is the first object encountered by shuya outside of the school.\",\n",
       " 'references. & lt',\n",
       " \"scientist to one of s. h. i. e. l. d.'s most senior agents, also clocking significant experience as a field agent. she is distinguished from her colleagues by taking very determined and sometimes coldly rational decisions in the pursuit of what she believes is right. fictional character biography. i\",\n",
       " \"trio, formed in 2002 in saitama prefecture. the band's style resembles post - hardcore and progressive rock, math - rock, often incorporating rapid changes of tempo and mood framed in complex guitar melodies and technical drumming. they utilize both male and female vocals ranging from soft singing to loud wails and screams. biography\",\n",
       " 'served by milngavie railway station on the north clyde line of the spt rail network, which links it to central glasgow. in 2018 the scottish government published statistics for the town showing that the population increased to 13, 537 in 6, 062 households. the town is also a popular retirement location, with',\n",
       " 'under the pressure of their questioning, phelan eventually asserts to nicola that he thinks she is his daughter — explaining that he previously had an affair with her mother',\n",
       " 'awards ( selected ). 2014 - 2015 national endowment for the humanities faculty award & lt ; br & gt ; 2010 - 2011 american council of learned societies fellowship & lt ; br & gt ; 2010 - 2011 dibner fellowship in the history of science, huntington library & lt ; br & gt ;',\n",
       " \"rose bay whilst 24. 8 % have never been married. 38 % of families are couples with children, 47. 6 % are couples without children, and 13. 4 % are single - parent families. of people aged 15 or older in rose bay, the most common education level achieved is a bachelor's degree\",\n",
       " \"opposition ruckmen just couldn't get around him. i couldn't believe the size of his legs ; they were enormous. he could manoeuvre\",\n",
       " 'he was taken to chitwan by ambulance. the squadron flew a4']"
      ]
     },
     "execution_count": 12,
     "metadata": {},
     "output_type": "execute_result"
    }
   ],
   "source": [
    "text_cond"
   ]
  },
  {
   "cell_type": "code",
   "execution_count": 13,
   "id": "0fa4d71a-f59d-4da4-8dcb-fed75d02ab06",
   "metadata": {
    "tags": []
   },
   "outputs": [
    {
     "data": {
      "text/plain": [
       "[' if you don\\'t know what a geo model is, here\\'s a short rundown of its design and design history and how it came to be called \"Chevrolet\\'s\" real name.\\n\\nFirst the base unit, the geo system, uses the Geo, a 2,000 meter tall fiber optic transmission system with',\n",
       " \" taylor's guitar lessons helped win him a few Grammy Awards in the early-90s -- although he was a member of three bands named after the bass player Taylor's first violinist, Henry F. Taylor Jr.; his father (John Taylor Sr. and his son Tom) and musician Tambour\",\n",
       " ' and tried, succeeded to the second rank to the hilt for 16 months and served the king for 3 terms, until he was shot during the Battle of the Rhine. The city was not yet completely free of slavery until 1741; therefore and even though the early work and progress in the north took place in 17',\n",
       " \" advantage of the increased flow of the Pirelli practice facilities. michelin is a better technique of doing away with wet seats to provide more of a comfortable seating setup. the race schedule was changed to match that of the team's races. the pirelli Pirelli Management Team also added 3 pirelli\",\n",
       " '-war levels, and some of the former cotton mills in northern Germany experienced even lower output than the rest of the country. and in some cases of interest at the time the \"Rafaelo\" was being developed. (Source) by T. S. Switzer (T. I. W. N.',\n",
       " 'son and his partner began researching and analyzing an unspoken idea that, if humans were to learn to recognize and respond to human emotions we\\'d no longer be able to empathize with them at all unless we knew how to do it. They found that only a few hours after the \"wanting-recognition\" gesture',\n",
       " \" Despite what one thinks of shuya as, shuya's personality was as human.\\n\\nHe is very similar to Daisuke and Tetsuo as a manga protagonist.\\n\\nShuya is the brother, nephew and partner of Tetsuo and Mai.\\n\\nContents show]\\n\\n\",\n",
       " '. p. 2 :\\n\\n\"[Sf]e said the earth was round, and that all men therein saw it … I shall prove my theory. \\'I,\\' I say, I had that on the earth with me, and it was there when the men came out from my vision. So how was he',\n",
       " \" has been called this by Professor Hinton\\n\\n'the second most senior agent [of the U.S. Department of Labor], has become the chief of staff of America's top civil rights lawyer, Thomas Jefferson. A former U.S. senator from Louisiana, he had helped lead the anti-black movement in\",\n",
       " ' - \"It\\'s a true post post-pop band, like I\\'ve never played a song before or ever will - but that you would feel your fingers twitch at the chorus if you could hear it.\" (via Erotica) rw, reverb and fuzz. the group is based in China, but was',\n",
       " \" around 40,000 people visiting the place each year.\\n\\nThe town centre was built to accommodate an expected 532 new houses by the end of the nineteenth century.\\n\\nThe city's population jumped to 5,823 in 1970.\",\n",
       " ' and that he didn\\'t want it to turn her into something he could be the person to blame for her.\\n\\n\"If you go back to my father, it\\'s like asking that. That\\'s just because you\\'re not a person. I don\\'t think it\\'s right to question her, and she doesn\\'t',\n",
       " ' 2010 - 2011 dibperts fellowship in the history of humanistic sciences fellowship and lt ; br & gt ; 2010 - 2011 deriving international peace & stability co; gt ; 2018 - 2019 fellowship in humanities faculty award & lt ; br & gt ; 2018 - 2019 arthur-awards',\n",
       " '. Of the 1,000 people aged 12 to 19 in a family who have children in rose bay, 10 % have never had children. In addition, of the 1,400 people aged 15 or older who have children in and above the same level the second most common age of acquisition is 16.4 years. 42',\n",
       " \" them like a human, and his power was so high, it's like being the power of a fish!\\n\\n'A fish?' Ruckman was extremely nervous when I started to say things. 'Well what is this little animal, his body?' he said.\\n\\n'It doesn't have too much\",\n",
       " ' hours to Kuma in a convoy of three helicopters. 4.3.7 Jettison and burners. The aircraft were destroyed on 10 August. After the plane was taken over by a helicopter landing the flight was flown for 11 minutes at the airfield at Kuma and 11 minutes at Kuma. In the']"
      ]
     },
     "execution_count": 13,
     "metadata": {},
     "output_type": "execute_result"
    }
   ],
   "source": [
    "[l[0][\"generated_text\"] for l in texts_gpt]"
   ]
  },
  {
   "cell_type": "code",
   "execution_count": 43,
   "id": "9d5a2400-d476-4de4-af23-85edbf485baf",
   "metadata": {
    "tags": []
   },
   "outputs": [
    {
     "name": "stderr",
     "output_type": "stream",
     "text": [
      "  0%|          | 0/16 [00:00<?, ?it/s]/home/vmeshchaninov/.conda/envs/fap2_env/lib/python3.9/site-packages/torch/nn/_reduction.py:42: UserWarning: size_average and reduce args will be deprecated, please use reduction='none' instead.\n",
      "  warnings.warn(warning.format(ret))\n",
      "metric: bigscience/bloom-7b1, 3.6520: 100%|██████████| 16/16 [00:01<00:00, 14.99it/s]\n"
     ]
    }
   ],
   "source": [
    "metric_bloom = compute_metric(metric_bloom_fn, cond_texts=text_cond, gen_texts=[l[0][\"generated_text\"] for l in texts_gpt])"
   ]
  },
  {
   "cell_type": "code",
   "execution_count": 81,
   "id": "eabdbcfd-ee6c-44ad-b3ef-1fceb5c7f330",
   "metadata": {
    "tags": []
   },
   "outputs": [
    {
     "name": "stderr",
     "output_type": "stream",
     "text": [
      "100%|██████████| 100/100 [00:13<00:00,  7.41it/s]\n"
     ]
    },
    {
     "data": {
      "text/plain": [
       "(3.606053533394779, 2.86474609375)"
      ]
     },
     "execution_count": 81,
     "metadata": {},
     "output_type": "execute_result"
    }
   ],
   "source": [
    "sum_metric, num_tokens = 0., 0.\n",
    "\n",
    "for ind in tqdm(range(len(text_cond))[:100]):\n",
    "    output = metric_bloom_fn(text_cond=text_cond[ind], text_gen=texts_gpt[ind][0][\"generated_text\"], reduce=\"sum\")\n",
    "    if output[1] != 0:\n",
    "        sum_metric += output[0]\n",
    "        num_tokens += output[1]\n",
    "\n",
    "sum_metric / num_tokens, num_tokens / batch_size"
   ]
  },
  {
   "cell_type": "markdown",
   "id": "56503011-9bb4-420f-8729-b8aecd02d988",
   "metadata": {},
   "source": [
    "## Безусловная метрика текста: BloomMetric"
   ]
  },
  {
   "cell_type": "code",
   "execution_count": 15,
   "id": "4b0fe2e5-3e51-4d9f-8506-5f4e2b00a6c9",
   "metadata": {
    "tags": []
   },
   "outputs": [],
   "source": [
    "metric_bloom_uncond_fn = BloomMetric(device=\"cuda:0\")"
   ]
  },
  {
   "cell_type": "code",
   "execution_count": 71,
   "id": "7b98c5f6-8608-4bc6-a347-2c9e08501d54",
   "metadata": {
    "tags": []
   },
   "outputs": [
    {
     "name": "stdout",
     "output_type": "stream",
     "text": [
      "CPU times: user 18min 12s, sys: 18 s, total: 18min 30s\n",
      "Wall time: 18min 32s\n"
     ]
    }
   ],
   "source": [
    "%%time\n",
    "\n",
    "texts_gpt = generator_gpt2(text_cond, max_new_tokens=64, num_return_sequences=1, return_full_text=True, pad_token_id=50256)"
   ]
  },
  {
   "cell_type": "code",
   "execution_count": 72,
   "id": "98abb5d7-c144-43ac-ae7c-fe8291a7fb59",
   "metadata": {
    "tags": []
   },
   "outputs": [
    {
     "name": "stderr",
     "output_type": "stream",
     "text": [
      "100%|██████████| 2048/2048 [04:10<00:00,  8.18it/s]\n"
     ]
    },
    {
     "data": {
      "text/plain": [
       "(3.6600863342248546, 112.189453125)"
      ]
     },
     "execution_count": 72,
     "metadata": {},
     "output_type": "execute_result"
    }
   ],
   "source": [
    "sum_metric, num_tokens = 0., 0.\n",
    "\n",
    "for ind in tqdm(range(len(text_cond))):\n",
    "    output = metric_bloom_uncond_fn(text=texts_gpt[ind][0][\"generated_text\"], reduce=\"sum\")\n",
    "    sum_metric += output[0]\n",
    "    num_tokens += output[1]\n",
    "\n",
    "sum_metric / num_tokens, num_tokens / batch_size"
   ]
  },
  {
   "cell_type": "markdown",
   "id": "62c05dbe-8d4b-4f8a-b867-25349c4280dc",
   "metadata": {},
   "source": [
    "## Метрики батча"
   ]
  },
  {
   "cell_type": "code",
   "execution_count": 59,
   "id": "ddae5509-972a-4055-8a5a-7c8b7612f556",
   "metadata": {
    "tags": []
   },
   "outputs": [
    {
     "name": "stderr",
     "output_type": "stream",
     "text": [
      "100%|██████████| 2048/2048 [04:05<00:00,  8.36it/s]\n"
     ]
    },
    {
     "data": {
      "text/plain": [
       "(3.4296206837482495, 107.177734375)"
      ]
     },
     "execution_count": 59,
     "metadata": {},
     "output_type": "execute_result"
    }
   ],
   "source": [
    "sum_metric, num_tokens = 0., 0.\n",
    "texts = [f\"{text_cond[i]} {text_gen[i]}\" for i in range(batch_size)]\n",
    "\n",
    "for ind in tqdm(range(len(text_cond))):\n",
    "    output = metric_bloom_uncond_fn(text=texts[ind], reduce=\"sum\")\n",
    "    sum_metric += output[0]\n",
    "    num_tokens += output[1]\n",
    "\n",
    "sum_metric / num_tokens, num_tokens / batch_size"
   ]
  },
  {
   "cell_type": "code",
   "execution_count": 60,
   "id": "6e743daf-f15b-480b-bba8-2918fa3c93c1",
   "metadata": {
    "tags": []
   },
   "outputs": [
    {
     "name": "stderr",
     "output_type": "stream",
     "text": [
      "100%|██████████| 2048/2048 [04:05<00:00,  8.33it/s]\n"
     ]
    },
    {
     "data": {
      "text/plain": [
       "(3.2399693615122613, 54.89990234375)"
      ]
     },
     "execution_count": 60,
     "metadata": {},
     "output_type": "execute_result"
    }
   ],
   "source": [
    "sum_metric, num_tokens = 0., 0.\n",
    "\n",
    "for ind in tqdm(range(len(text_cond))):\n",
    "    output = metric_bloom_fn(text_cond=text_cond[ind], text_gen=text_gen[ind], reduce=\"sum\")\n",
    "    sum_metric += output[0]\n",
    "    num_tokens += output[1]\n",
    "\n",
    "sum_metric / num_tokens, num_tokens / batch_size"
   ]
  },
  {
   "cell_type": "markdown",
   "id": "596284ec-b21c-47ff-8e78-1138fe67b33a",
   "metadata": {
    "tags": []
   },
   "source": [
    "# Метрики реального текста"
   ]
  },
  {
   "cell_type": "code",
   "execution_count": 7,
   "id": "5d8553ee-1c92-42de-9957-b82ed4d30418",
   "metadata": {
    "tags": []
   },
   "outputs": [
    {
     "data": {
      "application/vnd.jupyter.widget-view+json": {
       "model_id": "1a9b089e4de94b079be408beb22bcf02",
       "version_major": 2,
       "version_minor": 0
      },
      "text/plain": [
       "Loading checkpoint shards:   0%|          | 0/2 [00:00<?, ?it/s]"
      ]
     },
     "metadata": {},
     "output_type": "display_data"
    }
   ],
   "source": [
    "metric_bloom_fn = BloomMetric(device=\"cuda:0\")"
   ]
  },
  {
   "cell_type": "code",
   "execution_count": 7,
   "id": "b9203354-e1e7-413a-b1a7-39b5d8a06d68",
   "metadata": {
    "tags": []
   },
   "outputs": [],
   "source": [
    "X = next(loader)"
   ]
  },
  {
   "cell_type": "code",
   "execution_count": 8,
   "id": "0010023f-e85f-4fbd-b41e-8b6db9928812",
   "metadata": {
    "tags": []
   },
   "outputs": [],
   "source": [
    "text_cond = tokenizer.batch_decode(\n",
    "    X[\"cond_ids\"], \n",
    "    skip_special_tokens=True\n",
    ")"
   ]
  },
  {
   "cell_type": "code",
   "execution_count": 9,
   "id": "b8f12453-d293-46a1-a97e-9e569822dd67",
   "metadata": {
    "tags": []
   },
   "outputs": [],
   "source": [
    "text_gen = tokenizer.batch_decode(\n",
    "    X[\"input_ids\"], \n",
    "    skip_special_tokens=True\n",
    ")"
   ]
  },
  {
   "cell_type": "markdown",
   "id": "952cc5a0-27c4-4e29-b23b-cbc49badda10",
   "metadata": {
    "jp-MarkdownHeadingCollapsed": true,
    "tags": []
   },
   "source": [
    "### Правильно расположенный текст"
   ]
  },
  {
   "cell_type": "code",
   "execution_count": 41,
   "id": "6371ae67-70d9-4bb1-9963-6228b425f93a",
   "metadata": {
    "tags": []
   },
   "outputs": [],
   "source": [
    "text = [f\"{text_cond[i]} {text_gen[i]}\" for i in range(batch_size)]"
   ]
  },
  {
   "cell_type": "code",
   "execution_count": 42,
   "id": "872779f7-0163-4709-a794-dffc485a4b95",
   "metadata": {
    "tags": []
   },
   "outputs": [
    {
     "name": "stderr",
     "output_type": "stream",
     "text": [
      "metric: bigscience/bloom-7b1, 3.4458: 100%|██████████| 1024/1024 [02:03<00:00,  8.30it/s]\n"
     ]
    },
    {
     "data": {
      "text/plain": [
       "3.4458400700800738"
      ]
     },
     "execution_count": 42,
     "metadata": {},
     "output_type": "execute_result"
    }
   ],
   "source": [
    "compute_metric(metric_bloom_uncond_fn, text)"
   ]
  },
  {
   "cell_type": "markdown",
   "id": "006a859b-0a83-4cca-8533-cb7ac048892f",
   "metadata": {
    "jp-MarkdownHeadingCollapsed": true,
    "tags": []
   },
   "source": [
    "### Условие и генерацию поменяли местами "
   ]
  },
  {
   "cell_type": "code",
   "execution_count": 61,
   "id": "6f402bee-4940-40f9-bb78-b88b077c82f6",
   "metadata": {
    "tags": []
   },
   "outputs": [],
   "source": [
    "text = [f\"{text_gen[i]} {text_cond[i]}\" for i in range(batch_size)]"
   ]
  },
  {
   "cell_type": "code",
   "execution_count": 62,
   "id": "52a78460-da55-45d0-9745-643ab960c760",
   "metadata": {
    "tags": []
   },
   "outputs": [
    {
     "name": "stderr",
     "output_type": "stream",
     "text": [
      "metric: bigscience/bloom-7b1, 3.5764: 100%|██████████| 2048/2048 [04:07<00:00,  8.28it/s]\n"
     ]
    },
    {
     "data": {
      "text/plain": [
       "3.5763897249226058"
      ]
     },
     "execution_count": 62,
     "metadata": {},
     "output_type": "execute_result"
    }
   ],
   "source": [
    "compute_metric(metric_bloom_uncond_fn, text)"
   ]
  },
  {
   "cell_type": "markdown",
   "id": "d342c2db-e028-4c77-9844-8e33c4961a83",
   "metadata": {
    "jp-MarkdownHeadingCollapsed": true,
    "tags": []
   },
   "source": [
    "### Перемешенные части"
   ]
  },
  {
   "cell_type": "code",
   "execution_count": 48,
   "id": "9807ff58-2639-4bb8-a639-846aaab81e50",
   "metadata": {
    "tags": []
   },
   "outputs": [],
   "source": [
    "import random"
   ]
  },
  {
   "cell_type": "code",
   "execution_count": 64,
   "id": "af01fb2c-8980-43af-8722-df46a96d9e8a",
   "metadata": {
    "tags": []
   },
   "outputs": [],
   "source": [
    "random.shuffle(text_cond)"
   ]
  },
  {
   "cell_type": "code",
   "execution_count": 65,
   "id": "4a419ac3-e402-4b10-9831-d0c41d400579",
   "metadata": {
    "tags": []
   },
   "outputs": [],
   "source": [
    "text = [f\"{text_gen[i]} {text_cond[i]}\" for i in range(batch_size)]"
   ]
  },
  {
   "cell_type": "code",
   "execution_count": 66,
   "id": "ee525abc-3f27-4b7e-9cf1-11c89123065d",
   "metadata": {
    "tags": []
   },
   "outputs": [
    {
     "name": "stderr",
     "output_type": "stream",
     "text": [
      "metric: bigscience/bloom-7b1, 3.7576: 100%|██████████| 2048/2048 [04:05<00:00,  8.33it/s]\n"
     ]
    },
    {
     "data": {
      "text/plain": [
       "3.757617524947899"
      ]
     },
     "execution_count": 66,
     "metadata": {},
     "output_type": "execute_result"
    }
   ],
   "source": [
    "compute_metric(metric_bloom_uncond_fn, text)"
   ]
  },
  {
   "cell_type": "code",
   "execution_count": null,
   "id": "c9220289-0818-41c2-9701-1a27de607cb6",
   "metadata": {},
   "outputs": [],
   "source": []
  },
  {
   "cell_type": "code",
   "execution_count": 67,
   "id": "c7e5cf5a-b9c6-406c-94b8-083e441a2d0a",
   "metadata": {
    "tags": []
   },
   "outputs": [],
   "source": [
    "text = [f\"{text_cond[i]} {text_gen[i]}\" for i in range(batch_size)]"
   ]
  },
  {
   "cell_type": "code",
   "execution_count": 68,
   "id": "da7fa741-0b19-4bda-bd46-1b7a3744f267",
   "metadata": {
    "tags": []
   },
   "outputs": [
    {
     "name": "stderr",
     "output_type": "stream",
     "text": [
      "metric: bigscience/bloom-7b1, 3.8073: 100%|██████████| 2048/2048 [04:04<00:00,  8.36it/s]\n"
     ]
    },
    {
     "data": {
      "text/plain": [
       "3.807272912530623"
      ]
     },
     "execution_count": 68,
     "metadata": {},
     "output_type": "execute_result"
    }
   ],
   "source": [
    "compute_metric(metric_bloom_uncond_fn, text)"
   ]
  },
  {
   "cell_type": "markdown",
   "id": "306c47af-eee2-4236-9d8d-ff8b57e759da",
   "metadata": {
    "jp-MarkdownHeadingCollapsed": true,
    "tags": []
   },
   "source": [
    "### Bloom loss только на условной части"
   ]
  },
  {
   "cell_type": "code",
   "execution_count": 7,
   "id": "f13b1f7b-55d0-49ef-b6a5-55671ac56302",
   "metadata": {
    "tags": []
   },
   "outputs": [],
   "source": [
    "from transformers import BloomTokenizerFast, BloomForCausalLM"
   ]
  },
  {
   "cell_type": "code",
   "execution_count": 8,
   "id": "509deb42-5a71-46f8-a48d-001200f8e7d2",
   "metadata": {
    "tags": []
   },
   "outputs": [],
   "source": [
    "name = \"bigscience/bloom-7b1\""
   ]
  },
  {
   "cell_type": "code",
   "execution_count": 9,
   "id": "1d2ace90-e06c-4eef-9f64-344db0171155",
   "metadata": {
    "tags": []
   },
   "outputs": [
    {
     "data": {
      "application/vnd.jupyter.widget-view+json": {
       "model_id": "9454c9fcac2941dda5410c3c24a4e321",
       "version_major": 2,
       "version_minor": 0
      },
      "text/plain": [
       "Loading checkpoint shards:   0%|          | 0/2 [00:00<?, ?it/s]"
      ]
     },
     "metadata": {},
     "output_type": "display_data"
    }
   ],
   "source": [
    "bloom = BloomForCausalLM.from_pretrained(name).eval().to(\"cuda:0\")"
   ]
  },
  {
   "cell_type": "code",
   "execution_count": 10,
   "id": "b0ee97f8-5959-40d4-b4fd-1c906d811ef9",
   "metadata": {
    "tags": []
   },
   "outputs": [],
   "source": [
    "tokenizer_bloom = BloomTokenizerFast.from_pretrained(name)"
   ]
  },
  {
   "cell_type": "markdown",
   "id": "db8f2aab-a105-4a4e-b063-2629c7ef7c25",
   "metadata": {
    "jp-MarkdownHeadingCollapsed": true,
    "tags": []
   },
   "source": [
    "### Анализ выходов токенизатора"
   ]
  },
  {
   "cell_type": "code",
   "execution_count": 29,
   "id": "5c7198d0-c42c-4121-a30e-5ced691b488a",
   "metadata": {
    "tags": []
   },
   "outputs": [],
   "source": [
    "i = 0\n",
    "inputs_gen = tokenizer_bloom(text_gen[i], return_tensors=\"pt\")\n",
    "inputs_cond = tokenizer_bloom(f\" {text_cond[i]}\", return_tensors=\"pt\")"
   ]
  },
  {
   "cell_type": "code",
   "execution_count": 30,
   "id": "9dae3e74-26c0-414b-92ec-9cf615666d7c",
   "metadata": {
    "tags": []
   },
   "outputs": [
    {
     "data": {
      "text/plain": [
       "{'input_ids': tensor([[   368,    337,  19645,   1620,   3466,   7086,    361, 249849,   1002,\n",
       "            267,    427,  88170,   5550,     15,    368,    427,  88170,  22470,\n",
       "             15,    919,    368,   2972,   6209,  11507,     17,    368,    643,\n",
       "         210673,  10393,   1002,   3776, 123871, 243713,  92564,  65615,  42548,\n",
       "          28649,   3262,    368,  51950,  26109,    529,  21671,   1485, 123871]]), 'attention_mask': tensor([[1, 1, 1, 1, 1, 1, 1, 1, 1, 1, 1, 1, 1, 1, 1, 1, 1, 1, 1, 1, 1, 1, 1, 1,\n",
       "         1, 1, 1, 1, 1, 1, 1, 1, 1, 1, 1, 1, 1, 1, 1, 1, 1, 1, 1, 1, 1]])}"
      ]
     },
     "execution_count": 30,
     "metadata": {},
     "output_type": "execute_result"
    }
   ],
   "source": [
    "inputs_cond"
   ]
  },
  {
   "cell_type": "code",
   "execution_count": 31,
   "id": "3afd5e7e-c05c-4264-88ac-505d4acb57fa",
   "metadata": {
    "tags": []
   },
   "outputs": [
    {
     "data": {
      "text/plain": [
       "{'input_ids': tensor([[  1025,  62667, 177949,    361,  12156,     17,    368, 123871,  20038,\n",
       "         134159,   3320,    368,  12457,    326,  15886,  62667,  27999,   2233,\n",
       "           8603,    427,   2592,   4604,   1485,   3776,  21260,   3727,    294,\n",
       "           3658,     68,  62796,  39173,    375,   5840,  39173,    707,   1163,\n",
       "          54113,    361,  47720,     15,  14779,    368,  38026,    461,    368,\n",
       "            664,    647,  61189,  97200,    319,     17,    352,   6580,  33304,\n",
       "         107121,  44171, 163602,    361,  39858,     15,  10494,    368,   5343,\n",
       "          77719,    393,     17, 236871,  11347,     17,    368,  60478, 200058,\n",
       "          25224,    427,    368,   1849,   2277,    440,    361,  33515,     15,\n",
       "           3808,   3968,   5559,    361,    368,  25694,  33032,  49482,  58970,\n",
       "          56238,     15,    613]]), 'attention_mask': tensor([[1, 1, 1, 1, 1, 1, 1, 1, 1, 1, 1, 1, 1, 1, 1, 1, 1, 1, 1, 1, 1, 1, 1, 1,\n",
       "         1, 1, 1, 1, 1, 1, 1, 1, 1, 1, 1, 1, 1, 1, 1, 1, 1, 1, 1, 1, 1, 1, 1, 1,\n",
       "         1, 1, 1, 1, 1, 1, 1, 1, 1, 1, 1, 1, 1, 1, 1, 1, 1, 1, 1, 1, 1, 1, 1, 1,\n",
       "         1, 1, 1, 1, 1, 1, 1, 1, 1, 1, 1, 1, 1, 1, 1, 1, 1, 1, 1, 1, 1]])}"
      ]
     },
     "execution_count": 31,
     "metadata": {},
     "output_type": "execute_result"
    }
   ],
   "source": [
    "inputs_gen"
   ]
  },
  {
   "cell_type": "code",
   "execution_count": 32,
   "id": "94c871da-999e-44a0-9920-31fdd669b601",
   "metadata": {
    "tags": []
   },
   "outputs": [],
   "source": [
    "inputs = tokenizer_bloom(f\" {text_cond[i]} {text_gen[i]}\", return_tensors=\"pt\")"
   ]
  },
  {
   "cell_type": "code",
   "execution_count": 33,
   "id": "6dae62b3-8c33-489d-85d9-72d73a6e05e7",
   "metadata": {
    "tags": []
   },
   "outputs": [
    {
     "data": {
      "text/plain": [
       "{'input_ids': tensor([[   368,    337,  19645,   1620,   3466,   7086,    361, 249849,   1002,\n",
       "            267,    427,  88170,   5550,     15,    368,    427,  88170,  22470,\n",
       "             15,    919,    368,   2972,   6209,  11507,     17,    368,    643,\n",
       "         210673,  10393,   1002,   3776, 123871, 243713,  92564,  65615,  42548,\n",
       "          28649,   3262,    368,  51950,  26109,    529,  21671,   1485, 123871,\n",
       "            427,  62667, 177949,    361,  12156,     17,    368, 123871,  20038,\n",
       "         134159,   3320,    368,  12457,    326,  15886,  62667,  27999,   2233,\n",
       "           8603,    427,   2592,   4604,   1485,   3776,  21260,   3727,    294,\n",
       "           3658,     68,  62796,  39173,    375,   5840,  39173,    707,   1163,\n",
       "          54113,    361,  47720,     15,  14779,    368,  38026,    461,    368,\n",
       "            664,    647,  61189,  97200,    319,     17,    352,   6580,  33304,\n",
       "         107121,  44171, 163602,    361,  39858,     15,  10494,    368,   5343,\n",
       "          77719,    393,     17, 236871,  11347,     17,    368,  60478, 200058,\n",
       "          25224,    427,    368,   1849,   2277,    440,    361,  33515,     15,\n",
       "           3808,   3968,   5559,    361,    368,  25694,  33032,  49482,  58970,\n",
       "          56238,     15,    613]]), 'attention_mask': tensor([[1, 1, 1, 1, 1, 1, 1, 1, 1, 1, 1, 1, 1, 1, 1, 1, 1, 1, 1, 1, 1, 1, 1, 1,\n",
       "         1, 1, 1, 1, 1, 1, 1, 1, 1, 1, 1, 1, 1, 1, 1, 1, 1, 1, 1, 1, 1, 1, 1, 1,\n",
       "         1, 1, 1, 1, 1, 1, 1, 1, 1, 1, 1, 1, 1, 1, 1, 1, 1, 1, 1, 1, 1, 1, 1, 1,\n",
       "         1, 1, 1, 1, 1, 1, 1, 1, 1, 1, 1, 1, 1, 1, 1, 1, 1, 1, 1, 1, 1, 1, 1, 1,\n",
       "         1, 1, 1, 1, 1, 1, 1, 1, 1, 1, 1, 1, 1, 1, 1, 1, 1, 1, 1, 1, 1, 1, 1, 1,\n",
       "         1, 1, 1, 1, 1, 1, 1, 1, 1, 1, 1, 1, 1, 1, 1, 1, 1, 1]])}"
      ]
     },
     "execution_count": 33,
     "metadata": {},
     "output_type": "execute_result"
    }
   ],
   "source": [
    "inputs"
   ]
  },
  {
   "cell_type": "code",
   "execution_count": 34,
   "id": "639ecf78-9d0d-4d4b-a79a-11c052c9f8ee",
   "metadata": {
    "tags": []
   },
   "outputs": [
    {
     "data": {
      "text/plain": [
       "' to'"
      ]
     },
     "execution_count": 34,
     "metadata": {},
     "output_type": "execute_result"
    }
   ],
   "source": [
    "tokenizer_bloom.decode(427)"
   ]
  },
  {
   "cell_type": "code",
   "execution_count": 36,
   "id": "f54ae8cb-0ae0-4b29-885f-bb379def6cd0",
   "metadata": {
    "tags": []
   },
   "outputs": [
    {
     "data": {
      "text/plain": [
       "tensor([   427,  62667, 177949,    361,  12156,     17,    368, 123871,  20038,\n",
       "        134159,   3320,    368,  12457,    326,  15886,  62667,  27999,   2233,\n",
       "          8603,    427,   2592,   4604,   1485,   3776,  21260,   3727,    294,\n",
       "          3658,     68,  62796,  39173,    375,   5840,  39173,    707,   1163,\n",
       "         54113,    361,  47720,     15,  14779,    368,  38026,    461,    368,\n",
       "           664,    647,  61189,  97200,    319,     17,    352,   6580,  33304,\n",
       "        107121,  44171, 163602,    361,  39858,     15,  10494,    368,   5343,\n",
       "         77719,    393,     17, 236871,  11347,     17,    368,  60478, 200058,\n",
       "         25224,    427,    368,   1849,   2277,    440,    361,  33515,     15,\n",
       "          3808,   3968,   5559,    361,    368,  25694,  33032,  49482,  58970,\n",
       "         56238,     15,    613])"
      ]
     },
     "execution_count": 36,
     "metadata": {},
     "output_type": "execute_result"
    }
   ],
   "source": [
    "inputs[\"input_ids\"][0, - torch.sum(inputs_gen[\"attention_mask\"]):]"
   ]
  },
  {
   "cell_type": "code",
   "execution_count": 26,
   "id": "0c90d5e2-0a89-4930-a716-347756352bb5",
   "metadata": {
    "tags": []
   },
   "outputs": [
    {
     "data": {
      "text/plain": [
       "tensor(45)"
      ]
     },
     "execution_count": 26,
     "metadata": {},
     "output_type": "execute_result"
    }
   ],
   "source": [
    "torch.sum(inputs[\"attention_mask\"]) "
   ]
  },
  {
   "cell_type": "markdown",
   "id": "ff8711dd-9165-444c-8d79-64f1a9017c8b",
   "metadata": {
    "tags": []
   },
   "source": [
    "### Измерение метрики"
   ]
  },
  {
   "cell_type": "code",
   "execution_count": 39,
   "id": "64afcef6-1c07-45ad-b92f-2b1d61d1887a",
   "metadata": {
    "tags": []
   },
   "outputs": [
    {
     "name": "stderr",
     "output_type": "stream",
     "text": [
      "100%|██████████| 1024/1024 [01:41<00:00, 10.11it/s]\n"
     ]
    },
    {
     "data": {
      "text/plain": [
       "tensor(3.4119, device='cuda:0')"
      ]
     },
     "execution_count": 39,
     "metadata": {},
     "output_type": "execute_result"
    }
   ],
   "source": [
    "num = 0\n",
    "loss = 0\n",
    "\n",
    "with torch.no_grad():\n",
    "    for i in tqdm(range(batch_size)):\n",
    "        # the first word is necessary for tokens to start with an unnecessary word, because metric doeesn't count it\n",
    "        inputs = tokenizer_bloom(f\" {text_cond[i]} {text_gen[i]}\", return_tensors=\"pt\")\n",
    "        inputs_gen = tokenizer_bloom(f\"{text_gen[i]}\", return_tensors=\"pt\")\n",
    "\n",
    "        inputs = dict_to_cuda(inputs)\n",
    "        outputs = bloom(**inputs, labels=inputs[\"input_ids\"])\n",
    "\n",
    "        losses = cross_entropy(\n",
    "                input=outputs.logits.reshape(-1, outputs.logits.shape[-1])[:-1],\n",
    "                target=inputs[\"input_ids\"].reshape(-1)[1:],\n",
    "                reduce=False,\n",
    "            )\n",
    "        losses = losses[torch.sum(inputs_cond[\"attention_mask\"]).item() - 1:]\n",
    "        loss += losses.sum()\n",
    "        num += losses.shape[0]\n",
    "\n",
    "loss / num"
   ]
  },
  {
   "cell_type": "code",
   "execution_count": 15,
   "id": "9ae0e6c9-682f-4b59-b98c-3156028cf30b",
   "metadata": {
    "tags": []
   },
   "outputs": [],
   "source": [
    "inputs_gen = tokenizer_bloom(text_gen[0], return_tensors=\"pt\")\n",
    "inputs_cond = tokenizer_bloom(text_cond[0], return_tensors=\"pt\")"
   ]
  },
  {
   "cell_type": "code",
   "execution_count": 16,
   "id": "b10328cd-337a-48ee-bb55-5a995543ae55",
   "metadata": {
    "tags": []
   },
   "outputs": [],
   "source": [
    "inputs = {\n",
    "    \"input_ids\": torch.cat([inputs_cond[\"input_ids\"], inputs_gen[\"input_ids\"]], dim=-1),\n",
    "    \"attention_mask\": torch.cat([inputs_cond[\"attention_mask\"], inputs_gen[\"attention_mask\"]], dim=-1)\n",
    "}"
   ]
  },
  {
   "cell_type": "code",
   "execution_count": 17,
   "id": "f80dc38b-4f36-441a-8c94-08db297fe32c",
   "metadata": {
    "tags": []
   },
   "outputs": [],
   "source": [
    "inputs = dict_to_cuda(inputs)"
   ]
  },
  {
   "cell_type": "code",
   "execution_count": 18,
   "id": "c3434857-a684-4dea-9b53-0a0023a8711d",
   "metadata": {
    "tags": []
   },
   "outputs": [],
   "source": [
    "outputs = bloom(**inputs, labels=inputs[\"input_ids\"])"
   ]
  },
  {
   "cell_type": "code",
   "execution_count": 21,
   "id": "4b8d682d-2adc-4829-9751-948d62fcf222",
   "metadata": {
    "tags": []
   },
   "outputs": [
    {
     "data": {
      "text/plain": [
       "(torch.Size([1, 138]), torch.Size([1, 138, 250880]))"
      ]
     },
     "execution_count": 21,
     "metadata": {},
     "output_type": "execute_result"
    }
   ],
   "source": [
    "inputs[\"input_ids\"].shape, outputs.logits.shape"
   ]
  },
  {
   "cell_type": "code",
   "execution_count": 114,
   "id": "2c3e456a-0167-42be-a344-cb4887fe4312",
   "metadata": {
    "tags": []
   },
   "outputs": [],
   "source": [
    "losses = cross_entropy(\n",
    "            input=outputs.logits.reshape(-1, outputs.logits.shape[-1])[:-1],\n",
    "            target=inputs[\"input_ids\"].reshape(-1)[1:],\n",
    "            reduce=False,\n",
    "        )"
   ]
  },
  {
   "cell_type": "code",
   "execution_count": 127,
   "id": "8927d15e-d126-468b-b2f7-418cfdbf536b",
   "metadata": {
    "tags": []
   },
   "outputs": [
    {
     "data": {
      "text/plain": [
       "tensor(4.3345, device='cuda:0', grad_fn=<MeanBackward0>)"
      ]
     },
     "execution_count": 127,
     "metadata": {},
     "output_type": "execute_result"
    }
   ],
   "source": [
    "losses = losses[torch.sum(inputs_cond[\"attention_mask\"]).item() - 1:]"
   ]
  },
  {
   "cell_type": "markdown",
   "id": "0da8ef49-8390-4a49-8b24-f44f5084cdb8",
   "metadata": {
    "tags": []
   },
   "source": [
    "## Метрика Roberta"
   ]
  },
  {
   "cell_type": "code",
   "execution_count": 10,
   "id": "eedd49cd-d4cc-4297-8f9a-b95beab767e7",
   "metadata": {},
   "outputs": [],
   "source": [
    "from estimation_utils.metrics import RobertaMetric"
   ]
  },
  {
   "cell_type": "code",
   "execution_count": 11,
   "id": "d612b3a4-6005-495c-a14a-5b02a5a184fa",
   "metadata": {
    "tags": []
   },
   "outputs": [
    {
     "name": "stderr",
     "output_type": "stream",
     "text": [
      "Some weights of the model checkpoint at textattack/roberta-base-CoLA were not used when initializing RobertaForSequenceClassification: ['roberta.pooler.dense.weight', 'roberta.pooler.dense.bias']\n",
      "- This IS expected if you are initializing RobertaForSequenceClassification from the checkpoint of a model trained on another task or with another architecture (e.g. initializing a BertForSequenceClassification model from a BertForPreTraining model).\n",
      "- This IS NOT expected if you are initializing RobertaForSequenceClassification from the checkpoint of a model that you expect to be exactly identical (initializing a BertForSequenceClassification model from a BertForSequenceClassification model).\n"
     ]
    }
   ],
   "source": [
    "roberta = RobertaMetric(device=\"cuda:0\")"
   ]
  },
  {
   "cell_type": "code",
   "execution_count": 15,
   "id": "98fdf553-8d43-480f-ab40-6e52f32850e6",
   "metadata": {
    "tags": []
   },
   "outputs": [
    {
     "data": {
      "text/plain": [
       "(0.5261813402175903,\n",
       " tensor([0.3118, 0.8978, 0.9407,  ..., 0.9067, 0.7395, 0.2064], device='cuda:0'))"
      ]
     },
     "execution_count": 15,
     "metadata": {},
     "output_type": "execute_result"
    }
   ],
   "source": [
    "text_short = tokenizer.batch_decode(\n",
    "    X[\"cond_ids\"][:, :16], \n",
    "    skip_special_tokens=True\n",
    ")\n",
    "roberta(texts=text_short)"
   ]
  },
  {
   "cell_type": "code",
   "execution_count": null,
   "id": "fa5d44bc-b773-478a-94ff-6f389bd30e43",
   "metadata": {
    "tags": []
   },
   "outputs": [],
   "source": [
    "texts = [f\"{text_cond[i]} {text_gen[i]}\" for i in range(batch_size)]\n",
    "roberta(texts=texts)"
   ]
  },
  {
   "cell_type": "code",
   "execution_count": 60,
   "id": "2e59d2f8-876d-477e-a460-cae0b7e15b24",
   "metadata": {
    "tags": []
   },
   "outputs": [
    {
     "data": {
      "text/plain": [
       "0.39841729402542114"
      ]
     },
     "execution_count": 60,
     "metadata": {},
     "output_type": "execute_result"
    }
   ],
   "source": [
    "texts = [f\"{text_gen[i]} {text_cond[i]}\" for i in range(batch_size)]\n",
    "roberta(texts=texts)"
   ]
  },
  {
   "cell_type": "code",
   "execution_count": 61,
   "id": "afccb00f-e3dc-4459-bdcd-bcde80176b3e",
   "metadata": {
    "tags": []
   },
   "outputs": [
    {
     "data": {
      "text/plain": [
       "0.3662017583847046"
      ]
     },
     "execution_count": 61,
     "metadata": {},
     "output_type": "execute_result"
    }
   ],
   "source": [
    "random.shuffle(text_cond)\n",
    "texts = [f\"{text_gen[i]} {text_cond[i]}\" for i in range(batch_size)]\n",
    "roberta(texts=texts)"
   ]
  },
  {
   "cell_type": "code",
   "execution_count": 62,
   "id": "3127b364-e2e8-4513-be7f-4ea4787dff52",
   "metadata": {
    "tags": []
   },
   "outputs": [
    {
     "data": {
      "text/plain": [
       "0.4591570198535919"
      ]
     },
     "execution_count": 62,
     "metadata": {},
     "output_type": "execute_result"
    }
   ],
   "source": [
    "roberta(texts=text_gen)"
   ]
  },
  {
   "cell_type": "code",
   "execution_count": 63,
   "id": "18c0d412-ad18-4642-83b6-4c37798e73c5",
   "metadata": {
    "tags": []
   },
   "outputs": [
    {
     "data": {
      "text/plain": [
       "0.5204423666000366"
      ]
     },
     "execution_count": 63,
     "metadata": {},
     "output_type": "execute_result"
    }
   ],
   "source": [
    "roberta(texts=text_cond)"
   ]
  },
  {
   "cell_type": "code",
   "execution_count": 89,
   "id": "7ef0214b-e936-4649-945d-d104685a3440",
   "metadata": {
    "tags": []
   },
   "outputs": [],
   "source": [
    "texts = [f\"{text_cond[i]} {text_gen[i]}\" for i in range(batch_size)]"
   ]
  },
  {
   "cell_type": "code",
   "execution_count": 90,
   "id": "5d816fef-1155-4a53-8590-ab99e4e9ebe8",
   "metadata": {
    "tags": []
   },
   "outputs": [
    {
     "data": {
      "text/plain": [
       "0.49922260642051697"
      ]
     },
     "execution_count": 90,
     "metadata": {},
     "output_type": "execute_result"
    }
   ],
   "source": [
    "roberta(texts=texts)"
   ]
  },
  {
   "cell_type": "code",
   "execution_count": 13,
   "id": "da34f9aa-3121-49f1-9c30-094b3ace3ce7",
   "metadata": {
    "tags": []
   },
   "outputs": [],
   "source": [
    "texts = [f\"{text_cond[i]} {text_gen[i]}\" for i in range(batch_size)]\n",
    "for i, text in enumerate(texts):\n",
    "    p = 0.1\n",
    "    text = text.split(\" \")\n",
    "    new_text = []\n",
    "    for word in text:\n",
    "        if random.random() < p:\n",
    "            new_text.append(\".\")\n",
    "        else:\n",
    "            new_text.append(word)\n",
    "            \n",
    "    texts[i] = \" \".join(new_text)"
   ]
  },
  {
   "cell_type": "code",
   "execution_count": null,
   "id": "5a0c83fe-f5fe-4ff8-afba-0f8706875180",
   "metadata": {
    "tags": []
   },
   "outputs": [],
   "source": [
    "compute_metric(metric_bloom_fn, texts=texts)"
   ]
  },
  {
   "cell_type": "code",
   "execution_count": 93,
   "id": "b11a5e8c-df0f-4a6d-8afc-75fcc11a1f57",
   "metadata": {
    "tags": []
   },
   "outputs": [
    {
     "data": {
      "text/plain": [
       "0.3128419816493988"
      ]
     },
     "execution_count": 93,
     "metadata": {},
     "output_type": "execute_result"
    }
   ],
   "source": [
    "roberta(texts=texts)"
   ]
  },
  {
   "cell_type": "code",
   "execution_count": null,
   "id": "bdd68bb6-5e39-48b8-8592-965ef64a609f",
   "metadata": {},
   "outputs": [],
   "source": []
  },
  {
   "cell_type": "code",
   "execution_count": 94,
   "id": "72f1b78f-8f0b-4c8c-b819-2d868d1edd74",
   "metadata": {
    "tags": []
   },
   "outputs": [],
   "source": [
    "texts = [f\"{text_cond[i]} {text_gen[i]}\" for i in range(batch_size)]\n",
    "for i, text in enumerate(texts):\n",
    "    p = 0.1\n",
    "    text = text.split(\" \")\n",
    "    new_text = []\n",
    "    for word in text:\n",
    "        if random.random() < p:\n",
    "            new_text.append(\" \")\n",
    "        else:\n",
    "            new_text.append(word)\n",
    "            \n",
    "    texts[i] = \" \".join(new_text)"
   ]
  },
  {
   "cell_type": "code",
   "execution_count": 95,
   "id": "efa616b8-0632-4283-ad27-438ccd90df26",
   "metadata": {
    "tags": []
   },
   "outputs": [
    {
     "data": {
      "text/plain": [
       "0.3207021951675415"
      ]
     },
     "execution_count": 95,
     "metadata": {},
     "output_type": "execute_result"
    }
   ],
   "source": [
    "roberta(texts=texts)"
   ]
  },
  {
   "cell_type": "code",
   "execution_count": 33,
   "id": "a04d578a-489f-411f-bf62-c0109529684d",
   "metadata": {},
   "outputs": [
    {
     "name": "stdout",
     "output_type": "stream",
     "text": [
      "CPU times: user 4min 10s, sys: 1.89 s, total: 4min 12s\n",
      "Wall time: 4min 12s\n"
     ]
    }
   ],
   "source": [
    "%%time\n",
    "\n",
    "texts_gpt = generator_gpt2(text_cond, max_new_tokens=64, \n",
    "                           num_return_sequences=1, \n",
    "                           return_full_text=True, pad_token_id=50256)"
   ]
  },
  {
   "cell_type": "code",
   "execution_count": 34,
   "id": "76c67b34-78f5-4307-88e5-c022e7b66e9b",
   "metadata": {
    "tags": []
   },
   "outputs": [
    {
     "data": {
      "text/plain": [
       "(0.4877470135688782,\n",
       " tensor([0.5779, 0.5104, 0.3568, 0.2517, 0.7271, 0.4867, 0.7622, 0.8698, 0.2075,\n",
       "         0.2607, 0.4899, 0.8301, 0.5169, 0.6485, 0.6641, 0.2754, 0.2558, 0.5188,\n",
       "         0.1760, 0.1451, 0.3110, 0.7511, 0.3583, 0.3705, 0.5514, 0.6543, 0.5779,\n",
       "         0.7417, 0.2123, 0.6042, 0.7556, 0.3087, 0.5221, 0.3783, 0.4470, 0.4775,\n",
       "         0.4283, 0.3956, 0.7726, 0.6011, 0.3764, 0.4093, 0.8102, 0.5654, 0.2612,\n",
       "         0.6373, 0.3097, 0.4605, 0.3883, 0.7912, 0.6219, 0.5540, 0.1725, 0.6342,\n",
       "         0.3615, 0.6171, 0.2309, 0.5584, 0.3747, 0.5264, 0.3872, 0.2884, 0.5092,\n",
       "         0.7142, 0.5794, 0.8245, 0.1238, 0.3681, 0.4181, 0.5498, 0.6111, 0.2835,\n",
       "         0.7930, 0.6789, 0.7963, 0.2949, 0.4544, 0.2540, 0.4362, 0.7015, 0.3506,\n",
       "         0.4107, 0.5645, 0.4014, 0.3523, 0.5335, 0.6442, 0.7794, 0.4134, 0.7258,\n",
       "         0.4365, 0.5077, 0.3813, 0.5837, 0.2115, 0.5137, 0.4096, 0.4204, 0.6959,\n",
       "         0.5096, 0.3588, 0.5827, 0.5250, 0.4122, 0.3715, 0.5128, 0.3495, 0.8818,\n",
       "         0.4331, 0.5864, 0.7625, 0.3083, 0.5153, 0.5063, 0.4221, 0.5748, 0.7775,\n",
       "         0.7658, 0.5527, 0.2822, 0.2856, 0.3650, 0.7132, 0.3247, 0.2722, 0.2454,\n",
       "         0.6131, 0.4991, 0.7839, 0.1516, 0.5074, 0.2450, 0.4653, 0.6169, 0.7990,\n",
       "         0.6914, 0.2401, 0.8504, 0.6523, 0.4643, 0.5488, 0.5880, 0.4461, 0.5222,\n",
       "         0.3935, 0.4556, 0.3801, 0.4769, 0.2546, 0.5637, 0.3436, 0.3913, 0.3806,\n",
       "         0.5638, 0.7050, 0.4344, 0.3861, 0.7239, 0.3436, 0.2378, 0.7998, 0.3908,\n",
       "         0.4833, 0.4106, 0.9005, 0.5715, 0.3945, 0.4273, 0.3731, 0.5045, 0.6656,\n",
       "         0.4058, 0.4680, 0.2656, 0.2462, 0.3532, 0.4913, 0.4682, 0.3032, 0.5208,\n",
       "         0.5545, 0.7319, 0.8524, 0.3154, 0.4242, 0.3134, 0.7534, 0.5635, 0.2171,\n",
       "         0.4008, 0.6944, 0.4880, 0.5071, 0.4893, 0.7646, 0.3693, 0.3820, 0.2018,\n",
       "         0.5954, 0.3308, 0.6230, 0.3955, 0.5813, 0.6687, 0.4322, 0.5407, 0.3563,\n",
       "         0.5935, 0.3633, 0.8014, 0.4415, 0.3326, 0.5464, 0.2499, 0.2282, 0.3925,\n",
       "         0.6495, 0.3250, 0.2971, 0.6260, 0.4382, 0.3901, 0.6718, 0.2707, 0.5946,\n",
       "         0.1723, 0.3770, 0.7732, 0.8430, 0.5235, 0.3400, 0.4612, 0.4163, 0.5738,\n",
       "         0.2402, 0.3764, 0.7307, 0.2595, 0.2651, 0.3995, 0.7038, 0.2558, 0.4617,\n",
       "         0.4907, 0.3724, 0.3382, 0.6607, 0.5810, 0.2350, 0.4073, 0.2964, 0.5994,\n",
       "         0.7371, 0.2465, 0.4597, 0.3270, 0.2953, 0.5786, 0.2987, 0.6272, 0.6201,\n",
       "         0.7187, 0.2391, 0.2446, 0.6168, 0.5928, 0.5835, 0.7696, 0.3297, 0.5025,\n",
       "         0.5155, 0.3905, 0.5935, 0.5128, 0.7606, 0.5768, 0.7854, 0.3157, 0.0844,\n",
       "         0.3193, 0.4280, 0.3706, 0.3984, 0.3743, 0.3238, 0.4549, 0.7549, 0.6258,\n",
       "         0.2986, 0.3756, 0.5263, 0.5714, 0.5497, 0.6339, 0.4983, 0.4107, 0.8921,\n",
       "         0.5388, 0.1466, 0.5576, 0.7804, 0.6316, 0.4310, 0.5536, 0.4554, 0.4980,\n",
       "         0.5062, 0.5551, 0.2202, 0.1772, 0.2595, 0.3413, 0.1980, 0.3781, 0.2168,\n",
       "         0.6490, 0.4623, 0.5008, 0.2821, 0.5478, 0.8585, 0.2851, 0.4577, 0.4527,\n",
       "         0.2857, 0.4778, 0.6142, 0.5082, 0.5281, 0.3836, 0.5920, 0.3353, 0.5140,\n",
       "         0.4325, 0.2400, 0.4042, 0.4942, 0.6080, 0.2779, 0.3333, 0.4427, 0.8287,\n",
       "         0.4649, 0.1988, 0.7602, 0.3576, 0.3160, 0.3717, 0.2988, 0.5890, 0.8170,\n",
       "         0.5549, 0.5997, 0.2080, 0.8422, 0.6142, 0.4511, 0.6566, 0.6083, 0.5403,\n",
       "         0.5787, 0.5496, 0.3217, 0.3078, 0.5410, 0.5833, 0.5790, 0.7900, 0.7214,\n",
       "         0.6961, 0.3122, 0.6346, 0.4394, 0.3618, 0.4067, 0.1399, 0.3864, 0.4597,\n",
       "         0.4158, 0.3618, 0.5065, 0.3321, 0.5959, 0.7755, 0.5456, 0.4669, 0.2213,\n",
       "         0.6555, 0.6616, 0.3537, 0.5434, 0.5726, 0.4634, 0.4092, 0.2155, 0.6489,\n",
       "         0.4041, 0.2857, 0.5215, 0.4797, 0.3406, 0.7238, 0.5861, 0.4884, 0.6157,\n",
       "         0.5288, 0.6687, 0.6011, 0.4427, 0.5858, 0.3247, 0.2737, 0.6742, 0.2085,\n",
       "         0.5167, 0.4050, 0.3828, 0.6051, 0.5625, 0.5896, 0.2072, 0.5450, 0.8833,\n",
       "         0.1566, 0.4162, 0.5657, 0.3321, 0.4685, 0.4049, 0.7565, 0.6680, 0.5582,\n",
       "         0.4324, 0.6680, 0.4780, 0.7002, 0.3638, 0.3780, 0.4811, 0.5831, 0.2551,\n",
       "         0.5663, 0.5089, 0.4928, 0.3758, 0.8436, 0.2665, 0.5395, 0.7253, 0.6087,\n",
       "         0.3032, 0.6897, 0.6820, 0.6088, 0.3363, 0.1094, 0.1680, 0.4851, 0.4669,\n",
       "         0.4855, 0.8584, 0.3582, 0.3849, 0.5994, 0.6889, 0.3502, 0.4570, 0.5221,\n",
       "         0.3875, 0.5789, 0.8868, 0.7023, 0.2848, 0.6620, 0.3783, 0.6173, 0.6382,\n",
       "         0.6555, 0.3620, 0.5560, 0.4939, 0.2623, 0.5227, 0.2819, 0.7757, 0.4891,\n",
       "         0.4855, 0.2018, 0.6268, 0.5255, 0.8206, 0.4359, 0.3263, 0.1978, 0.7721,\n",
       "         0.5720, 0.3255, 0.7446, 0.5879, 0.8331, 0.4030, 0.5675, 0.6118, 0.2234,\n",
       "         0.4297, 0.9497, 0.3138, 0.3757, 0.6511, 0.3259, 0.2758, 0.7466],\n",
       "        device='cuda:0'))"
      ]
     },
     "execution_count": 34,
     "metadata": {},
     "output_type": "execute_result"
    }
   ],
   "source": [
    "roberta(texts=[text[0][\"generated_text\"] for text in texts_gpt])"
   ]
  },
  {
   "cell_type": "code",
   "execution_count": null,
   "id": "1df8e5af-f0d2-46ec-9953-14230bc92257",
   "metadata": {},
   "outputs": [],
   "source": [
    "0.49"
   ]
  }
 ],
 "metadata": {
  "kernelspec": {
   "display_name": "Python [.conda-fap2_env]",
   "language": "python",
   "name": "conda-env-.conda-fap2_env-py"
  },
  "language_info": {
   "codemirror_mode": {
    "name": "ipython",
    "version": 3
   },
   "file_extension": ".py",
   "mimetype": "text/x-python",
   "name": "python",
   "nbconvert_exporter": "python",
   "pygments_lexer": "ipython3",
   "version": "3.9.16"
  }
 },
 "nbformat": 4,
 "nbformat_minor": 5
}
