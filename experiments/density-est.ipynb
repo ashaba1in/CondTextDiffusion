{
 "cells": [
  {
   "cell_type": "code",
   "execution_count": 1,
   "id": "d4028bda-b75b-4613-a94f-30f1d1e3635c",
   "metadata": {},
   "outputs": [],
   "source": [
    "%load_ext autoreload\n",
    "%autoreload 2"
   ]
  },
  {
   "cell_type": "code",
   "execution_count": 2,
   "id": "8dfc7457-ba92-4ea3-a4b7-438805cbc554",
   "metadata": {},
   "outputs": [],
   "source": [
    "import sys\n",
    "\n",
    "sys.path.append(\"/home/vmeshchaninov/DiffusionTextGeneration/\")"
   ]
  },
  {
   "cell_type": "code",
   "execution_count": 12,
   "id": "572e6dea-1285-47e9-bea5-a0d8052ff6e0",
   "metadata": {},
   "outputs": [],
   "source": [
    "import torch\n",
    "import numpy as np\n",
    "import ml_collections\n",
    "import matplotlib.pyplot as plt\n",
    "\n",
    "from tqdm import tqdm\n",
    "from torch.utils.data import DataLoader\n",
    "from diffusion_holder import DiffusionRunner\n",
    "from transformers import BertConfig, BertTokenizerFast\n",
    "\n",
    "from data.create_dataset import create_wikipedia_dataset, create_rocstory_dataset, create_glue_unsupervised_dataset\n",
    "from data.preprocessing import text_preprocessor, unsupervised_preprocessor, supervised_preprocessor\n",
    "from utils.util import dict_to_tensors, masked_mean, masked_std, set_seed, dict_to_cuda"
   ]
  },
  {
   "cell_type": "code",
   "execution_count": 142,
   "id": "93b951ab-7b70-467c-925b-e414f49f290a",
   "metadata": {},
   "outputs": [],
   "source": [
    "def create_config():\n",
    "    config = ml_collections.ConfigDict()\n",
    "\n",
    "    training = config.training = ml_collections.ConfigDict()\n",
    "    training.ode_sampling = False\n",
    "    training.checkpoints_folder = '../checkpoints'\n",
    "    #config.checkpoints_prefix = \"wikipedia--encodings-prediction=x_0-loss=L_x_0-enc=base-bert=base-kl_cf=0.0-seq_len=64-clipgrad=0.1-lr=5e-05-min_lr=1e-05-identity_debug_600000_\"\n",
    "    #config.checkpoints_prefix = \"wikipedia--encodings-prediction=x_0_x_t-loss=L_x_0-enc=base-bert=base-kl_cf=0.0-seq_len=64-clipgrad=0.1-lr=5e-05-min_lr=1e-05-_900000_\"\n",
    "    #config.checkpoints_prefix = \"wikipedia--encodings-prediction=x_0_a_x_t-loss=L_x_0-enc=base-bert=base-kl_cf=0.0-seq_len=64-clipgrad=0.1-lr=5e-05-min_lr=1e-05-norm_repaired_900000_\"\n",
    "    \n",
    "    config.checkpoints_prefix = \"rocstory--encodings-prediction=x_0_a_x_t-loss=L_x_0-enc=base-bert=base-kl_cf=0.0-seq_len=64-clipgrad=0.1-lr=5e-05-min_lr=1e-05-norm_repaired_900000_\"\n",
    "    #config.checkpoints_prefix = \"rocstory--encodings-prediction=x_0_a_x_t-loss=L_x_0-enc=base-bert=base-kl_cf=0.0-seq_len=32-clipgrad=0.1-lr=5e-05-min_lr=1e-05-norm_repaired_1400000_\"\n",
    "    #config.checkpoints_prefix = \"rocstory--encodings-prediction=eps_a_x_t-loss=L_eps-enc=base-bert=base-kl_cf=0.0-seq_len=64-clipgrad=0.1-lr=5e-05-min_lr=1e-05-norm_repaired_1800000_\"\n",
    "    \n",
    "    \n",
    "    \n",
    "    sde = config.sde = ml_collections.ConfigDict()\n",
    "    sde.typename = 'vp-sde'\n",
    "    sde.solver = 'euler'\n",
    "    sde.N = 2000\n",
    "    sde.beta_min = 0.1\n",
    "    sde.beta_max = 20\n",
    "    sde.ode_sampling = False\n",
    "\n",
    "    model = config.model = ml_collections.ConfigDict()\n",
    "    model.ema_rate = 0.9999\n",
    "    model.enc_type = \"base\"\n",
    "    model.embeddings_type = \"encodings\"\n",
    "    model.dif_enc_type = \"base\"\n",
    "    model.prediction = \"x_0_a_x_t\"\n",
    "    model.dataset = \"rocstory\"\n",
    "\n",
    "    data = config.data = ml_collections.ConfigDict()\n",
    "    data.config_path = \"/home/vmeshchaninov/DiffusionTextGeneration/data/config.json\"\n",
    "    data.max_sequence_len = 64\n",
    "\n",
    "    config.device = 'cuda:0'\n",
    "    config.ddp = False\n",
    "    config.seed = 0\n",
    "    config.bert_config = None\n",
    "    return config"
   ]
  },
  {
   "cell_type": "code",
   "execution_count": 143,
   "id": "ef813441-0d68-4d4a-92ba-3c523fbab010",
   "metadata": {},
   "outputs": [
    {
     "name": "stderr",
     "output_type": "stream",
     "text": [
      "Some weights of the model checkpoint at bert-base-uncased were not used when initializing BertLMHeadModel: ['cls.seq_relationship.weight', 'cls.seq_relationship.bias']\n",
      "- This IS expected if you are initializing BertLMHeadModel from the checkpoint of a model trained on another task or with another architecture (e.g. initializing a BertForSequenceClassification model from a BertForPreTraining model).\n",
      "- This IS NOT expected if you are initializing BertLMHeadModel from the checkpoint of a model that you expect to be exactly identical (initializing a BertForSequenceClassification model from a BertForSequenceClassification model).\n"
     ]
    }
   ],
   "source": [
    "config = create_config()\n",
    "config.bert_config = BertConfig.from_pretrained(\"bert-base-uncased\")\n",
    "\n",
    "seed = config.seed\n",
    "set_seed(seed)\n",
    "\n",
    "diffusion = DiffusionRunner(config, latent_mode=\"encodings\", eval=True)"
   ]
  },
  {
   "cell_type": "code",
   "execution_count": 124,
   "id": "17da7e78-e7b2-49d7-b750-2c372610b1ab",
   "metadata": {},
   "outputs": [],
   "source": [
    "max_sequence_len = 64\n",
    "tokenizer = BertTokenizerFast.from_pretrained(\"bert-base-uncased\")\n",
    "#dataset_wiki = create_wikipedia_dataset(split=\"validation\", tokenizer=tokenizer, max_sequence_len=max_sequence_len)\n",
    "dataset_roc = create_rocstory_dataset(split=\"train\", tokenizer=tokenizer, max_sequence_len=max_sequence_len)"
   ]
  },
  {
   "cell_type": "code",
   "execution_count": 44,
   "id": "50020411-d97a-42f1-b054-d3902b4e98f8",
   "metadata": {},
   "outputs": [
    {
     "name": "stdout",
     "output_type": "stream",
     "text": [
      "sst2 is loaded\n"
     ]
    }
   ],
   "source": [
    "dataset_sst2 = create_glue_unsupervised_dataset(split=\"train\", tokenizer=tokenizer, max_sequence_len=max_sequence_len, downstream_task=\"sst2\")"
   ]
  },
  {
   "cell_type": "code",
   "execution_count": 12,
   "id": "b821901c-3493-443b-bb80-c71c0b6b8667",
   "metadata": {},
   "outputs": [],
   "source": [
    "def compute_trace(x_t, t, mask):\n",
    "    eps = torch.randn_like(x_t)\n",
    "    with torch.enable_grad():\n",
    "        x_t.requires_grad_(True)\n",
    "        fn = get_x_t_next_drift(x_t, t, mask)\n",
    "        fn_eps = torch.sum(fn * eps)\n",
    "        grad_fn_eps = torch.autograd.grad(fn_eps, x_t)[0]\n",
    "    x_t.requires_grad_(False)\n",
    "    trace = torch.sum(grad_fn_eps * eps, dim=[1, 2])\n",
    "    return trace"
   ]
  },
  {
   "cell_type": "code",
   "execution_count": 13,
   "id": "d1ecb3dd-ac63-4e1e-9407-ac0ed1635097",
   "metadata": {},
   "outputs": [],
   "source": [
    "def prior_logp(z):\n",
    "    shape = z.shape\n",
    "    N = np.prod(shape[1:])\n",
    "    return -N / 2. * np.log(2 * np.pi) - torch.sum(z ** 2, dim=(1, 2)) / 2."
   ]
  },
  {
   "cell_type": "code",
   "execution_count": 14,
   "id": "77c289be-c07c-40aa-a768-647fe19fe37f",
   "metadata": {},
   "outputs": [],
   "source": [
    "def get_x_t_next(x_t, vec_t, mask):\n",
    "    params = diffusion.sde.sde(x_t, vec_t)\n",
    "    drift, dif = params[\"drift\"], params[\"diffusion\"]\n",
    "    dt = 1. / diffusion.diff_eq_solver.rsde.N\n",
    "    \n",
    "    score = diffusion.sde.calc_score(diffusion.score_estimator, x_t, vec_t, mask)[\"score\"]\n",
    "    dx = drift * dt - 0.5 * dif[:, None, None] ** 2 * score * dt\n",
    "    x_t_next = x_t + dx\n",
    "    return x_t_next"
   ]
  },
  {
   "cell_type": "code",
   "execution_count": 15,
   "id": "16d0caa3-067e-4c57-989e-33c67d86f82e",
   "metadata": {},
   "outputs": [],
   "source": [
    "def get_x_t_next_drift(x_t, vec_t, mask):\n",
    "    params = diffusion.sde.sde(x_t, vec_t)\n",
    "    drift, dif = params[\"drift\"], params[\"diffusion\"]\n",
    "    dt = 1. / diffusion.diff_eq_solver.rsde.N\n",
    "    \n",
    "    score = diffusion.sde.calc_score(diffusion.score_estimator, x_t, vec_t, mask)[\"score\"]\n",
    "    return drift - 0.5 * dif[:, None, None] ** 2 * score"
   ]
  },
  {
   "cell_type": "code",
   "execution_count": 228,
   "id": "9f35165e-9c39-4202-9c0d-24393d636aa0",
   "metadata": {},
   "outputs": [
    {
     "data": {
      "text/plain": [
       "(tensor(-0.0004, device='cuda:0'), tensor(1.0035, device='cuda:0'))"
      ]
     },
     "execution_count": 228,
     "metadata": {},
     "output_type": "execute_result"
    }
   ],
   "source": [
    "batch_size = 32\n",
    "loader = DataLoader(\n",
    "            dataset_roc,\n",
    "            batch_size=batch_size,\n",
    "            num_workers=1,\n",
    "            shuffle=False,\n",
    "        )\n",
    "\n",
    "\n",
    "for X in loader:\n",
    "    break\n",
    "X = dict_to_cuda(X)\n",
    "embs = diffusion.sampler_emb({key:X[key].cuda() for key in [\"input_ids\", \"attention_mask\"]})\n",
    "mask = X[\"attention_mask\"]\n",
    "torch.mean(masked_mean(embs, mask)), torch.mean(masked_std(embs, mask))"
   ]
  },
  {
   "cell_type": "code",
   "execution_count": 27,
   "id": "9d160de2-3a61-416f-8aae-3b7268c4d702",
   "metadata": {},
   "outputs": [
    {
     "name": "stderr",
     "output_type": "stream",
     "text": [
      "100%|██████████| 2000/2000 [03:23<00:00,  9.84it/s]\n"
     ]
    }
   ],
   "source": [
    "set_seed(0)\n",
    "\n",
    "probability = torch.zeros(batch_size).to(\"cuda:0\")\n",
    "probas = []\n",
    "\n",
    "dt = 1 / diffusion.diff_eq_solver.sde.N\n",
    "timesteps = torch.linspace(dt, diffusion.sde.T, diffusion.sde.N, device=diffusion.device)\n",
    "\n",
    "x_0 = embs\n",
    "vec_t = torch.ones(batch_size, device=\"cuda:0\") * timesteps[0]\n",
    "params = diffusion.sde.marginal_params_tensor(x_0, vec_t)\n",
    "alpha, std = params[\"alpha\"], params[\"std\"]\n",
    "x_t = x_0 * alpha + torch.randn_like(x_0) * std\n",
    "\n",
    "set_seed(0)\n",
    "with torch.no_grad():\n",
    "    for t in tqdm(timesteps):\n",
    "        vec_t = torch.ones(batch_size, device=t.device) * t\n",
    "        proba = compute_trace(x_t, vec_t, mask) * dt\n",
    "        probability += proba\n",
    "        probas.append(proba)\n",
    "        x_t = get_x_t_next(x_t, vec_t, mask)"
   ]
  },
  {
   "cell_type": "code",
   "execution_count": 205,
   "id": "e7d10d84-31d9-4ecd-841f-82545723b7f6",
   "metadata": {},
   "outputs": [],
   "source": [
    "from copy import deepcopy"
   ]
  },
  {
   "cell_type": "code",
   "execution_count": 206,
   "id": "042f2f98-0c95-4f15-951a-35bbc229c304",
   "metadata": {},
   "outputs": [],
   "source": [
    "def change(text_t, n):\n",
    "    text_t = deepcopy(text_t)\n",
    "    k = text_t.shape[1]\n",
    "    for i in range(n):\n",
    "        i = np.random.randint(0, k)\n",
    "        text_t[0][i] = the_emb\n",
    "    return text_t"
   ]
  },
  {
   "cell_type": "code",
   "execution_count": 235,
   "id": "9628882d-cf6d-4c76-ac69-d40e24e2f9ac",
   "metadata": {},
   "outputs": [],
   "source": [
    "text_t = X[\"input_ids\"][:1]\n",
    "mask_t = X[\"attention_mask\"][:1]"
   ]
  },
  {
   "cell_type": "code",
   "execution_count": 239,
   "id": "0fb15afb-04ca-4ee7-b3b1-9b8c921d1401",
   "metadata": {},
   "outputs": [],
   "source": [
    "t_t = [change(text_t, n)[0] for n in [0, 10, 20, 30, 50, 60]]\n",
    "m_t = [mask_t[0] for n in [0, 10, 20, 30, 50, 60]]"
   ]
  },
  {
   "cell_type": "code",
   "execution_count": 240,
   "id": "a84952c2-54fb-49dc-be9b-4d71705af6e9",
   "metadata": {},
   "outputs": [],
   "source": [
    "t_t = torch.stack(t_t)\n",
    "m_t = torch.stack(m_t)"
   ]
  },
  {
   "cell_type": "code",
   "execution_count": 241,
   "id": "bd99c8e3-81f0-4dde-b522-846f344a6abe",
   "metadata": {},
   "outputs": [
    {
     "name": "stderr",
     "output_type": "stream",
     "text": [
      "100%|██████████| 2001/2001 [01:04<00:00, 31.06it/s]\n"
     ]
    }
   ],
   "source": [
    "embs = diffusion.sampler_emb({\"input_ids\":t_t.cuda(), \"attention_mask\":m_t.cuda()})\n",
    "prob, x_t = diffusion.compute_likelihood(embs, m_t)"
   ]
  },
  {
   "cell_type": "code",
   "execution_count": 233,
   "id": "1f2a8cbe-2b6d-45d2-87b3-2d667709f1b6",
   "metadata": {},
   "outputs": [
    {
     "data": {
      "text/plain": [
       "tensor([[  101,  4907,  1005,  1055,  3008,  2020,  2058, 11179,  1012,  4907,\n",
       "          2001,  2058, 11179,  2004,  2092,  1012,  1996,  7435,  2409,  2010,\n",
       "          3008,  2009,  2001,  4895, 20192, 24658,  2100,  1012,  2010,  3008,\n",
       "          5319,  1998,  2787,  2000,  2191,  1037,  2689,  1012,  2027,  2288,\n",
       "          3209,  1998,  4907,  2006,  1037,  8738,  1012,   102,     0,     0,\n",
       "             0,     0,     0,     0,     0,     0,     0,     0,     0,     0,\n",
       "             0,     0,     0,     0],\n",
       "        [  101,  1996,  1005,  1996,  3008,  2020,  2058, 11179,  1012,  4907,\n",
       "          2001,  2058, 11179,  2004,  2092,  1012,  1996,  1996,  2409,  2010,\n",
       "          1996,  2009,  2001,  4895, 20192, 24658,  2100,  1012,  2010,  3008,\n",
       "          5319,  1998,  2787,  2000,  2191,  1037,  1996,  1012,  2027,  2288,\n",
       "          3209,  1998,  1996,  2006,  1037,  8738,  1012,   102,  1996,     0,\n",
       "             0,     0,     0,  1996,     0,     0,  1996,     0,     0,     0,\n",
       "             0,     0,  1996,     0],\n",
       "        [  101,  4907,  1005,  1055,  1996,  2020,  1996, 11179,  1012,  1996,\n",
       "          1996,  2058, 11179,  2004,  2092,  1012,  1996,  7435,  2409,  2010,\n",
       "          1996,  2009,  2001,  4895, 20192, 24658,  2100,  1996,  2010,  3008,\n",
       "          1996,  1996,  2787,  2000,  2191,  1037,  1996,  1012,  2027,  2288,\n",
       "          1996,  1998,  4907,  1996,  1037,  1996,  1012,  1996,  1996,     0,\n",
       "             0,     0,     0,     0,     0,     0,     0,     0,     0,     0,\n",
       "          1996,     0,     0,  1996],\n",
       "        [ 1996,  1996,  1005,  1996,  3008,  1996,  1996, 11179,  1012,  4907,\n",
       "          1996,  2058,  1996,  2004,  2092,  1012,  1996,  7435,  1996,  1996,\n",
       "          3008,  2009,  2001,  4895,  1996, 24658,  2100,  1012,  1996,  3008,\n",
       "          5319,  1998,  2787,  1996,  1996,  1996,  1996,  1012,  2027,  1996,\n",
       "          1996,  1998,  4907,  1996,  1037,  8738,  1012,   102,     0,  1996,\n",
       "             0,     0,     0,     0,     0,     0,     0,  1996,  1996,     0,\n",
       "          1996,     0,     0,     0],\n",
       "        [ 1996,  4907,  1005,  1996,  1996,  1996,  2058,  1996,  1996,  1996,\n",
       "          1996,  2058, 11179,  2004,  2092,  1012,  1996,  7435,  2409,  1996,\n",
       "          1996,  1996,  2001,  4895, 20192,  1996,  1996,  1996,  1996,  3008,\n",
       "          1996,  1996,  1996,  1996,  1996,  1037,  2689,  1996,  1996,  2288,\n",
       "          1996,  1998,  4907,  1996,  1996,  1996,  1996,   102,     0,     0,\n",
       "             0,  1996,     0,  1996,  1996,     0,  1996,     0,     0,  1996,\n",
       "             0,  1996,     0,     0]], device='cuda:0')"
      ]
     },
     "execution_count": 233,
     "metadata": {},
     "output_type": "execute_result"
    }
   ],
   "source": [
    "t_t"
   ]
  },
  {
   "cell_type": "code",
   "execution_count": 242,
   "id": "aeaa0eeb-8862-4f53-b674-65f5c5e5755b",
   "metadata": {},
   "outputs": [
    {
     "data": {
      "text/plain": [
       "tensor([-42117.9961, -51029.0664, -49491.8320, -50194.1016, -54874.3086,\n",
       "        -57316.7500], device='cuda:0')"
      ]
     },
     "execution_count": 242,
     "metadata": {},
     "output_type": "execute_result"
    }
   ],
   "source": [
    "prob"
   ]
  },
  {
   "cell_type": "code",
   "execution_count": null,
   "id": "c2349673-eabb-4886-b8d8-d528b72b72b0",
   "metadata": {},
   "outputs": [],
   "source": []
  },
  {
   "cell_type": "code",
   "execution_count": 179,
   "id": "3e19ef94-92d1-46d9-884d-3e4cff28bb7d",
   "metadata": {},
   "outputs": [
    {
     "data": {
      "text/plain": [
       "tensor([[  101,  4907,  1005,  1055,  3008,  2020,  2058, 11179,  1012,  4907,\n",
       "          2001,  2058, 11179,  2004,  2092,  1012,  1996,  7435,  2409,  2010,\n",
       "          3008,  2009,  2001,  4895, 20192, 24658,  2100,  1012,  2010,  3008,\n",
       "          5319,  1998,  2787,  2000,  2191,  1037,  2689,  1012,  2027,  2288,\n",
       "          3209,  1998,  4907,  2006,  1037,  8738,  1012,   102,     0,     0,\n",
       "             0,     0,     0,     0,     0,     0,     0,     0,     0,     0,\n",
       "             0,     0,     0,     0]], device='cuda:0')"
      ]
     },
     "execution_count": 179,
     "metadata": {},
     "output_type": "execute_result"
    }
   ],
   "source": [
    "text_t"
   ]
  },
  {
   "cell_type": "code",
   "execution_count": 188,
   "id": "e9ff026a-eb7e-471f-89ca-c88f149730dc",
   "metadata": {},
   "outputs": [
    {
     "data": {
      "text/plain": [
       "torch.Size([1, 64])"
      ]
     },
     "execution_count": 188,
     "metadata": {},
     "output_type": "execute_result"
    }
   ],
   "source": [
    "change(text_t, 10).shape"
   ]
  },
  {
   "cell_type": "code",
   "execution_count": null,
   "id": "b3a1cabd-ecb6-4fd3-9d38-3b54d3cba168",
   "metadata": {},
   "outputs": [],
   "source": []
  },
  {
   "cell_type": "code",
   "execution_count": null,
   "id": "951e83df-7c69-46e0-a96e-ccde5c94dc90",
   "metadata": {},
   "outputs": [],
   "source": []
  },
  {
   "cell_type": "code",
   "execution_count": null,
   "id": "b18ce626-169c-4079-aa1f-b1d8f987c92e",
   "metadata": {},
   "outputs": [],
   "source": []
  },
  {
   "cell_type": "code",
   "execution_count": null,
   "id": "959bad25-ebe7-4d93-b3b1-40ef95cff818",
   "metadata": {},
   "outputs": [],
   "source": []
  },
  {
   "cell_type": "code",
   "execution_count": 163,
   "id": "31146646-e6b0-41bc-b4a6-3832be4b970c",
   "metadata": {},
   "outputs": [],
   "source": [
    "pred_embeddings = embs[0:1]\n",
    "tokens = diffusion.pred_logits(pred_embeddings, X[\"input_ids\"]).argmax(dim=-1)\n",
    "text = diffusion.tokenizer.batch_decode(tokens)"
   ]
  },
  {
   "cell_type": "code",
   "execution_count": 167,
   "id": "6ccef6f9-2feb-48c3-a99f-271a6a73ba68",
   "metadata": {},
   "outputs": [
    {
     "name": "stderr",
     "output_type": "stream",
     "text": [
      "100%|██████████| 2001/2001 [00:57<00:00, 34.68it/s]\n"
     ]
    }
   ],
   "source": [
    "prob, x_t = diffusion.compute_likelihood(pred_embeddings, mask[:1])"
   ]
  },
  {
   "cell_type": "code",
   "execution_count": 168,
   "id": "cef735e5-200d-4fe9-b755-f508b916e895",
   "metadata": {},
   "outputs": [
    {
     "data": {
      "text/plain": [
       "tensor([-42128.9609], device='cuda:0')"
      ]
     },
     "execution_count": 168,
     "metadata": {},
     "output_type": "execute_result"
    }
   ],
   "source": [
    "prob"
   ]
  },
  {
   "cell_type": "code",
   "execution_count": 184,
   "id": "07af07d8-6e07-4e06-98d9-c6fc87473432",
   "metadata": {},
   "outputs": [],
   "source": [
    "the_emb = tokenizer(\"the\")[\"input_ids\"][1]"
   ]
  },
  {
   "cell_type": "code",
   "execution_count": null,
   "id": "954a4088-d900-4b5c-a0d9-0898fa76e1fa",
   "metadata": {},
   "outputs": [],
   "source": []
  },
  {
   "cell_type": "code",
   "execution_count": null,
   "id": "9d575126-e0c0-4582-bad7-347bcb8da796",
   "metadata": {},
   "outputs": [],
   "source": []
  },
  {
   "cell_type": "code",
   "execution_count": null,
   "id": "3370fd17-39f9-4b29-94e6-251e974fef62",
   "metadata": {},
   "outputs": [],
   "source": []
  },
  {
   "cell_type": "code",
   "execution_count": null,
   "id": "8da9987e-3896-4bef-b2bf-fb925b47d32a",
   "metadata": {},
   "outputs": [],
   "source": []
  },
  {
   "cell_type": "code",
   "execution_count": 30,
   "id": "501052f1-814f-4f7f-87a6-19657651532e",
   "metadata": {},
   "outputs": [
    {
     "data": {
      "text/plain": [
       "tensor([13220.8789, 13217.3984, 14149.7529, 11865.4941], device='cuda:0')"
      ]
     },
     "execution_count": 30,
     "metadata": {},
     "output_type": "execute_result"
    }
   ],
   "source": [
    "probability"
   ]
  },
  {
   "cell_type": "code",
   "execution_count": 15,
   "id": "809c851f-81d4-4aa4-ad96-849a8e686ba4",
   "metadata": {},
   "outputs": [
    {
     "data": {
      "text/plain": [
       "tensor([35131.2344, 40043.2070, 45367.1484, 39598.8867], device='cuda:0')"
      ]
     },
     "execution_count": 15,
     "metadata": {},
     "output_type": "execute_result"
    }
   ],
   "source": [
    "probability"
   ]
  },
  {
   "cell_type": "code",
   "execution_count": 31,
   "id": "3caaf1a0-f94a-481d-842d-99cd51114d1d",
   "metadata": {},
   "outputs": [
    {
     "data": {
      "text/plain": [
       "tensor(26.4028, device='cuda:0')"
      ]
     },
     "execution_count": 31,
     "metadata": {},
     "output_type": "execute_result"
    }
   ],
   "source": [
    "torch.mean(torch.norm(x_t, dim=[2]))"
   ]
  },
  {
   "cell_type": "code",
   "execution_count": 29,
   "id": "45ae4922-842d-47b9-8284-c03758b6d16f",
   "metadata": {},
   "outputs": [
    {
     "data": {
      "text/plain": [
       "0.8860282897949219"
      ]
     },
     "execution_count": 29,
     "metadata": {},
     "output_type": "execute_result"
    }
   ],
   "source": [
    "torch.mean(masked_std(x_t, mask)).item()"
   ]
  },
  {
   "cell_type": "code",
   "execution_count": 32,
   "id": "ce0e3da9-78fe-4ab5-bac7-dd772d0e3880",
   "metadata": {},
   "outputs": [
    {
     "data": {
      "text/plain": [
       "0.9074999999999999"
      ]
     },
     "execution_count": 32,
     "metadata": {},
     "output_type": "execute_result"
    }
   ],
   "source": [
    "26.4 * 26.4 / 768"
   ]
  },
  {
   "cell_type": "code",
   "execution_count": null,
   "id": "92c86169-de63-41be-bea1-c7078a64a577",
   "metadata": {},
   "outputs": [],
   "source": []
  },
  {
   "cell_type": "code",
   "execution_count": 91,
   "id": "c348fcf8-b09f-44ea-8755-34cebfbab2a2",
   "metadata": {},
   "outputs": [
    {
     "data": {
      "text/plain": [
       "49152"
      ]
     },
     "execution_count": 91,
     "metadata": {},
     "output_type": "execute_result"
    }
   ],
   "source": [
    "768 * 64"
   ]
  },
  {
   "cell_type": "code",
   "execution_count": 21,
   "id": "e18a776c-69a9-4ee0-8fe5-26f0d2b24aac",
   "metadata": {},
   "outputs": [
    {
     "data": {
      "text/plain": [
       "44521"
      ]
     },
     "execution_count": 21,
     "metadata": {},
     "output_type": "execute_result"
    }
   ],
   "source": [
    "211 * 211"
   ]
  },
  {
   "cell_type": "code",
   "execution_count": 17,
   "id": "6582c3d9-9b05-43ea-ab6f-7138a62ce8db",
   "metadata": {},
   "outputs": [
    {
     "data": {
      "text/plain": [
       "tensor([211.0297, 221.2082, 209.0004, 226.1978], device='cuda:0')"
      ]
     },
     "execution_count": 17,
     "metadata": {},
     "output_type": "execute_result"
    }
   ],
   "source": [
    "torch.norm(embs, dim=[1, 2])"
   ]
  },
  {
   "cell_type": "code",
   "execution_count": 82,
   "id": "15ea7a85-7f02-413c-8b81-bedd73476180",
   "metadata": {},
   "outputs": [
    {
     "data": {
      "text/plain": [
       "tensor([2679.7761, 2748.8811, 2406.3333, 2551.4888], device='cuda:0')"
      ]
     },
     "execution_count": 82,
     "metadata": {},
     "output_type": "execute_result"
    }
   ],
   "source": [
    "probability"
   ]
  },
  {
   "cell_type": "code",
   "execution_count": 67,
   "id": "42080c1d-c162-4b70-b9b6-d048ffe0bfde",
   "metadata": {},
   "outputs": [
    {
     "data": {
      "text/plain": [
       "tensor([1709.4534, 1720.7737, 1544.0601, 1619.6938], device='cuda:0')"
      ]
     },
     "execution_count": 67,
     "metadata": {},
     "output_type": "execute_result"
    }
   ],
   "source": [
    "probability"
   ]
  },
  {
   "cell_type": "code",
   "execution_count": 29,
   "id": "9408ce1f-78f9-4df5-9207-0f61e9409851",
   "metadata": {},
   "outputs": [
    {
     "data": {
      "text/plain": [
       "tensor([49151.5156, 49154.5195, 49160.0586, 49162.1445], device='cuda:0')"
      ]
     },
     "execution_count": 29,
     "metadata": {},
     "output_type": "execute_result"
    }
   ],
   "source": [
    "probability"
   ]
  },
  {
   "cell_type": "code",
   "execution_count": 69,
   "id": "c0222647-a159-4b60-bdd7-fd9359476d75",
   "metadata": {},
   "outputs": [
    {
     "data": {
      "text/plain": [
       "tensor([-54231.6719, -42036.6055, -55274.5469, -55581.6602], device='cuda:0')"
      ]
     },
     "execution_count": 69,
     "metadata": {},
     "output_type": "execute_result"
    }
   ],
   "source": [
    "params = diffusion.sde.marginal_prob(x_t, vec_t)\n",
    "mean, std = params[\"mean\"], params[\"std\"]\n",
    "log_prob_normal(x_t, mean, std, mask)"
   ]
  },
  {
   "cell_type": "code",
   "execution_count": 18,
   "id": "244ca4e4-a510-4b25-bddb-50570ff6f43f",
   "metadata": {},
   "outputs": [
    {
     "data": {
      "text/plain": [
       "tensor([-72055.4219, -66293.3828, -65803.6016, -67579.8047], device='cuda:0')"
      ]
     },
     "execution_count": 18,
     "metadata": {},
     "output_type": "execute_result"
    }
   ],
   "source": [
    "prior_logp(x_t)"
   ]
  },
  {
   "cell_type": "code",
   "execution_count": 36,
   "id": "c2992c06-c035-454c-b1fe-ff04bbed7f3f",
   "metadata": {},
   "outputs": [
    {
     "data": {
      "text/plain": [
       "torch.Size([4, 64, 768])"
      ]
     },
     "execution_count": 36,
     "metadata": {},
     "output_type": "execute_result"
    }
   ],
   "source": [
    "x_t.shape"
   ]
  },
  {
   "cell_type": "code",
   "execution_count": 19,
   "id": "bf56e868-9979-445e-909d-074fda206a11",
   "metadata": {},
   "outputs": [
    {
     "data": {
      "text/plain": [
       "tensor([-69735.4922, -69910.1094, -69587.7656, -69767.7109], device='cuda:0')"
      ]
     },
     "execution_count": 19,
     "metadata": {},
     "output_type": "execute_result"
    }
   ],
   "source": [
    "prior_logp(torch.randn(4, 64, 768).cuda())"
   ]
  },
  {
   "cell_type": "code",
   "execution_count": 41,
   "id": "7e9978cd-0904-4aa8-9a5b-8cb49b8ef938",
   "metadata": {},
   "outputs": [
    {
     "data": {
      "text/plain": [
       "tensor(0.6239, device='cuda:0', grad_fn=<MeanBackward0>)"
      ]
     },
     "execution_count": 41,
     "metadata": {},
     "output_type": "execute_result"
    }
   ],
   "source": [
    "torch.mean(masked_std(x_t, mask))"
   ]
  },
  {
   "cell_type": "markdown",
   "id": "59ebf3ac-4575-4a7a-822c-f77da7a19e37",
   "metadata": {},
   "source": [
    "# Latent"
   ]
  },
  {
   "cell_type": "code",
   "execution_count": 125,
   "id": "daf54403-e206-4e2c-a14f-cefaf087c86c",
   "metadata": {},
   "outputs": [],
   "source": [
    "set_seed(0)"
   ]
  },
  {
   "cell_type": "code",
   "execution_count": 126,
   "id": "6be4c4ad-c937-4290-9634-6c2d28d466bd",
   "metadata": {},
   "outputs": [],
   "source": [
    "batch_size = 32\n",
    "loader = DataLoader(\n",
    "            dataset_roc,\n",
    "            batch_size=batch_size,\n",
    "            num_workers=1,\n",
    "            shuffle=True,\n",
    "        )"
   ]
  },
  {
   "cell_type": "code",
   "execution_count": 127,
   "id": "ba15b245-6d7b-4771-9622-e174c72e1fd1",
   "metadata": {},
   "outputs": [],
   "source": [
    "loader = iter(loader)"
   ]
  },
  {
   "cell_type": "code",
   "execution_count": 147,
   "id": "1b8526d6-bbb5-4811-ac76-d809f671a042",
   "metadata": {},
   "outputs": [],
   "source": [
    "X = next(loader)\n",
    "X = dict_to_cuda(X)"
   ]
  },
  {
   "cell_type": "code",
   "execution_count": 148,
   "id": "c9f6afb9-4e91-4f08-813b-c1226718ba79",
   "metadata": {},
   "outputs": [
    {
     "data": {
      "text/plain": [
       "(tensor(0.0003, device='cuda:0'), tensor(0.9990, device='cuda:0'))"
      ]
     },
     "execution_count": 148,
     "metadata": {},
     "output_type": "execute_result"
    }
   ],
   "source": [
    "embs = diffusion.sampler_emb({key:X[key].cuda() for key in [\"input_ids\", \"attention_mask\"]})\n",
    "mask = X[\"attention_mask\"]\n",
    "torch.mean(masked_mean(embs, mask)), torch.mean(masked_std(embs, mask))"
   ]
  },
  {
   "cell_type": "code",
   "execution_count": 149,
   "id": "7e8317d0-e8c1-4fe8-825f-b0961f10180f",
   "metadata": {},
   "outputs": [
    {
     "name": "stderr",
     "output_type": "stream",
     "text": [
      "100%|██████████| 2001/2001 [00:53<00:00, 37.15it/s]\n"
     ]
    }
   ],
   "source": [
    "x_t, norm_xt_roc = diffusion.generate_latent(embs, mask)"
   ]
  },
  {
   "cell_type": "code",
   "execution_count": 85,
   "id": "68087d6c-af0a-44ff-85e0-a1275a956525",
   "metadata": {},
   "outputs": [
    {
     "name": "stderr",
     "output_type": "stream",
     "text": [
      "100%|██████████| 2001/2001 [00:53<00:00, 37.13it/s]\n"
     ]
    }
   ],
   "source": [
    "x_t, norm_xt_wiki = diffusion.generate_latent(embs, mask)"
   ]
  },
  {
   "cell_type": "code",
   "execution_count": 90,
   "id": "0846e7e3-e199-483b-a1f8-9ca8d95dae6c",
   "metadata": {},
   "outputs": [
    {
     "name": "stderr",
     "output_type": "stream",
     "text": [
      "100%|██████████| 2001/2001 [00:54<00:00, 36.88it/s]\n"
     ]
    }
   ],
   "source": [
    "x_t, norm_xt_sst2 = diffusion.generate_latent(embs, mask)"
   ]
  },
  {
   "cell_type": "code",
   "execution_count": 151,
   "id": "a1bb1873-5d6f-4302-b81f-19c63e712332",
   "metadata": {},
   "outputs": [
    {
     "data": {
      "image/png": "[encoded data removed]",
      "text/plain": [
       "<Figure size 1500x800 with 1 Axes>"
      ]
     },
     "metadata": {},
     "output_type": "display_data"
    }
   ],
   "source": [
    "plt.figure(figsize=(15, 8))\n",
    "plt.xlabel('time', fontsize=24)\n",
    "plt.ylabel('norm', fontsize=24)\n",
    "plt.title(\"norm x_t, dim=768\", fontsize=24)\n",
    "\n",
    "plt.plot(norm_xt_roc, label=\"roc\")\n",
    "\n",
    "plt.legend(fontsize=24)\n",
    "plt.show()"
   ]
  },
  {
   "cell_type": "code",
   "execution_count": 138,
   "id": "660ec8c9-a0fe-4f5e-960c-4593f643b933",
   "metadata": {},
   "outputs": [],
   "source": [
    "def masked_norm(z, mask):\n",
    "    return torch.sum(torch.norm(z, dim=2) * mask) / torch.sum(mask)"
   ]
  },
  {
   "cell_type": "code",
   "execution_count": 141,
   "id": "50aec89e-11d3-456a-b279-4ee6e8f3283e",
   "metadata": {},
   "outputs": [
    {
     "data": {
      "text/plain": [
       "tensor(27.3686, device='cuda:0')"
      ]
     },
     "execution_count": 141,
     "metadata": {},
     "output_type": "execute_result"
    }
   ],
   "source": [
    "masked_norm(embs, mask)"
   ]
  },
  {
   "cell_type": "code",
   "execution_count": 140,
   "id": "ee9e498e-f78e-42b2-b38d-a747627538f0",
   "metadata": {},
   "outputs": [
    {
     "data": {
      "text/plain": [
       "tensor(18.7708, device='cuda:0')"
      ]
     },
     "execution_count": 140,
     "metadata": {},
     "output_type": "execute_result"
    }
   ],
   "source": [
    "torch.mean(torch.norm(x_t, dim=2))"
   ]
  },
  {
   "cell_type": "code",
   "execution_count": 91,
   "id": "6ce22c08-6ed1-4b50-b7fa-7427f18bd64f",
   "metadata": {},
   "outputs": [
    {
     "data": {
      "image/png": "[encoded data removed]",
      "text/plain": [
       "<Figure size 1500x800 with 1 Axes>"
      ]
     },
     "metadata": {},
     "output_type": "display_data"
    }
   ],
   "source": [
    "plt.figure(figsize=(15, 8))\n",
    "plt.xlabel('time', fontsize=24)\n",
    "plt.ylabel('norm', fontsize=24)\n",
    "plt.title(\"norm x_t, dim=768\", fontsize=24)\n",
    "\n",
    "plt.plot(norm_xt_roc, label=\"roc\")\n",
    "plt.plot(norm_xt_wiki, label=\"wiki\")\n",
    "plt.plot(norm_xt_sst2, label=\"sst2\")\n",
    "\n",
    "plt.legend(fontsize=24)\n",
    "plt.show()"
   ]
  },
  {
   "cell_type": "code",
   "execution_count": 33,
   "id": "863ef89c-cc8b-4e5d-a974-3de0c40ffe35",
   "metadata": {},
   "outputs": [
    {
     "data": {
      "text/plain": [
       "0.9526279441628825"
      ]
     },
     "execution_count": 33,
     "metadata": {},
     "output_type": "execute_result"
    }
   ],
   "source": [
    "26.4 / np.sqrt(768)"
   ]
  },
  {
   "cell_type": "code",
   "execution_count": 34,
   "id": "5a9ec56e-b75c-4a22-bd22-3c1241349487",
   "metadata": {},
   "outputs": [
    {
     "data": {
      "text/plain": [
       "tensor(26.3547, device='cuda:0')"
      ]
     },
     "execution_count": 34,
     "metadata": {},
     "output_type": "execute_result"
    }
   ],
   "source": [
    "torch.mean(torch.norm(embs, dim=[2]))"
   ]
  },
  {
   "cell_type": "code",
   "execution_count": null,
   "id": "4201e086-3ac9-4942-8435-a1ec6eb5c6cc",
   "metadata": {},
   "outputs": [],
   "source": []
  }
 ],
 "metadata": {
  "kernelspec": {
   "display_name": "Python [anaconda3-env]",
   "language": "python",
   "name": "conda-env-anaconda3-env-py"
  },
  "language_info": {
   "codemirror_mode": {
    "name": "ipython",
    "version": 3
   },
   "file_extension": ".py",
   "mimetype": "text/x-python",
   "name": "python",
   "nbconvert_exporter": "python",
   "pygments_lexer": "ipython3",
   "version": "3.9.16"
  }
 },
 "nbformat": 4,
 "nbformat_minor": 5
}
