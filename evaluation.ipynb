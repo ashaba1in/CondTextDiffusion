{
 "cells": [
  {
   "cell_type": "code",
   "execution_count": 16,
   "id": "ba582bce-e2ce-4a90-9b6b-07be5d34d71c",
   "metadata": {},
   "outputs": [
    {
     "name": "stdout",
     "output_type": "stream",
     "text": [
      "The autoreload extension is already loaded. To reload it, use:\n",
      "  %reload_ext autoreload\n"
     ]
    }
   ],
   "source": [
    "%load_ext autoreload\n",
    "%autoreload 2"
   ]
  },
  {
   "cell_type": "code",
   "execution_count": 17,
   "id": "0d58c9ed-ed0a-4c73-90f8-c05f2298d4be",
   "metadata": {},
   "outputs": [],
   "source": [
    "import os\n",
    "import matplotlib.pyplot as plt\n",
    "import random\n",
    "import torch\n",
    "from torch import nn\n",
    "import torch.nn.functional as F\n",
    "import numpy as np\n",
    "from tqdm.auto import tqdm\n",
    "from torch.utils.data import DataLoader\n",
    "from datasets import load_dataset\n",
    "\n",
    "from transformers import BertTokenizerFast, AutoConfig, AutoModel, AutoTokenizer\n",
    "from transformers import BertConfig\n",
    "from diffusers import DDIMScheduler\n",
    "from model.model import AutoEncoder\n",
    "\n",
    "from create_config import create_config\n",
    "from estimation_utils.util import clear_text\n",
    "\n",
    "os.environ['TOKENIZERS_PARALLELISM'] = 'false'\n",
    "device = torch.device('cuda' if torch.cuda.is_available else 'cpu')"
   ]
  },
  {
   "cell_type": "code",
   "execution_count": 18,
   "id": "a501c91d-a745-4c62-935f-5aba27cd09b1",
   "metadata": {},
   "outputs": [],
   "source": [
    "class CondLatentDataset:\n",
    "    def __init__(self, split, label=None, dataset='qqp', latent=True):\n",
    "        dataset_label_map = {\n",
    "            'qqp': ['src', 'trg']\n",
    "        }\n",
    "        base_path = f'/home/amshabalin/TextDiffusion/datasets/{dataset}'\n",
    "        labels = dataset_label_map[dataset]\n",
    "        if label is not None:\n",
    "            if isinstance(label, int):\n",
    "                labels = [labels[label]]\n",
    "            else:\n",
    "                labels = [label]\n",
    "\n",
    "        if latent:\n",
    "            self.latents = dict()\n",
    "            for label in labels:\n",
    "                self.latents[label] = torch.load(f'{base_path}/{split}/bert_{label}.pt')\n",
    "        else:\n",
    "            self.latents = None\n",
    "            \n",
    "        self.texts = dict()\n",
    "        for label in labels:\n",
    "            with open(f'{base_path}/{split}/data.json', 'r') as f:\n",
    "                self.texts[label] = []\n",
    "                for line in f:\n",
    "                    self.texts[label].append(eval(line)[label])\n",
    "\n",
    "        if self.latents is not None:\n",
    "            assert len(self.latents[labels[0]]) == len(self.texts[labels[0]])   \n",
    "                \n",
    "    def __getitem__(self, idx):\n",
    "        item = {'text': {'src': self.texts['src'][idx], 'trg': self.texts['trg'][idx]}}\n",
    "        if self.latents is not None:\n",
    "            item['latent'] = {'src': self.latents['src'][idx], 'trg': self.latents['trg'][idx]}\n",
    "\n",
    "        return item\n",
    "\n",
    "    def __len__(self):\n",
    "        return len(self.texts['trg'])"
   ]
  },
  {
   "cell_type": "code",
   "execution_count": 19,
   "id": "464725d0-51e9-4f7e-8066-ac2f9e2cf7d1",
   "metadata": {},
   "outputs": [],
   "source": [
    "N_TOKENS = 50\n",
    "max_length = 50\n",
    "dataset = 'qqp'\n",
    "\n",
    "# train_dataset = CondLatentDataset('train', dataset=dataset, latent=True)\n",
    "# test_dataset = CondLatentDataset('test', dataset=dataset, latent=True)"
   ]
  },
  {
   "cell_type": "code",
   "execution_count": 6,
   "id": "aa31753a-65f2-47aa-91ed-ae8c365dc556",
   "metadata": {},
   "outputs": [],
   "source": [
    "config = create_config()\n",
    "config.bert_config.use_self_cond = config.use_self_cond\n",
    "config.bert_config.is_decoder = True\n",
    "config.bert_config.num_hidden_layers = 6"
   ]
  },
  {
   "cell_type": "code",
   "execution_count": 7,
   "id": "1bb844bc-1253-49d6-acc4-1b34aecbda13",
   "metadata": {},
   "outputs": [],
   "source": [
    "os.environ[\"RANK\"] = '0'\n",
    "os.environ[\"WORLD_SIZE\"] = '1'\n",
    "os.environ[\"MASTER_ADDR\"] = '127.0.0.1'\n",
    "os.environ[\"MASTER_PORT\"] = '32131'"
   ]
  },
  {
   "cell_type": "code",
   "execution_count": 8,
   "id": "ee094979-b019-4028-b3d5-10d3fe39857e",
   "metadata": {},
   "outputs": [],
   "source": [
    "# torch.cuda.set_device(0)\n",
    "torch.distributed.init_process_group(backend='nccl', init_method='env://', world_size=1, rank=0)"
   ]
  },
  {
   "cell_type": "code",
   "execution_count": 11,
   "id": "c57468e4-8adb-4cc5-9fee-d42b8c8ba18a",
   "metadata": {},
   "outputs": [],
   "source": [
    "config.checkpoints_prefix = 'qqp--t5-bert-cond_cfg_1751154_150000_'\n",
    "config.decoder_path = '/home/amshabalin/SlavaDiffusion/models/qqp_3l_transformer_0.15x_t_noise.pt'"
   ]
  },
  {
   "cell_type": "code",
   "execution_count": 20,
   "id": "6a65d452-931d-4f01-b02c-32a15950ecd6",
   "metadata": {},
   "outputs": [
    {
     "name": "stderr",
     "output_type": "stream",
     "text": [
      "Some weights of T5EncoderModel were not initialized from the model checkpoint at t5-base and are newly initialized: ['enc_normalizer.enc_std', 'enc_normalizer.enc_mean']\n",
      "You should probably TRAIN this model on a down-stream task to be able to use it for predictions and inference.\n"
     ]
    },
    {
     "data": {
      "application/vnd.jupyter.widget-view+json": {
       "model_id": "",
       "version_major": 2,
       "version_minor": 0
      },
      "text/plain": [
       "Dataset tokenization (num_proc=30):   0%|          | 0/2500 [00:00<?, ? examples/s]"
      ]
     },
     "metadata": {},
     "output_type": "display_data"
    }
   ],
   "source": [
    "from diffusion_holder import DiffusionRunner\n",
    "\n",
    "config.local_rank = 0\n",
    "diffusion = DiffusionRunner(config, latent_mode=config.model.embeddings_type, eval=True, log_wandb=False)"
   ]
  },
  {
   "cell_type": "code",
   "execution_count": 21,
   "id": "f998e508-36d1-4b48-97c8-ff0cd1d899f5",
   "metadata": {},
   "outputs": [],
   "source": [
    "# diffusion.config.validation.batch_size = 1024\n",
    "diffusion.set_valid_data_generator()"
   ]
  },
  {
   "cell_type": "code",
   "execution_count": 22,
   "id": "77fdd725-6096-429a-816a-0cd3e003ecd1",
   "metadata": {},
   "outputs": [
    {
     "data": {
      "text/plain": [
       "2500"
      ]
     },
     "execution_count": 22,
     "metadata": {},
     "output_type": "execute_result"
    }
   ],
   "source": [
    "len(diffusion.valid_loader.dataset)"
   ]
  },
  {
   "cell_type": "code",
   "execution_count": 14,
   "id": "7cc84a58-675e-4579-be75-e78ff950a86c",
   "metadata": {},
   "outputs": [],
   "source": [
    "batch = next(iter(diffusion.valid_loader))"
   ]
  },
  {
   "cell_type": "code",
   "execution_count": 15,
   "id": "8d18d215-9fd0-44c4-b280-f5a6f493caa0",
   "metadata": {},
   "outputs": [
    {
     "data": {
      "text/plain": [
       "dict_keys(['input_ids', 'cond_ids', 'input_mask', 'cond_mask', 'input_latent'])"
      ]
     },
     "execution_count": 15,
     "metadata": {},
     "output_type": "execute_result"
    }
   ],
   "source": [
    "batch.keys()"
   ]
  },
  {
   "cell_type": "code",
   "execution_count": 23,
   "id": "6840e6db-6e4a-4276-adf9-c339945cde9c",
   "metadata": {},
   "outputs": [],
   "source": [
    "from diffusion_utils import schedulers\n",
    "\n",
    "sde_scheduler = schedulers.CosineSD(d=10)"
   ]
  },
  {
   "cell_type": "code",
   "execution_count": 24,
   "id": "15beebe1-32fd-40c0-8076-038a7632f07a",
   "metadata": {},
   "outputs": [],
   "source": [
    "ts = torch.linspace(0, 1, 1000).unsqueeze(1)\n",
    "sqrt_alpha_cumprod = []\n",
    "for t in ts:\n",
    "    alpha, _ = sde_scheduler.params(t)\n",
    "    sqrt_alpha_cumprod.append(alpha.item())"
   ]
  },
  {
   "cell_type": "code",
   "execution_count": 25,
   "id": "13de4827-b299-4c5c-96e9-b0b74f9f5a26",
   "metadata": {},
   "outputs": [
    {
     "data": {
      "text/plain": [
       "(1000,)"
      ]
     },
     "execution_count": 25,
     "metadata": {},
     "output_type": "execute_result"
    }
   ],
   "source": [
    "alpha_cumprod = np.array(sqrt_alpha_cumprod)**2\n",
    "alphas = alpha_cumprod[1:] / alpha_cumprod[:-1]\n",
    "alphas = np.concatenate((np.array([alphas[0] + 1e-4]), alphas))\n",
    "alphas.shape"
   ]
  },
  {
   "cell_type": "code",
   "execution_count": 19,
   "id": "ca8caba1-02e9-4be8-83e6-e2cee3fdd561",
   "metadata": {},
   "outputs": [],
   "source": [
    "mus = [diffusion.dynamic.marginal_params(torch.tensor([t]))['mu'].item() for t in np.linspace(0, 1, 1000)]"
   ]
  },
  {
   "cell_type": "code",
   "execution_count": 20,
   "id": "5780c2cd-b5ae-4653-b6e5-5670c1650a54",
   "metadata": {},
   "outputs": [
    {
     "data": {
      "text/plain": [
       "[<matplotlib.lines.Line2D at 0x2b847b313c10>]"
      ]
     },
     "execution_count": 20,
     "metadata": {},
     "output_type": "execute_result"
    },
    {
     "data": {
      "image/png": "[encoded data removed]",
      "text/plain": [
       "<Figure size 640x480 with 1 Axes>"
      ]
     },
     "metadata": {},
     "output_type": "display_data"
    }
   ],
   "source": [
    "plt.plot(sqrt_alpha_cumprod)\n",
    "plt.plot(mus)"
   ]
  },
  {
   "cell_type": "code",
   "execution_count": 26,
   "id": "335046e2-2350-4491-9936-c8e9c66026e8",
   "metadata": {},
   "outputs": [],
   "source": [
    "noise_scheduler = DDIMScheduler(\n",
    "    num_train_timesteps=1000,\n",
    "    beta_start=0.0001,\n",
    "    beta_end=0.02,\n",
    "    beta_schedule= \"linear\",\n",
    "    trained_betas=1 - alphas,\n",
    "    clip_sample=False,\n",
    "    # prediction_type=\"epsilon\"\n",
    "    prediction_type=\"sample\",\n",
    ")"
   ]
  },
  {
   "cell_type": "code",
   "execution_count": 27,
   "id": "40601d2a-bc75-4ac0-9e91-082d7236f513",
   "metadata": {},
   "outputs": [],
   "source": [
    "from transformers import AutoModelForSequenceClassification, GPT2Tokenizer, GPT2LMHeadModel\n",
    "from transformers import BloomTokenizerFast, BloomForCausalLM\n",
    "\n",
    "class GPTMetric:\n",
    "    def __init__(self, device=\"cpu\"):\n",
    "        self.name = \"gpt2-large\"\n",
    "        self.model = GPT2LMHeadModel.from_pretrained(self.name).eval().to(device)\n",
    "        self.tokenizer = GPT2Tokenizer.from_pretrained(self.name)\n",
    "        self.device = device\n",
    "\n",
    "    @torch.no_grad()\n",
    "    def __call__(self, text, reduce=\"mean\"):\n",
    "        inputs = self.tokenizer(text, return_tensors=\"pt\")\n",
    "        for k, v in inputs.items():\n",
    "            inputs[k] = v.to(device)\n",
    "\n",
    "        loss = self.model(**inputs, labels=inputs[\"input_ids\"]).loss.detach().cpu()\n",
    "        num_tokens = torch.sum(inputs[\"attention_mask\"]).item()\n",
    "        if reduce == \"sum\":\n",
    "            return loss.item() * num_tokens, num_tokens\n",
    "        return loss.item(), num_tokens\n",
    "\n",
    "\n",
    "class BloomMetric:\n",
    "    def __init__(self, device=\"cpu\"):\n",
    "        self.name = \"bigscience/bloom-7b1\"\n",
    "        self.model = BloomForCausalLM.from_pretrained(self.name).eval().to(device)\n",
    "        self.tokenizer = BloomTokenizerFast.from_pretrained(self.name)\n",
    "        self.device = device\n",
    "\n",
    "    @torch.no_grad()\n",
    "    @torch.autocast(device_type='cuda', dtype=torch.float16)\n",
    "    def __call__(self, text, reduce=\"mean\"):\n",
    "        if not text:\n",
    "            return 0, 0\n",
    "        inputs = self.tokenizer(text, return_tensors=\"pt\")\n",
    "        for k, v in inputs.items():\n",
    "            inputs[k] = v.to(device)\n",
    "\n",
    "        loss = self.model(**inputs, labels=inputs[\"input_ids\"]).loss.detach().cpu()\n",
    "        num_tokens = torch.sum(inputs[\"attention_mask\"]).item() - 1\n",
    "        if reduce == \"sum\":\n",
    "            return loss.item() * num_tokens, num_tokens\n",
    "        return loss.item(), num_tokens\n",
    "\n",
    "\n",
    "def compute_bloom(texts, bloom):\n",
    "    num_tokens = 0.0\n",
    "    metric = 0.0\n",
    "    for text in texts:\n",
    "        if len(text) == 0:\n",
    "            continue\n",
    "        t_metric, t_num = bloom(text, reduce=\"sum\")\n",
    "        if t_metric is None or np.isnan(t_metric):\n",
    "            continue\n",
    "        metric += t_metric\n",
    "        num_tokens += t_num\n",
    "    return round(np.exp(metric / num_tokens), 2), round(metric / num_tokens, 2)"
   ]
  },
  {
   "cell_type": "code",
   "execution_count": 21,
   "id": "91e3b601-b73c-4e1e-a9a1-a89dbb88559d",
   "metadata": {},
   "outputs": [],
   "source": [
    "gpt_metric = GPTMetric(device)"
   ]
  },
  {
   "cell_type": "code",
   "execution_count": 49,
   "id": "852ba7bf-a166-4718-a990-387ab657f551",
   "metadata": {},
   "outputs": [
    {
     "data": {
      "application/vnd.jupyter.widget-view+json": {
       "model_id": "93feade64a134e9cb8e8b08f9e869501",
       "version_major": 2,
       "version_minor": 0
      },
      "text/plain": [
       "Loading checkpoint shards:   0%|          | 0/2 [00:00<?, ?it/s]"
      ]
     },
     "metadata": {},
     "output_type": "display_data"
    }
   ],
   "source": [
    "# bloom_metric = BloomMetric(device)"
   ]
  },
  {
   "cell_type": "code",
   "execution_count": 28,
   "id": "a64fe5a3-fb09-4f23-a737-a1fa6a675655",
   "metadata": {},
   "outputs": [],
   "source": [
    "from evaluate import load\n",
    "\n",
    "mauve = load('/home/amshabalin/.cache/huggingface/metrics/mauve')\n",
    "rouge = load('/home/amshabalin/.cache/huggingface/metrics/rouge')"
   ]
  },
  {
   "cell_type": "code",
   "execution_count": 29,
   "id": "40884e0b-9706-4728-bf2b-e2ab671d2968",
   "metadata": {},
   "outputs": [],
   "source": [
    "bertscore = load(\"/home/amshabalin/.cache/huggingface/metrics/bert_score/bertscore.py\")"
   ]
  },
  {
   "cell_type": "code",
   "execution_count": 30,
   "id": "1be15227-31c2-401e-9ae0-32becb1bdd2c",
   "metadata": {},
   "outputs": [],
   "source": [
    "diffusion.dynamic.N = 20"
   ]
  },
  {
   "cell_type": "code",
   "execution_count": 31,
   "id": "b8a87e10-2d24-47bf-8d46-0a9a60b448ef",
   "metadata": {},
   "outputs": [],
   "source": [
    "@torch.no_grad()\n",
    "def generate_latens(diffusion, cond=None, n_samples=16, num_inference_steps=100,\n",
    "                    eta=1, clamp_from=1):\n",
    "    if cond is not None:\n",
    "        cond_X = diffusion.encoder_cond(**{\"input_ids\": cond[\"cond\"], \"attention_mask\": cond[\"cond_mask\"]})\n",
    "        cond_mask = cond[\"cond_mask\"]\n",
    "\n",
    "    latents = torch.randn(n_samples, N_TOKENS, 768).to(device)\n",
    "\n",
    "    noise_scheduler.set_timesteps(num_inference_steps, device=device)\n",
    "    x_0_self_cond = torch.zeros_like(latents, dtype=latents.dtype)\n",
    "\n",
    "    for i, t in enumerate(noise_scheduler.timesteps[:-3]):\n",
    "        x_0_self_cond = diffusion.score_estimator(\n",
    "            latents.contiguous(),\n",
    "            t.unsqueeze(0).repeat(n_samples).to(device) / 1000,\n",
    "            x_0_self_cond=x_0_self_cond,\n",
    "            cond=cond_X,\n",
    "            cond_mask=cond_mask\n",
    "        )\n",
    "        if i / num_inference_steps > clamp_from:\n",
    "            tokens = diffusion.autoencoder.decode(diffusion.denormalize(x_0_self_cond)).argmax(-1)\n",
    "            \n",
    "            idxs, lens = np.where(tokens.cpu() == diffusion.tokenizer_gen.sep_token_id)\n",
    "            attention_mask = torch.ones_like(tokens)\n",
    "            for i, l in zip(idxs, lens):\n",
    "                attention_mask[i, l + 1:] = 0\n",
    "            \n",
    "            # attention_mask = (tokens != diffusion.tokenizer_gen.pad_token_id).float()\n",
    "            encoded = diffusion.autoencoder.encode(tokens, attention_mask=attention_mask)\n",
    "            x_0_self_cond = diffusion.normalize(encoded)\n",
    "\n",
    "        # compute the previous noisy sample x_t -> x_t-1\n",
    "        latents = noise_scheduler.step(x_0_self_cond, t, latents, eta=eta).prev_sample\n",
    "\n",
    "    return x_0_self_cond\n",
    "\n",
    "def pred_text_cfg(diffusion, cond=None):\n",
    "    if cond is not None:\n",
    "        cond_X = diffusion.encoder_cond(**{\"input_ids\": cond[\"cond\"], \"attention_mask\": cond[\"cond_mask\"]})\n",
    "        cond_mask = cond[\"cond_mask\"]\n",
    "\n",
    "    embeddings = diffusion.pred_embeddings_classifier_guidance(\n",
    "        len(cond['cond']),\n",
    "        cond_X=cond_X,\n",
    "        cond_mask=cond_mask,\n",
    "        attention_mask=None,\n",
    "    )\n",
    "    \n",
    "    output = diffusion.pred_logits(embeddings)\n",
    "    text = diffusion.tokenizer_gen.batch_decode(output.argmax(dim=-1))\n",
    "    return text\n",
    "    \n",
    "\n",
    "@torch.no_grad()\n",
    "def generate_texts(n_texts=5000, eta=1, clamp_from=1, num_inference_steps=100):\n",
    "    gen_texts = []\n",
    "    conds = []\n",
    "    targets = []\n",
    "    for batch in tqdm(diffusion.valid_loader):\n",
    "        batch['cond_mask'] = batch['cond_mask'][:, :batch['cond_mask'].sum(-1).max().item()]\n",
    "        batch['cond_ids'] = batch['cond_ids'][:, :batch['cond_mask'].shape[1]]\n",
    "        \n",
    "        cond = {'cond': batch['cond_ids'].to(device), 'cond_mask': batch['cond_mask'].to(device)}\n",
    "\n",
    "        # latents = generate_latens(diffusion, n_samples=len(cond['cond']), cond=cond, eta=eta,\n",
    "        #                           clamp_from=clamp_from, num_inference_steps=num_inference_steps)\n",
    "        # output = diffusion.pred_logits(latents)\n",
    "        # text = diffusion.tokenizer_gen.batch_decode(output.argmax(dim=-1))\n",
    "        # text, _ = diffusion.generate_text(len(cond['cond']), cond=cond)\n",
    "        text = pred_text_cfg(diffusion, cond=cond)\n",
    "        \n",
    "        gen_texts += clear_text(text)\n",
    "        conds += clear_text(diffusion.tokenizer_cond.batch_decode(cond['cond'], skip_special_tokens=True))\n",
    "        targets += clear_text(diffusion.tokenizer_gen.batch_decode(batch['input_ids'], skip_special_tokens=True))\n",
    "\n",
    "        if len(gen_texts) > n_texts:\n",
    "            break\n",
    "\n",
    "    return gen_texts, conds, targets"
   ]
  },
  {
   "cell_type": "code",
   "execution_count": 32,
   "id": "d4dabe7a-ff88-4e6d-9330-e9ef590af614",
   "metadata": {},
   "outputs": [],
   "source": [
    "diffusion.config.clamp_from = 1"
   ]
  },
  {
   "cell_type": "code",
   "execution_count": 33,
   "id": "12f3ea65-0652-4020-af9b-96b8c5af83c6",
   "metadata": {},
   "outputs": [
    {
     "data": {
      "application/vnd.jupyter.widget-view+json": {
       "model_id": "56cc5ec438014d09ba2241b73ef03c88",
       "version_major": 2,
       "version_minor": 0
      },
      "text/plain": [
       "  0%|          | 0/3 [00:03<?, ?it/s]"
      ]
     },
     "metadata": {},
     "output_type": "display_data"
    }
   ],
   "source": [
    "diffusion.config.classifier_guidance_scale = 1\n",
    "gen_texts, conds, targets = generate_texts() # eta=1, clamp_from=0.5, num_inference_steps=100)"
   ]
  },
  {
   "cell_type": "code",
   "execution_count": 34,
   "id": "934f0009-2006-4b10-a5e0-a5f857bf0e33",
   "metadata": {},
   "outputs": [
    {
     "data": {
      "text/plain": [
       "{'rouge1': 0.566309356865742,\n",
       " 'rouge2': 0.3226040030603393,\n",
       " 'rougeL': 0.5453815450513979,\n",
       " 'rougeLsum': 0.5453686862248985}"
      ]
     },
     "execution_count": 34,
     "metadata": {},
     "output_type": "execute_result"
    }
   ],
   "source": [
    "# 1 cfg 20 bs 1024 no clamp – test dataset (not valid)\n",
    "metric_rouge = rouge.compute(predictions=gen_texts, references=targets)\n",
    "metric_rouge"
   ]
  },
  {
   "cell_type": "code",
   "execution_count": 28,
   "id": "d5065369-bba3-4af8-b045-179cfbbb848b",
   "metadata": {},
   "outputs": [
    {
     "name": "stderr",
     "output_type": "stream",
     "text": [
      "Exception ignored in: <function _ConnectionBase.__del__ at 0x2b5fa90ddf70>\n",
      "Traceback (most recent call last):\n",
      "  File \"/home/amshabalin/anaconda3/lib/python3.9/multiprocessing/connection.py\", line 137, in __del__\n",
      "    self._close()\n",
      "  File \"/home/amshabalin/anaconda3/lib/python3.9/multiprocessing/connection.py\", line 366, in _close\n",
      "    _close(self._handle)\n",
      "OSError: [Errno 9] Bad file descriptor\n",
      "Exception ignored in: <function _ConnectionBase.__del__ at 0x2b5fa90ddf70>\n",
      "Traceback (most recent call last):\n",
      "  File \"/home/amshabalin/anaconda3/lib/python3.9/multiprocessing/connection.py\", line 137, in __del__\n",
      "    self._close()\n",
      "  File \"/home/amshabalin/anaconda3/lib/python3.9/multiprocessing/connection.py\", line 366, in _close\n",
      "    _close(self._handle)\n",
      "OSError: [Errno 9] Bad file descriptor\n",
      "Exception in thread QueueFeederThread:\n",
      "Traceback (most recent call last):\n",
      "  File \"/home/amshabalin/anaconda3/lib/python3.9/multiprocessing/queues.py\", line 240, in _feed\n",
      "    writer_close()\n",
      "  File \"/home/amshabalin/anaconda3/lib/python3.9/multiprocessing/connection.py\", line 182, in close\n",
      "    self._close()\n",
      "  File \"/home/amshabalin/anaconda3/lib/python3.9/multiprocessing/connection.py\", line 366, in _close\n",
      "    _close(self._handle)\n",
      "OSError: [Errno 9] Bad file descriptor\n",
      "\n",
      "During handling of the above exception, another exception occurred:\n",
      "\n",
      "Traceback (most recent call last):\n",
      "  File \"/home/amshabalin/anaconda3/lib/python3.9/threading.py\", line 980, in _bootstrap_inner\n",
      "    self.run()\n",
      "  File \"/home/amshabalin/anaconda3/lib/python3.9/threading.py\", line 917, in run\n",
      "    self._target(*self._args, **self._kwargs)\n",
      "  File \"/home/amshabalin/anaconda3/lib/python3.9/multiprocessing/queues.py\", line 271, in _feed\n",
      "    queue_sem.release()\n",
      "ValueError: semaphore or lock released too many times\n"
     ]
    },
    {
     "data": {
      "text/plain": [
       "{'rouge1': 0.5627699359082917,\n",
       " 'rouge2': 0.3255494445270894,\n",
       " 'rougeL': 0.5393257380402179,\n",
       " 'rougeLsum': 0.5395661984287607}"
      ]
     },
     "execution_count": 28,
     "metadata": {},
     "output_type": "execute_result"
    }
   ],
   "source": [
    "# 1 cfg 20 bs 1024 clamp 0.9\n",
    "metric_rouge = rouge.compute(predictions=gen_texts, references=targets)\n",
    "metric_rouge"
   ]
  },
  {
   "cell_type": "code",
   "execution_count": 31,
   "id": "e010d77b-2dca-4639-87a2-6dc208d4b8e5",
   "metadata": {},
   "outputs": [
    {
     "data": {
      "text/plain": [
       "{'rouge1': 0.5678311373670817,\n",
       " 'rouge2': 0.32929251877427823,\n",
       " 'rougeL': 0.5442986214677006,\n",
       " 'rougeLsum': 0.5445573303821403}"
      ]
     },
     "execution_count": 31,
     "metadata": {},
     "output_type": "execute_result"
    }
   ],
   "source": [
    "# 1 cfg 20 bs 1024\n",
    "metric_rouge = rouge.compute(predictions=gen_texts, references=targets)\n",
    "metric_rouge"
   ]
  },
  {
   "cell_type": "code",
   "execution_count": 25,
   "id": "4a27161a-af39-4150-b270-17d35fc5248d",
   "metadata": {},
   "outputs": [
    {
     "data": {
      "text/plain": [
       "{'rouge1': 0.5676704940249859,\n",
       " 'rouge2': 0.33290297427588245,\n",
       " 'rougeL': 0.5458472054645244,\n",
       " 'rougeLsum': 0.5460022232320917}"
      ]
     },
     "execution_count": 25,
     "metadata": {},
     "output_type": "execute_result"
    }
   ],
   "source": [
    "# 1 cfg 20 bs 1024 clamp 0.7\n",
    "metric_rouge = rouge.compute(predictions=gen_texts, references=targets)\n",
    "metric_rouge"
   ]
  },
  {
   "cell_type": "code",
   "execution_count": 22,
   "id": "8e6020f5-2a7d-469f-b7e1-6d5214d136c1",
   "metadata": {},
   "outputs": [
    {
     "data": {
      "text/plain": [
       "{'rouge1': 0.5686875849484325,\n",
       " 'rouge2': 0.33030485148552374,\n",
       " 'rougeL': 0.5454824354343126,\n",
       " 'rougeLsum': 0.5456190885083116}"
      ]
     },
     "execution_count": 22,
     "metadata": {},
     "output_type": "execute_result"
    }
   ],
   "source": [
    "# 1 cfg 20 bs 1024 clamp 0.5\n",
    "metric_rouge = rouge.compute(predictions=gen_texts, references=targets)\n",
    "metric_rouge"
   ]
  },
  {
   "cell_type": "code",
   "execution_count": 61,
   "id": "3df5b4e7-2324-494e-bfef-5d9bf1a4ebe6",
   "metadata": {},
   "outputs": [
    {
     "data": {
      "text/plain": [
       "{'rouge1': 0.5560247028431585,\n",
       " 'rouge2': 0.3205514052801577,\n",
       " 'rougeL': 0.533718409083922,\n",
       " 'rougeLsum': 0.5336241398401969}"
      ]
     },
     "execution_count": 61,
     "metadata": {},
     "output_type": "execute_result"
    }
   ],
   "source": [
    "# no cfg 20 bs 1024\n",
    "metric_rouge = rouge.compute(predictions=gen_texts, references=targets)\n",
    "metric_rouge"
   ]
  },
  {
   "cell_type": "code",
   "execution_count": 56,
   "id": "f5261beb-b723-4906-85bc-d1276bf8e31e",
   "metadata": {},
   "outputs": [
    {
     "data": {
      "text/plain": [
       "{'rouge1': 0.5455169691198494,\n",
       " 'rouge2': 0.3088684910915922,\n",
       " 'rougeL': 0.5237540191712287,\n",
       " 'rougeLsum': 0.5237990481991877}"
      ]
     },
     "execution_count": 56,
     "metadata": {},
     "output_type": "execute_result"
    }
   ],
   "source": [
    "# no cfg 100 bs 1024\n",
    "metric_rouge = rouge.compute(predictions=gen_texts, references=targets)\n",
    "metric_rouge"
   ]
  },
  {
   "cell_type": "code",
   "execution_count": 53,
   "id": "e5f4f289-3d1a-4c5b-bc0b-2eebaed2cf6c",
   "metadata": {},
   "outputs": [
    {
     "data": {
      "text/plain": [
       "{'rouge1': 0.5446125280522499,\n",
       " 'rouge2': 0.3093442416542225,\n",
       " 'rougeL': 0.5231340414470798,\n",
       " 'rougeLsum': 0.5231285739852141}"
      ]
     },
     "execution_count": 53,
     "metadata": {},
     "output_type": "execute_result"
    }
   ],
   "source": [
    "# no cfg 200 bs 1024\n",
    "metric_rouge = rouge.compute(predictions=gen_texts, references=targets)\n",
    "metric_rouge"
   ]
  },
  {
   "cell_type": "code",
   "execution_count": 91,
   "id": "43b2a270-3ca8-4658-93a9-ca2024c0c1d7",
   "metadata": {},
   "outputs": [
    {
     "data": {
      "text/plain": [
       "{'rouge1': 0.5429162011073421,\n",
       " 'rouge2': 0.30676838875325735,\n",
       " 'rougeL': 0.5214556956631643,\n",
       " 'rougeLsum': 0.5215236525630305}"
      ]
     },
     "execution_count": 91,
     "metadata": {},
     "output_type": "execute_result"
    }
   ],
   "source": [
    "# no cfg\n",
    "metric_rouge = rouge.compute(predictions=gen_texts, references=targets)\n",
    "metric_rouge"
   ]
  },
  {
   "cell_type": "code",
   "execution_count": 104,
   "id": "ae429d89-3a10-46c9-ac59-90d04d77f811",
   "metadata": {},
   "outputs": [
    {
     "data": {
      "text/plain": [
       "{'rouge1': 0.5434936132246557,\n",
       " 'rouge2': 0.30993720902208005,\n",
       " 'rougeL': 0.5233655134228584,\n",
       " 'rougeLsum': 0.5230376264057326}"
      ]
     },
     "execution_count": 104,
     "metadata": {},
     "output_type": "execute_result"
    }
   ],
   "source": [
    "# cfg 0\n",
    "metric_rouge = rouge.compute(predictions=gen_texts, references=targets)\n",
    "metric_rouge"
   ]
  },
  {
   "cell_type": "code",
   "execution_count": 46,
   "id": "04b81700-1be0-400e-a358-4498e7a7053f",
   "metadata": {},
   "outputs": [
    {
     "data": {
      "text/plain": [
       "{'rouge1': 0.5540548380547528,\n",
       " 'rouge2': 0.31535010403105446,\n",
       " 'rougeL': 0.530842889601568,\n",
       " 'rougeLsum': 0.5310577829941903}"
      ]
     },
     "execution_count": 46,
     "metadata": {},
     "output_type": "execute_result"
    }
   ],
   "source": [
    "# cfg 1 bs 1024\n",
    "metric_rouge = rouge.compute(predictions=gen_texts, references=targets)\n",
    "metric_rouge"
   ]
  },
  {
   "cell_type": "code",
   "execution_count": 102,
   "id": "86e597d8-d1ec-46cc-b889-a37fb44c1e37",
   "metadata": {},
   "outputs": [
    {
     "data": {
      "text/plain": [
       "{'rouge1': 0.5534376811971062,\n",
       " 'rouge2': 0.3163194017579374,\n",
       " 'rougeL': 0.5312247045400995,\n",
       " 'rougeLsum': 0.5313246519661172}"
      ]
     },
     "execution_count": 102,
     "metadata": {},
     "output_type": "execute_result"
    }
   ],
   "source": [
    "# cfg 1\n",
    "metric_rouge = rouge.compute(predictions=gen_texts, references=targets)\n",
    "metric_rouge"
   ]
  },
  {
   "cell_type": "code",
   "execution_count": 106,
   "id": "7e3c6db5-a796-4ca4-ae3b-75c55dd742f6",
   "metadata": {},
   "outputs": [
    {
     "data": {
      "text/plain": [
       "{'rouge1': 0.5496992648179506,\n",
       " 'rouge2': 0.31275748539109255,\n",
       " 'rougeL': 0.5273946953518552,\n",
       " 'rougeLsum': 0.5274618505653629}"
      ]
     },
     "execution_count": 106,
     "metadata": {},
     "output_type": "execute_result"
    }
   ],
   "source": [
    "# cfg 1.5\n",
    "metric_rouge = rouge.compute(predictions=gen_texts, references=targets)\n",
    "metric_rouge"
   ]
  },
  {
   "cell_type": "code",
   "execution_count": 100,
   "id": "820f0e20-76bf-4039-896d-2df7c152b7bc",
   "metadata": {},
   "outputs": [
    {
     "data": {
      "text/plain": [
       "{'rouge1': 0.5479333963415733,\n",
       " 'rouge2': 0.3083035407897302,\n",
       " 'rougeL': 0.5255510158789404,\n",
       " 'rougeLsum': 0.5253893266198046}"
      ]
     },
     "execution_count": 100,
     "metadata": {},
     "output_type": "execute_result"
    }
   ],
   "source": [
    "# cfg 2\n",
    "metric_rouge = rouge.compute(predictions=gen_texts, references=targets)\n",
    "metric_rouge"
   ]
  },
  {
   "cell_type": "code",
   "execution_count": 98,
   "id": "53821ebc-85bf-4341-a10b-c65690b0641e",
   "metadata": {},
   "outputs": [
    {
     "data": {
      "text/plain": [
       "{'rouge1': 0.5008756131061044,\n",
       " 'rouge2': 0.2622571528076741,\n",
       " 'rougeL': 0.4791804514919751,\n",
       " 'rougeLsum': 0.47919499835665336}"
      ]
     },
     "execution_count": 98,
     "metadata": {},
     "output_type": "execute_result"
    }
   ],
   "source": [
    "# cfg 5\n",
    "metric_rouge = rouge.compute(predictions=gen_texts, references=targets)\n",
    "metric_rouge"
   ]
  },
  {
   "cell_type": "code",
   "execution_count": 95,
   "id": "b3606208-7e28-4e5e-9187-792b77fcd4f8",
   "metadata": {},
   "outputs": [
    {
     "data": {
      "text/plain": [
       "{'rouge1': 0.44272549390708527,\n",
       " 'rouge2': 0.2107377678601921,\n",
       " 'rougeL': 0.42291599691133663,\n",
       " 'rougeLsum': 0.42294326931110415}"
      ]
     },
     "execution_count": 95,
     "metadata": {},
     "output_type": "execute_result"
    }
   ],
   "source": [
    "# cfg 7.5\n",
    "metric_rouge = rouge.compute(predictions=gen_texts, references=targets)\n",
    "metric_rouge"
   ]
  },
  {
   "cell_type": "code",
   "execution_count": 30,
   "id": "d8cf3491-492c-4c68-a2d6-bf7be2b7cc49",
   "metadata": {},
   "outputs": [
    {
     "data": {
      "text/plain": [
       "0.8035263816467074"
      ]
     },
     "execution_count": 30,
     "metadata": {},
     "output_type": "execute_result"
    }
   ],
   "source": [
    "metric_bertscore = bertscore.compute(predictions=gen_texts, references=targets, model_type=\"microsoft/deberta-xlarge-mnli\", device='cuda')\n",
    "np.mean(metric_bertscore['f1'])"
   ]
  },
  {
   "cell_type": "code",
   "execution_count": 50,
   "id": "72fe0153-0ce3-453d-aef1-f7c67b7415f0",
   "metadata": {},
   "outputs": [
    {
     "data": {
      "text/plain": [
       "(63.75, 4.15)"
      ]
     },
     "execution_count": 50,
     "metadata": {},
     "output_type": "execute_result"
    }
   ],
   "source": [
    "compute_bloom(gen_texts, bloom_metric)"
   ]
  },
  {
   "cell_type": "code",
   "execution_count": 32,
   "id": "cd63ca44-a70c-4802-a0d6-86cd481391b0",
   "metadata": {},
   "outputs": [
    {
     "data": {
      "application/vnd.jupyter.widget-view+json": {
       "model_id": "3f87989e0f004157bf7281c569821fe3",
       "version_major": 2,
       "version_minor": 0
      },
      "text/plain": [
       "Featurizing p:   0%|          | 0/2047 [00:00<?, ?it/s]"
      ]
     },
     "metadata": {},
     "output_type": "display_data"
    },
    {
     "data": {
      "application/vnd.jupyter.widget-view+json": {
       "model_id": "6e3a2f5f6fa44b46b9f833e87116920b",
       "version_major": 2,
       "version_minor": 0
      },
      "text/plain": [
       "Featurizing q:   0%|          | 0/2047 [00:00<?, ?it/s]"
      ]
     },
     "metadata": {},
     "output_type": "display_data"
    },
    {
     "name": "stderr",
     "output_type": "stream",
     "text": [
      "WARNING clustering 4094 points to 205 centroids: please provide at least 7995 training points\n"
     ]
    },
    {
     "data": {
      "text/plain": [
       "0.9415753687094206"
      ]
     },
     "execution_count": 32,
     "metadata": {},
     "output_type": "execute_result"
    }
   ],
   "source": [
    "metric_mauve = mauve.compute(predictions=gen_texts, references=targets, device_id=0, verbose=False)\n",
    "metric_mauve.mauve"
   ]
  },
  {
   "cell_type": "code",
   "execution_count": 87,
   "id": "a2ca32e7-0c75-47e5-9fca-146324a6f74c",
   "metadata": {},
   "outputs": [
    {
     "data": {
      "text/plain": [
       "['Why does he want to have sex with me not her?',\n",
       " 'When/how did you realize were not straight?',\n",
       " 'Where can you get a Scooby Doo dog coll?',\n",
       " 'What do you think the cutoff of KVPY 2016 SA would be?',\n",
       " 'Why is Tokyo so big?']"
      ]
     },
     "execution_count": 87,
     "metadata": {},
     "output_type": "execute_result"
    }
   ],
   "source": [
    "conds[:5]"
   ]
  },
  {
   "cell_type": "code",
   "execution_count": 32,
   "id": "ac5c7e4d-7e05-48f4-b0e0-fd30fa288f3f",
   "metadata": {},
   "outputs": [
    {
     "data": {
      "text/plain": [
       "['why does he want to have sex with me?',\n",
       " 'when did you first realize you were / gay / bisexual / lesbian?',\n",
       " 'where can i get a hoo doo dog?',\n",
       " 'what is the expected cutoff for kvpy sa 2016?',\n",
       " 'why is tokyo so big?']"
      ]
     },
     "execution_count": 32,
     "metadata": {},
     "output_type": "execute_result"
    }
   ],
   "source": [
    "gen_texts[:5]"
   ]
  },
  {
   "cell_type": "code",
   "execution_count": 89,
   "id": "1a4e8948-4e70-4e2b-ad2d-aef72f25a28b",
   "metadata": {},
   "outputs": [
    {
     "data": {
      "text/plain": [
       "['why did he chose me to have sex with?',\n",
       " 'when / how did you realize you were gay / bisexual? were you in denial?',\n",
       " 'can you get a scooby doo collar for your dog?',\n",
       " 'what do you think about the kvpy 2016 paper?',\n",
       " 'why has tokyo grown to be a such large city?']"
      ]
     },
     "execution_count": 89,
     "metadata": {},
     "output_type": "execute_result"
    }
   ],
   "source": [
    "targets[:5]"
   ]
  },
  {
   "cell_type": "code",
   "execution_count": null,
   "id": "dda77fb9-0c6a-4e2d-8388-e0d17921ffa2",
   "metadata": {},
   "outputs": [],
   "source": []
  },
  {
   "cell_type": "code",
   "execution_count": 219,
   "id": "cb6e34c4-a2f9-4dc3-983a-be43b9fae3e6",
   "metadata": {},
   "outputs": [],
   "source": [
    "batch = next(iter(diffusion.valid_loader))"
   ]
  },
  {
   "cell_type": "code",
   "execution_count": 221,
   "id": "154d358e-9601-415a-b412-86cadb7d4cbb",
   "metadata": {},
   "outputs": [
    {
     "data": {
      "text/plain": [
       "dict_keys(['input_ids', 'cond_ids', 'input_mask', 'cond_mask', 'input_latent'])"
      ]
     },
     "execution_count": 221,
     "metadata": {},
     "output_type": "execute_result"
    }
   ],
   "source": [
    "batch.keys()"
   ]
  },
  {
   "cell_type": "code",
   "execution_count": 181,
   "id": "8bc36634-e96e-410b-8a43-5bc0f811d238",
   "metadata": {},
   "outputs": [],
   "source": [
    "cond_X = diffusion.encoder_cond(**{\"input_ids\": batch[\"cond_ids\"].to(device), \"attention_mask\": batch[\"cond_mask\"].to(device)})\n",
    "cond_mask = batch[\"cond_mask\"].to(device)\n",
    "latents = diffusion.normalize(batch['input_latent']).to(device)\n",
    "x_0_self_cond = torch.zeros_like(latents, dtype=latents.dtype)\n",
    "\n",
    "noise = torch.randn_like(latents)"
   ]
  },
  {
   "cell_type": "code",
   "execution_count": 182,
   "id": "84060c7d-17ba-4ab1-a530-3b1b22e50876",
   "metadata": {},
   "outputs": [],
   "source": [
    "from utils.util import bert_acc"
   ]
  },
  {
   "cell_type": "code",
   "execution_count": 183,
   "id": "c49f4954-dec2-4227-899f-1ed7fb987c18",
   "metadata": {},
   "outputs": [
    {
     "data": {
      "application/vnd.jupyter.widget-view+json": {
       "model_id": "9775c94bb9594e39b2f662b0e14d149c",
       "version_major": 2,
       "version_minor": 0
      },
      "text/plain": [
       "  0%|          | 0/100 [00:00<?, ?it/s]"
      ]
     },
     "metadata": {},
     "output_type": "display_data"
    }
   ],
   "source": [
    "losses = []\n",
    "accuracies = []\n",
    "\n",
    "ts = np.linspace(0, 1, 100)\n",
    "for i, t in enumerate(tqdm(ts)):\n",
    "    t = torch.tensor(t).unsqueeze(0).repeat(len(latents)).to(device).float()\n",
    "    x_t = diffusion.dynamic.marginal(latents, t)['x_t']\n",
    "\n",
    "    with torch.no_grad():\n",
    "        x_0 = diffusion.score_estimator(\n",
    "            x_t.contiguous(),\n",
    "            t,\n",
    "            cond=cond_X,\n",
    "            cond_mask=cond_mask,\n",
    "            x_0_self_cond=x_0_self_cond\n",
    "        )\n",
    "\n",
    "    rec_loss = F.mse_loss(x_0.float(), latents.float())\n",
    "    losses.append(rec_loss.item())\n",
    "\n",
    "    with torch.no_grad():\n",
    "        logits = diffusion.pred_logits(pred_embeddings=x_0).cpu()\n",
    "\n",
    "    accuracy = torch.sum(batch[\"input_mask\"] * (batch['input_ids'] == logits.argmax(-1))) / torch.sum(batch[\"input_mask\"])\n",
    "    accuracies.append(accuracy)"
   ]
  },
  {
   "cell_type": "code",
   "execution_count": 184,
   "id": "b3ca3111-01de-4628-bdda-ce3f61890a5d",
   "metadata": {},
   "outputs": [
    {
     "data": {
      "image/png": "[encoded data removed]",
      "text/plain": [
       "<Figure size 1000x400 with 2 Axes>"
      ]
     },
     "metadata": {},
     "output_type": "display_data"
    }
   ],
   "source": [
    "plt.figure(figsize=(10, 4))\n",
    "plt.subplot(1, 2, 1)\n",
    "plt.plot(ts, losses)\n",
    "plt.title('Reconstruction loss', size=16)\n",
    "plt.xlabel('t', size=14)\n",
    "plt.grid()\n",
    "\n",
    "plt.subplot(1, 2, 2)\n",
    "plt.plot(ts, accuracies)\n",
    "plt.title('Token accuracy', size=16)\n",
    "plt.xlabel('t', size=14)\n",
    "plt.grid()"
   ]
  },
  {
   "cell_type": "code",
   "execution_count": null,
   "id": "e2393535-1093-4c6d-832f-3d613c400d76",
   "metadata": {},
   "outputs": [],
   "source": []
  },
  {
   "cell_type": "code",
   "execution_count": 2,
   "id": "09cf2116-2bfb-456b-b1b8-05b0627e7657",
   "metadata": {},
   "outputs": [],
   "source": [
    "split = 'valid'\n",
    "max_sequence_len = 50"
   ]
  },
  {
   "cell_type": "code",
   "execution_count": 3,
   "id": "d110bb03-3032-4559-9cb0-a51e77888c41",
   "metadata": {},
   "outputs": [],
   "source": [
    "from datasets import Dataset"
   ]
  },
  {
   "cell_type": "code",
   "execution_count": 43,
   "id": "061db742-48e2-44ad-82b6-33b2852ed711",
   "metadata": {},
   "outputs": [],
   "source": [
    "def batch_preprocessing_conditional(batch):\n",
    "    # Text encode\n",
    "    batch = pd.DataFrame(batch).to_dict(orient=\"list\")\n",
    "\n",
    "    if split == 'train':\n",
    "        swap_rate = 0.5\n",
    "        blank_cond_rate = 0.1\n",
    "    else:\n",
    "        swap_rate = 0\n",
    "        blank_cond_rate = 0\n",
    "\n",
    "    if np.random.rand() < swap_rate:\n",
    "        batch['text_trg'], batch['text_src'], batch['latent_trg'] = batch['text_src'], batch['text_trg'], batch['latent_src']\n",
    "\n",
    "    input_ = tokenizer_gen(\n",
    "        batch['text_trg'],\n",
    "        add_special_tokens=True,\n",
    "        padding=\"max_length\",\n",
    "        truncation=True,\n",
    "        max_length=max_sequence_len,\n",
    "        return_tensors=\"pt\",\n",
    "    )\n",
    "\n",
    "    if np.random.rand() < blank_cond_rate:\n",
    "        batch['text_src'] = [''] * len(batch['text_src'])\n",
    "\n",
    "    cond_ = tokenizer_gen(\n",
    "        batch['text_src'],\n",
    "        add_special_tokens=True,\n",
    "        padding=True,\n",
    "        return_tensors=\"pt\",\n",
    "    )\n",
    "    output = {\n",
    "        \"input_ids\": input_[\"input_ids\"],\n",
    "        \"cond_ids\": cond_[\"input_ids\"],\n",
    "        \"input_mask\": input_[\"attention_mask\"],\n",
    "        \"cond_mask\": cond_[\"attention_mask\"],\n",
    "        \"input_latent\": batch['latent_trg'],\n",
    "    }\n",
    "\n",
    "    return output"
   ]
  },
  {
   "cell_type": "code",
   "execution_count": 41,
   "id": "36857306-b8ba-41d9-ade8-ca77c307d303",
   "metadata": {},
   "outputs": [
    {
     "data": {
      "application/vnd.jupyter.widget-view+json": {
       "model_id": "f00b6bea46d14555b9cc1f14f0b4506e",
       "version_major": 2,
       "version_minor": 0
      },
      "text/plain": [
       "  0%|          | 0/4 [00:00<?, ?it/s]"
      ]
     },
     "metadata": {},
     "output_type": "display_data"
    }
   ],
   "source": [
    "new_dt = []\n",
    "for i in tqdm(range(0, len(dt), 512)):\n",
    "    output = batch_preprocessing_conditional(dt[i:i+512])\n",
    "    keys = list(output.keys())\n",
    "    list_output = []\n",
    "    for i in range(len(output[keys[0]])):\n",
    "        new_dict = {}\n",
    "        for k in keys:\n",
    "            new_dict[k] = output[k][i]\n",
    "\n",
    "        list_output.append(new_dict)\n",
    "    \n",
    "    new_dt.extend(list_output)"
   ]
  },
  {
   "cell_type": "code",
   "execution_count": null,
   "id": "d917bd15-d29a-475a-be55-534e90f93747",
   "metadata": {},
   "outputs": [],
   "source": [
    "len(new_dt)"
   ]
  },
  {
   "cell_type": "code",
   "execution_count": 43,
   "id": "894d679c-762a-4788-ae4f-1042bfa48748",
   "metadata": {},
   "outputs": [],
   "source": [
    "dt = Dataset.from_list(new_dt)\n",
    "\n",
    "dt = dt.with_format(\"pt\", columns=[\"input_ids\", \"cond_ids\", \"input_mask\", \"cond_mask\", \"input_latent\"])  # , \"cond_latent\"])"
   ]
  },
  {
   "cell_type": "code",
   "execution_count": 17,
   "id": "36865158-4bd3-4471-9379-58d71935971f",
   "metadata": {},
   "outputs": [
    {
     "data": {
      "text/plain": [
       "Dataset({\n",
       "    features: ['text_src', 'text_trg', 'latent_src', 'latent_trg'],\n",
       "    num_rows: 2047\n",
       "})"
      ]
     },
     "execution_count": 17,
     "metadata": {},
     "output_type": "execute_result"
    }
   ],
   "source": [
    "dt"
   ]
  },
  {
   "cell_type": "code",
   "execution_count": 44,
   "id": "4b6729d0-da9c-4ebf-9537-b5e2544b553b",
   "metadata": {},
   "outputs": [],
   "source": [
    "valid_loader = DataLoader(\n",
    "    dt,\n",
    "    collate_fn=batch_preprocessing_conditional,\n",
    "    batch_size=8,\n",
    "    # num_workers=10,\n",
    "    num_workers=0,\n",
    "    pin_memory=True,\n",
    ")"
   ]
  },
  {
   "cell_type": "code",
   "execution_count": 45,
   "id": "9de345d8-69bf-4d31-b518-a857737ee1a9",
   "metadata": {},
   "outputs": [],
   "source": [
    "batch = next(iter(valid_loader))"
   ]
  },
  {
   "cell_type": "code",
   "execution_count": 47,
   "id": "bdaad2a7-8e37-428b-adf0-30e4f85b9f95",
   "metadata": {},
   "outputs": [
    {
     "data": {
      "text/plain": [
       "dict_keys(['input_ids', 'cond_ids', 'input_mask', 'cond_mask', 'input_latent'])"
      ]
     },
     "execution_count": 47,
     "metadata": {},
     "output_type": "execute_result"
    }
   ],
   "source": [
    "batch.keys()"
   ]
  },
  {
   "cell_type": "code",
   "execution_count": null,
   "id": "f9536adf-b2cc-485d-b3b8-bbd74b55c208",
   "metadata": {},
   "outputs": [],
   "source": [
    "batch['input_latent'][0][0]"
   ]
  },
  {
   "cell_type": "code",
   "execution_count": 58,
   "id": "6fbe25ac-fe3e-4460-8031-548283d706db",
   "metadata": {},
   "outputs": [],
   "source": [
    "c = torch.tensor(batch['input_latent'])"
   ]
  },
  {
   "cell_type": "code",
   "execution_count": 59,
   "id": "b7d5e4df-32f8-41e6-89d9-e3f04ae49252",
   "metadata": {},
   "outputs": [
    {
     "data": {
      "text/plain": [
       "torch.Size([8, 50, 768])"
      ]
     },
     "execution_count": 59,
     "metadata": {},
     "output_type": "execute_result"
    }
   ],
   "source": [
    "c.shape"
   ]
  },
  {
   "cell_type": "code",
   "execution_count": 10,
   "id": "2a08c572-d60b-4c8b-a45e-faa7c38409bb",
   "metadata": {},
   "outputs": [],
   "source": [
    "input_latent = batch['latent_trg']\n",
    "input_latent = torch.stack([\n",
    "    torch.stack(input_latent[i]) for i in range(len(input_latent))\n",
    "]).permute(2, 0, 1)"
   ]
  },
  {
   "cell_type": "code",
   "execution_count": 70,
   "id": "9a4d1615-a33f-4f86-ac0f-835438ce6a9b",
   "metadata": {},
   "outputs": [],
   "source": []
  },
  {
   "cell_type": "code",
   "execution_count": 12,
   "id": "84af8765-c1c7-41e0-a430-d96b251fa402",
   "metadata": {},
   "outputs": [],
   "source": [
    "tokenizer_gen = AutoTokenizer.from_pretrained('bert-base-uncased')"
   ]
  },
  {
   "cell_type": "code",
   "execution_count": 12,
   "id": "ea41c8d2-9916-47c5-97fd-84dfd2348e37",
   "metadata": {},
   "outputs": [],
   "source": [
    "input_ = tokenizer_gen(\n",
    "            batch['text_trg'],\n",
    "            add_special_tokens=True,\n",
    "            padding=\"max_length\",\n",
    "            truncation=True,\n",
    "            max_length=50,\n",
    "        )\n"
   ]
  },
  {
   "cell_type": "code",
   "execution_count": null,
   "id": "d347bf83-f20e-4ed1-811f-acf1383258a0",
   "metadata": {},
   "outputs": [],
   "source": []
  }
 ],
 "metadata": {
  "kernelspec": {
   "display_name": "Python [anaconda3]",
   "language": "python",
   "name": "conda-env-anaconda3-py"
  },
  "language_info": {
   "codemirror_mode": {
    "name": "ipython",
    "version": 3
   },
   "file_extension": ".py",
   "mimetype": "text/x-python",
   "name": "python",
   "nbconvert_exporter": "python",
   "pygments_lexer": "ipython3",
   "version": "3.9.13"
  }
 },
 "nbformat": 4,
 "nbformat_minor": 5
}
